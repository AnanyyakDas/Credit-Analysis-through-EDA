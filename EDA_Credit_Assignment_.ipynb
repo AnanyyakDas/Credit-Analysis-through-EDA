{
 "cells": [
  {
   "cell_type": "markdown",
   "id": "688867ac",
   "metadata": {},
   "source": [
    "# Credit EDA Assignment"
   ]
  },
  {
   "cell_type": "markdown",
   "id": "65b19c1a",
   "metadata": {},
   "source": [
    "# Introduction"
   ]
  },
  {
   "cell_type": "markdown",
   "id": "ba0abc36",
   "metadata": {},
   "source": [
    "This assignment aims to give you an idea of applying EDA in a real business scenario. In this assignment, apart from applying the techniques that you have learnt in the EDA module, you will also develop a basic understanding of risk analytics in banking and financial services and understand how data is used to minimise the risk of losing money while lending to customers."
   ]
  },
  {
   "cell_type": "markdown",
   "id": "997e0406",
   "metadata": {},
   "source": [
    "# Business Objective"
   ]
  },
  {
   "cell_type": "markdown",
   "id": "67634a01",
   "metadata": {},
   "source": [
    "This case study aims to identify patterns which indicate if a client has difficulty paying their installments which may be used for taking actions such as denying the loan, reducing the amount of loan, lending (to risky applicants) at a higher interest rate, etc. This will ensure that the consumers capable of repaying the loan are not rejected. Identification of such applicants using EDA is the aim of this case study."
   ]
  },
  {
   "cell_type": "markdown",
   "id": "ac879bae",
   "metadata": {},
   "source": [
    "# Importing the libraries"
   ]
  },
  {
   "cell_type": "code",
   "execution_count": 3,
   "id": "2e01d1e8",
   "metadata": {},
   "outputs": [],
   "source": [
    "import warnings\n",
    "warnings.filterwarnings(\"ignore\")"
   ]
  },
  {
   "cell_type": "code",
   "execution_count": 4,
   "id": "4244262c",
   "metadata": {},
   "outputs": [],
   "source": [
    "import jovian"
   ]
  },
  {
   "cell_type": "code",
   "execution_count": 5,
   "id": "49684b36",
   "metadata": {},
   "outputs": [],
   "source": [
    "import numpy as np\n",
    "import pandas as pd\n",
    "import matplotlib.pyplot as plt\n",
    "import seaborn as sns"
   ]
  },
  {
   "cell_type": "markdown",
   "id": "985ca73e",
   "metadata": {},
   "source": [
    "# Reading and loading the data"
   ]
  },
  {
   "cell_type": "code",
   "execution_count": 6,
   "id": "7eabda03",
   "metadata": {},
   "outputs": [
    {
     "data": {
      "text/html": [
       "<div>\n",
       "<style scoped>\n",
       "    .dataframe tbody tr th:only-of-type {\n",
       "        vertical-align: middle;\n",
       "    }\n",
       "\n",
       "    .dataframe tbody tr th {\n",
       "        vertical-align: top;\n",
       "    }\n",
       "\n",
       "    .dataframe thead th {\n",
       "        text-align: right;\n",
       "    }\n",
       "</style>\n",
       "<table border=\"1\" class=\"dataframe\">\n",
       "  <thead>\n",
       "    <tr style=\"text-align: right;\">\n",
       "      <th></th>\n",
       "      <th>SK_ID_CURR</th>\n",
       "      <th>TARGET</th>\n",
       "      <th>NAME_CONTRACT_TYPE</th>\n",
       "      <th>CODE_GENDER</th>\n",
       "      <th>FLAG_OWN_CAR</th>\n",
       "      <th>FLAG_OWN_REALTY</th>\n",
       "      <th>CNT_CHILDREN</th>\n",
       "      <th>AMT_INCOME_TOTAL</th>\n",
       "      <th>AMT_CREDIT</th>\n",
       "      <th>AMT_ANNUITY</th>\n",
       "      <th>...</th>\n",
       "      <th>FLAG_DOCUMENT_18</th>\n",
       "      <th>FLAG_DOCUMENT_19</th>\n",
       "      <th>FLAG_DOCUMENT_20</th>\n",
       "      <th>FLAG_DOCUMENT_21</th>\n",
       "      <th>AMT_REQ_CREDIT_BUREAU_HOUR</th>\n",
       "      <th>AMT_REQ_CREDIT_BUREAU_DAY</th>\n",
       "      <th>AMT_REQ_CREDIT_BUREAU_WEEK</th>\n",
       "      <th>AMT_REQ_CREDIT_BUREAU_MON</th>\n",
       "      <th>AMT_REQ_CREDIT_BUREAU_QRT</th>\n",
       "      <th>AMT_REQ_CREDIT_BUREAU_YEAR</th>\n",
       "    </tr>\n",
       "  </thead>\n",
       "  <tbody>\n",
       "    <tr>\n",
       "      <th>0</th>\n",
       "      <td>100002</td>\n",
       "      <td>1</td>\n",
       "      <td>Cash loans</td>\n",
       "      <td>M</td>\n",
       "      <td>N</td>\n",
       "      <td>Y</td>\n",
       "      <td>0</td>\n",
       "      <td>202500.0</td>\n",
       "      <td>406597.5</td>\n",
       "      <td>24700.5</td>\n",
       "      <td>...</td>\n",
       "      <td>0</td>\n",
       "      <td>0</td>\n",
       "      <td>0</td>\n",
       "      <td>0</td>\n",
       "      <td>0.0</td>\n",
       "      <td>0.0</td>\n",
       "      <td>0.0</td>\n",
       "      <td>0.0</td>\n",
       "      <td>0.0</td>\n",
       "      <td>1.0</td>\n",
       "    </tr>\n",
       "    <tr>\n",
       "      <th>1</th>\n",
       "      <td>100003</td>\n",
       "      <td>0</td>\n",
       "      <td>Cash loans</td>\n",
       "      <td>F</td>\n",
       "      <td>N</td>\n",
       "      <td>N</td>\n",
       "      <td>0</td>\n",
       "      <td>270000.0</td>\n",
       "      <td>1293502.5</td>\n",
       "      <td>35698.5</td>\n",
       "      <td>...</td>\n",
       "      <td>0</td>\n",
       "      <td>0</td>\n",
       "      <td>0</td>\n",
       "      <td>0</td>\n",
       "      <td>0.0</td>\n",
       "      <td>0.0</td>\n",
       "      <td>0.0</td>\n",
       "      <td>0.0</td>\n",
       "      <td>0.0</td>\n",
       "      <td>0.0</td>\n",
       "    </tr>\n",
       "    <tr>\n",
       "      <th>2</th>\n",
       "      <td>100004</td>\n",
       "      <td>0</td>\n",
       "      <td>Revolving loans</td>\n",
       "      <td>M</td>\n",
       "      <td>Y</td>\n",
       "      <td>Y</td>\n",
       "      <td>0</td>\n",
       "      <td>67500.0</td>\n",
       "      <td>135000.0</td>\n",
       "      <td>6750.0</td>\n",
       "      <td>...</td>\n",
       "      <td>0</td>\n",
       "      <td>0</td>\n",
       "      <td>0</td>\n",
       "      <td>0</td>\n",
       "      <td>0.0</td>\n",
       "      <td>0.0</td>\n",
       "      <td>0.0</td>\n",
       "      <td>0.0</td>\n",
       "      <td>0.0</td>\n",
       "      <td>0.0</td>\n",
       "    </tr>\n",
       "    <tr>\n",
       "      <th>3</th>\n",
       "      <td>100006</td>\n",
       "      <td>0</td>\n",
       "      <td>Cash loans</td>\n",
       "      <td>F</td>\n",
       "      <td>N</td>\n",
       "      <td>Y</td>\n",
       "      <td>0</td>\n",
       "      <td>135000.0</td>\n",
       "      <td>312682.5</td>\n",
       "      <td>29686.5</td>\n",
       "      <td>...</td>\n",
       "      <td>0</td>\n",
       "      <td>0</td>\n",
       "      <td>0</td>\n",
       "      <td>0</td>\n",
       "      <td>NaN</td>\n",
       "      <td>NaN</td>\n",
       "      <td>NaN</td>\n",
       "      <td>NaN</td>\n",
       "      <td>NaN</td>\n",
       "      <td>NaN</td>\n",
       "    </tr>\n",
       "    <tr>\n",
       "      <th>4</th>\n",
       "      <td>100007</td>\n",
       "      <td>0</td>\n",
       "      <td>Cash loans</td>\n",
       "      <td>M</td>\n",
       "      <td>N</td>\n",
       "      <td>Y</td>\n",
       "      <td>0</td>\n",
       "      <td>121500.0</td>\n",
       "      <td>513000.0</td>\n",
       "      <td>21865.5</td>\n",
       "      <td>...</td>\n",
       "      <td>0</td>\n",
       "      <td>0</td>\n",
       "      <td>0</td>\n",
       "      <td>0</td>\n",
       "      <td>0.0</td>\n",
       "      <td>0.0</td>\n",
       "      <td>0.0</td>\n",
       "      <td>0.0</td>\n",
       "      <td>0.0</td>\n",
       "      <td>0.0</td>\n",
       "    </tr>\n",
       "  </tbody>\n",
       "</table>\n",
       "<p>5 rows × 122 columns</p>\n",
       "</div>"
      ],
      "text/plain": [
       "   SK_ID_CURR  TARGET NAME_CONTRACT_TYPE CODE_GENDER FLAG_OWN_CAR  \\\n",
       "0      100002       1         Cash loans           M            N   \n",
       "1      100003       0         Cash loans           F            N   \n",
       "2      100004       0    Revolving loans           M            Y   \n",
       "3      100006       0         Cash loans           F            N   \n",
       "4      100007       0         Cash loans           M            N   \n",
       "\n",
       "  FLAG_OWN_REALTY  CNT_CHILDREN  AMT_INCOME_TOTAL  AMT_CREDIT  AMT_ANNUITY  \\\n",
       "0               Y             0          202500.0    406597.5      24700.5   \n",
       "1               N             0          270000.0   1293502.5      35698.5   \n",
       "2               Y             0           67500.0    135000.0       6750.0   \n",
       "3               Y             0          135000.0    312682.5      29686.5   \n",
       "4               Y             0          121500.0    513000.0      21865.5   \n",
       "\n",
       "   ...  FLAG_DOCUMENT_18 FLAG_DOCUMENT_19 FLAG_DOCUMENT_20 FLAG_DOCUMENT_21  \\\n",
       "0  ...                 0                0                0                0   \n",
       "1  ...                 0                0                0                0   \n",
       "2  ...                 0                0                0                0   \n",
       "3  ...                 0                0                0                0   \n",
       "4  ...                 0                0                0                0   \n",
       "\n",
       "  AMT_REQ_CREDIT_BUREAU_HOUR AMT_REQ_CREDIT_BUREAU_DAY  \\\n",
       "0                        0.0                       0.0   \n",
       "1                        0.0                       0.0   \n",
       "2                        0.0                       0.0   \n",
       "3                        NaN                       NaN   \n",
       "4                        0.0                       0.0   \n",
       "\n",
       "   AMT_REQ_CREDIT_BUREAU_WEEK  AMT_REQ_CREDIT_BUREAU_MON  \\\n",
       "0                         0.0                        0.0   \n",
       "1                         0.0                        0.0   \n",
       "2                         0.0                        0.0   \n",
       "3                         NaN                        NaN   \n",
       "4                         0.0                        0.0   \n",
       "\n",
       "   AMT_REQ_CREDIT_BUREAU_QRT  AMT_REQ_CREDIT_BUREAU_YEAR  \n",
       "0                        0.0                         1.0  \n",
       "1                        0.0                         0.0  \n",
       "2                        0.0                         0.0  \n",
       "3                        NaN                         NaN  \n",
       "4                        0.0                         0.0  \n",
       "\n",
       "[5 rows x 122 columns]"
      ]
     },
     "execution_count": 6,
     "metadata": {},
     "output_type": "execute_result"
    }
   ],
   "source": [
    "ad=pd.read_csv(\"application_data.csv\")\n",
    "ad.head(5)"
   ]
  },
  {
   "cell_type": "code",
   "execution_count": 7,
   "id": "b1ffa76c",
   "metadata": {},
   "outputs": [],
   "source": [
    "pa=pd.read_csv(\"previous_application.csv\")\n"
   ]
  },
  {
   "cell_type": "code",
   "execution_count": 8,
   "id": "76a65128",
   "metadata": {},
   "outputs": [],
   "source": [
    "cd=pd.read_csv(\"columns_description.csv\",encoding=\"ISO-8859–1\")"
   ]
  },
  {
   "cell_type": "markdown",
   "id": "11388334",
   "metadata": {},
   "source": [
    "# Handling the missing Data , Cleaning the data and removing unrequired columns"
   ]
  },
  {
   "cell_type": "code",
   "execution_count": 9,
   "id": "b891d448",
   "metadata": {},
   "outputs": [
    {
     "name": "stdout",
     "output_type": "stream",
     "text": [
      "<class 'pandas.core.frame.DataFrame'>\n",
      "RangeIndex: 307511 entries, 0 to 307510\n",
      "Columns: 122 entries, SK_ID_CURR to AMT_REQ_CREDIT_BUREAU_YEAR\n",
      "dtypes: float64(65), int64(41), object(16)\n",
      "memory usage: 286.2+ MB\n"
     ]
    }
   ],
   "source": [
    "ad.info()"
   ]
  },
  {
   "cell_type": "code",
   "execution_count": 10,
   "id": "049008f1",
   "metadata": {},
   "outputs": [
    {
     "data": {
      "text/plain": [
       "SK_ID_CURR                        0\n",
       "TARGET                            0\n",
       "NAME_CONTRACT_TYPE                0\n",
       "CODE_GENDER                       0\n",
       "FLAG_OWN_CAR                      0\n",
       "                              ...  \n",
       "AMT_REQ_CREDIT_BUREAU_DAY     41519\n",
       "AMT_REQ_CREDIT_BUREAU_WEEK    41519\n",
       "AMT_REQ_CREDIT_BUREAU_MON     41519\n",
       "AMT_REQ_CREDIT_BUREAU_QRT     41519\n",
       "AMT_REQ_CREDIT_BUREAU_YEAR    41519\n",
       "Length: 122, dtype: int64"
      ]
     },
     "execution_count": 10,
     "metadata": {},
     "output_type": "execute_result"
    }
   ],
   "source": [
    "ad.isnull().sum()"
   ]
  },
  {
   "cell_type": "markdown",
   "id": "93182bc0",
   "metadata": {},
   "source": [
    "-- Dropping those coulmns which have more than 40 % missing values in them as if we try to fill those columns, our data -analysis and data visualisation might not come out correct"
   ]
  },
  {
   "cell_type": "code",
   "execution_count": 11,
   "id": "a3e9d7cb",
   "metadata": {},
   "outputs": [],
   "source": [
    "pd.set_option(\"display.max_rows\",100)"
   ]
  },
  {
   "cell_type": "code",
   "execution_count": 12,
   "id": "24052fe9",
   "metadata": {},
   "outputs": [
    {
     "data": {
      "text/html": [
       "<div>\n",
       "<style scoped>\n",
       "    .dataframe tbody tr th:only-of-type {\n",
       "        vertical-align: middle;\n",
       "    }\n",
       "\n",
       "    .dataframe tbody tr th {\n",
       "        vertical-align: top;\n",
       "    }\n",
       "\n",
       "    .dataframe thead th {\n",
       "        text-align: right;\n",
       "    }\n",
       "</style>\n",
       "<table border=\"1\" class=\"dataframe\">\n",
       "  <thead>\n",
       "    <tr style=\"text-align: right;\">\n",
       "      <th></th>\n",
       "      <th>column</th>\n",
       "      <th>Missing</th>\n",
       "    </tr>\n",
       "  </thead>\n",
       "  <tbody>\n",
       "    <tr>\n",
       "      <th>76</th>\n",
       "      <td>COMMONAREA_MEDI</td>\n",
       "      <td>0.698723</td>\n",
       "    </tr>\n",
       "    <tr>\n",
       "      <th>48</th>\n",
       "      <td>COMMONAREA_AVG</td>\n",
       "      <td>0.698723</td>\n",
       "    </tr>\n",
       "    <tr>\n",
       "      <th>62</th>\n",
       "      <td>COMMONAREA_MODE</td>\n",
       "      <td>0.698723</td>\n",
       "    </tr>\n",
       "    <tr>\n",
       "      <th>70</th>\n",
       "      <td>NONLIVINGAPARTMENTS_MODE</td>\n",
       "      <td>0.694330</td>\n",
       "    </tr>\n",
       "    <tr>\n",
       "      <th>56</th>\n",
       "      <td>NONLIVINGAPARTMENTS_AVG</td>\n",
       "      <td>0.694330</td>\n",
       "    </tr>\n",
       "    <tr>\n",
       "      <th>...</th>\n",
       "      <td>...</td>\n",
       "      <td>...</td>\n",
       "    </tr>\n",
       "    <tr>\n",
       "      <th>15</th>\n",
       "      <td>NAME_HOUSING_TYPE</td>\n",
       "      <td>0.000000</td>\n",
       "    </tr>\n",
       "    <tr>\n",
       "      <th>14</th>\n",
       "      <td>NAME_FAMILY_STATUS</td>\n",
       "      <td>0.000000</td>\n",
       "    </tr>\n",
       "    <tr>\n",
       "      <th>13</th>\n",
       "      <td>NAME_EDUCATION_TYPE</td>\n",
       "      <td>0.000000</td>\n",
       "    </tr>\n",
       "    <tr>\n",
       "      <th>12</th>\n",
       "      <td>NAME_INCOME_TYPE</td>\n",
       "      <td>0.000000</td>\n",
       "    </tr>\n",
       "    <tr>\n",
       "      <th>0</th>\n",
       "      <td>SK_ID_CURR</td>\n",
       "      <td>0.000000</td>\n",
       "    </tr>\n",
       "  </tbody>\n",
       "</table>\n",
       "<p>122 rows × 2 columns</p>\n",
       "</div>"
      ],
      "text/plain": [
       "                      column   Missing\n",
       "76           COMMONAREA_MEDI  0.698723\n",
       "48            COMMONAREA_AVG  0.698723\n",
       "62           COMMONAREA_MODE  0.698723\n",
       "70  NONLIVINGAPARTMENTS_MODE  0.694330\n",
       "56   NONLIVINGAPARTMENTS_AVG  0.694330\n",
       "..                       ...       ...\n",
       "15         NAME_HOUSING_TYPE  0.000000\n",
       "14        NAME_FAMILY_STATUS  0.000000\n",
       "13       NAME_EDUCATION_TYPE  0.000000\n",
       "12          NAME_INCOME_TYPE  0.000000\n",
       "0                 SK_ID_CURR  0.000000\n",
       "\n",
       "[122 rows x 2 columns]"
      ]
     },
     "execution_count": 12,
     "metadata": {},
     "output_type": "execute_result"
    }
   ],
   "source": [
    "temp=ad.isnull().mean().reset_index().rename(columns={\"index\":\"column\",0:\"Missing\"}).sort_values(by='Missing',ascending=False)\n",
    "temp"
   ]
  },
  {
   "cell_type": "code",
   "execution_count": 13,
   "id": "2acbca31",
   "metadata": {},
   "outputs": [],
   "source": [
    "drop_cols=list(temp[temp['Missing']>0.4]['column'])"
   ]
  },
  {
   "cell_type": "code",
   "execution_count": 14,
   "id": "1af468a3",
   "metadata": {},
   "outputs": [],
   "source": [
    "ad.drop(drop_cols,axis=1,inplace=True)"
   ]
  },
  {
   "cell_type": "code",
   "execution_count": 15,
   "id": "c14259f2",
   "metadata": {},
   "outputs": [
    {
     "data": {
      "text/plain": [
       "(307511, 73)"
      ]
     },
     "execution_count": 15,
     "metadata": {},
     "output_type": "execute_result"
    }
   ],
   "source": [
    "ad.shape"
   ]
  },
  {
   "cell_type": "code",
   "execution_count": 16,
   "id": "7b6ebd64",
   "metadata": {},
   "outputs": [
    {
     "name": "stdout",
     "output_type": "stream",
     "text": [
      "<class 'pandas.core.frame.DataFrame'>\n",
      "RangeIndex: 307511 entries, 0 to 307510\n",
      "Data columns (total 73 columns):\n",
      " #   Column                       Non-Null Count   Dtype  \n",
      "---  ------                       --------------   -----  \n",
      " 0   SK_ID_CURR                   307511 non-null  int64  \n",
      " 1   TARGET                       307511 non-null  int64  \n",
      " 2   NAME_CONTRACT_TYPE           307511 non-null  object \n",
      " 3   CODE_GENDER                  307511 non-null  object \n",
      " 4   FLAG_OWN_CAR                 307511 non-null  object \n",
      " 5   FLAG_OWN_REALTY              307511 non-null  object \n",
      " 6   CNT_CHILDREN                 307511 non-null  int64  \n",
      " 7   AMT_INCOME_TOTAL             307511 non-null  float64\n",
      " 8   AMT_CREDIT                   307511 non-null  float64\n",
      " 9   AMT_ANNUITY                  307499 non-null  float64\n",
      " 10  AMT_GOODS_PRICE              307233 non-null  float64\n",
      " 11  NAME_TYPE_SUITE              306219 non-null  object \n",
      " 12  NAME_INCOME_TYPE             307511 non-null  object \n",
      " 13  NAME_EDUCATION_TYPE          307511 non-null  object \n",
      " 14  NAME_FAMILY_STATUS           307511 non-null  object \n",
      " 15  NAME_HOUSING_TYPE            307511 non-null  object \n",
      " 16  REGION_POPULATION_RELATIVE   307511 non-null  float64\n",
      " 17  DAYS_BIRTH                   307511 non-null  int64  \n",
      " 18  DAYS_EMPLOYED                307511 non-null  int64  \n",
      " 19  DAYS_REGISTRATION            307511 non-null  float64\n",
      " 20  DAYS_ID_PUBLISH              307511 non-null  int64  \n",
      " 21  FLAG_MOBIL                   307511 non-null  int64  \n",
      " 22  FLAG_EMP_PHONE               307511 non-null  int64  \n",
      " 23  FLAG_WORK_PHONE              307511 non-null  int64  \n",
      " 24  FLAG_CONT_MOBILE             307511 non-null  int64  \n",
      " 25  FLAG_PHONE                   307511 non-null  int64  \n",
      " 26  FLAG_EMAIL                   307511 non-null  int64  \n",
      " 27  OCCUPATION_TYPE              211120 non-null  object \n",
      " 28  CNT_FAM_MEMBERS              307509 non-null  float64\n",
      " 29  REGION_RATING_CLIENT         307511 non-null  int64  \n",
      " 30  REGION_RATING_CLIENT_W_CITY  307511 non-null  int64  \n",
      " 31  WEEKDAY_APPR_PROCESS_START   307511 non-null  object \n",
      " 32  HOUR_APPR_PROCESS_START      307511 non-null  int64  \n",
      " 33  REG_REGION_NOT_LIVE_REGION   307511 non-null  int64  \n",
      " 34  REG_REGION_NOT_WORK_REGION   307511 non-null  int64  \n",
      " 35  LIVE_REGION_NOT_WORK_REGION  307511 non-null  int64  \n",
      " 36  REG_CITY_NOT_LIVE_CITY       307511 non-null  int64  \n",
      " 37  REG_CITY_NOT_WORK_CITY       307511 non-null  int64  \n",
      " 38  LIVE_CITY_NOT_WORK_CITY      307511 non-null  int64  \n",
      " 39  ORGANIZATION_TYPE            307511 non-null  object \n",
      " 40  EXT_SOURCE_2                 306851 non-null  float64\n",
      " 41  EXT_SOURCE_3                 246546 non-null  float64\n",
      " 42  OBS_30_CNT_SOCIAL_CIRCLE     306490 non-null  float64\n",
      " 43  DEF_30_CNT_SOCIAL_CIRCLE     306490 non-null  float64\n",
      " 44  OBS_60_CNT_SOCIAL_CIRCLE     306490 non-null  float64\n",
      " 45  DEF_60_CNT_SOCIAL_CIRCLE     306490 non-null  float64\n",
      " 46  DAYS_LAST_PHONE_CHANGE       307510 non-null  float64\n",
      " 47  FLAG_DOCUMENT_2              307511 non-null  int64  \n",
      " 48  FLAG_DOCUMENT_3              307511 non-null  int64  \n",
      " 49  FLAG_DOCUMENT_4              307511 non-null  int64  \n",
      " 50  FLAG_DOCUMENT_5              307511 non-null  int64  \n",
      " 51  FLAG_DOCUMENT_6              307511 non-null  int64  \n",
      " 52  FLAG_DOCUMENT_7              307511 non-null  int64  \n",
      " 53  FLAG_DOCUMENT_8              307511 non-null  int64  \n",
      " 54  FLAG_DOCUMENT_9              307511 non-null  int64  \n",
      " 55  FLAG_DOCUMENT_10             307511 non-null  int64  \n",
      " 56  FLAG_DOCUMENT_11             307511 non-null  int64  \n",
      " 57  FLAG_DOCUMENT_12             307511 non-null  int64  \n",
      " 58  FLAG_DOCUMENT_13             307511 non-null  int64  \n",
      " 59  FLAG_DOCUMENT_14             307511 non-null  int64  \n",
      " 60  FLAG_DOCUMENT_15             307511 non-null  int64  \n",
      " 61  FLAG_DOCUMENT_16             307511 non-null  int64  \n",
      " 62  FLAG_DOCUMENT_17             307511 non-null  int64  \n",
      " 63  FLAG_DOCUMENT_18             307511 non-null  int64  \n",
      " 64  FLAG_DOCUMENT_19             307511 non-null  int64  \n",
      " 65  FLAG_DOCUMENT_20             307511 non-null  int64  \n",
      " 66  FLAG_DOCUMENT_21             307511 non-null  int64  \n",
      " 67  AMT_REQ_CREDIT_BUREAU_HOUR   265992 non-null  float64\n",
      " 68  AMT_REQ_CREDIT_BUREAU_DAY    265992 non-null  float64\n",
      " 69  AMT_REQ_CREDIT_BUREAU_WEEK   265992 non-null  float64\n",
      " 70  AMT_REQ_CREDIT_BUREAU_MON    265992 non-null  float64\n",
      " 71  AMT_REQ_CREDIT_BUREAU_QRT    265992 non-null  float64\n",
      " 72  AMT_REQ_CREDIT_BUREAU_YEAR   265992 non-null  float64\n",
      "dtypes: float64(20), int64(41), object(12)\n",
      "memory usage: 171.3+ MB\n"
     ]
    }
   ],
   "source": [
    "ad.info()"
   ]
  },
  {
   "cell_type": "code",
   "execution_count": 17,
   "id": "e42ce57f",
   "metadata": {},
   "outputs": [
    {
     "data": {
      "text/plain": [
       "SK_ID_CURR                         0\n",
       "TARGET                             0\n",
       "NAME_CONTRACT_TYPE                 0\n",
       "CODE_GENDER                        0\n",
       "FLAG_OWN_CAR                       0\n",
       "FLAG_OWN_REALTY                    0\n",
       "CNT_CHILDREN                       0\n",
       "AMT_INCOME_TOTAL                   0\n",
       "AMT_CREDIT                         0\n",
       "AMT_ANNUITY                       12\n",
       "AMT_GOODS_PRICE                  278\n",
       "NAME_TYPE_SUITE                 1292\n",
       "NAME_INCOME_TYPE                   0\n",
       "NAME_EDUCATION_TYPE                0\n",
       "NAME_FAMILY_STATUS                 0\n",
       "NAME_HOUSING_TYPE                  0\n",
       "REGION_POPULATION_RELATIVE         0\n",
       "DAYS_BIRTH                         0\n",
       "DAYS_EMPLOYED                      0\n",
       "DAYS_REGISTRATION                  0\n",
       "DAYS_ID_PUBLISH                    0\n",
       "FLAG_MOBIL                         0\n",
       "FLAG_EMP_PHONE                     0\n",
       "FLAG_WORK_PHONE                    0\n",
       "FLAG_CONT_MOBILE                   0\n",
       "FLAG_PHONE                         0\n",
       "FLAG_EMAIL                         0\n",
       "OCCUPATION_TYPE                96391\n",
       "CNT_FAM_MEMBERS                    2\n",
       "REGION_RATING_CLIENT               0\n",
       "REGION_RATING_CLIENT_W_CITY        0\n",
       "WEEKDAY_APPR_PROCESS_START         0\n",
       "HOUR_APPR_PROCESS_START            0\n",
       "REG_REGION_NOT_LIVE_REGION         0\n",
       "REG_REGION_NOT_WORK_REGION         0\n",
       "LIVE_REGION_NOT_WORK_REGION        0\n",
       "REG_CITY_NOT_LIVE_CITY             0\n",
       "REG_CITY_NOT_WORK_CITY             0\n",
       "LIVE_CITY_NOT_WORK_CITY            0\n",
       "ORGANIZATION_TYPE                  0\n",
       "EXT_SOURCE_2                     660\n",
       "EXT_SOURCE_3                   60965\n",
       "OBS_30_CNT_SOCIAL_CIRCLE        1021\n",
       "DEF_30_CNT_SOCIAL_CIRCLE        1021\n",
       "OBS_60_CNT_SOCIAL_CIRCLE        1021\n",
       "DEF_60_CNT_SOCIAL_CIRCLE        1021\n",
       "DAYS_LAST_PHONE_CHANGE             1\n",
       "FLAG_DOCUMENT_2                    0\n",
       "FLAG_DOCUMENT_3                    0\n",
       "FLAG_DOCUMENT_4                    0\n",
       "FLAG_DOCUMENT_5                    0\n",
       "FLAG_DOCUMENT_6                    0\n",
       "FLAG_DOCUMENT_7                    0\n",
       "FLAG_DOCUMENT_8                    0\n",
       "FLAG_DOCUMENT_9                    0\n",
       "FLAG_DOCUMENT_10                   0\n",
       "FLAG_DOCUMENT_11                   0\n",
       "FLAG_DOCUMENT_12                   0\n",
       "FLAG_DOCUMENT_13                   0\n",
       "FLAG_DOCUMENT_14                   0\n",
       "FLAG_DOCUMENT_15                   0\n",
       "FLAG_DOCUMENT_16                   0\n",
       "FLAG_DOCUMENT_17                   0\n",
       "FLAG_DOCUMENT_18                   0\n",
       "FLAG_DOCUMENT_19                   0\n",
       "FLAG_DOCUMENT_20                   0\n",
       "FLAG_DOCUMENT_21                   0\n",
       "AMT_REQ_CREDIT_BUREAU_HOUR     41519\n",
       "AMT_REQ_CREDIT_BUREAU_DAY      41519\n",
       "AMT_REQ_CREDIT_BUREAU_WEEK     41519\n",
       "AMT_REQ_CREDIT_BUREAU_MON      41519\n",
       "AMT_REQ_CREDIT_BUREAU_QRT      41519\n",
       "AMT_REQ_CREDIT_BUREAU_YEAR     41519\n",
       "dtype: int64"
      ]
     },
     "execution_count": 17,
     "metadata": {},
     "output_type": "execute_result"
    }
   ],
   "source": [
    "ad.isnull().sum()"
   ]
  },
  {
   "cell_type": "code",
   "execution_count": 18,
   "id": "76cad810",
   "metadata": {},
   "outputs": [
    {
     "data": {
      "text/plain": [
       "12"
      ]
     },
     "execution_count": 18,
     "metadata": {},
     "output_type": "execute_result"
    }
   ],
   "source": [
    "ad['AMT_ANNUITY'].isnull().sum()"
   ]
  },
  {
   "cell_type": "code",
   "execution_count": 19,
   "id": "a125c3ef",
   "metadata": {},
   "outputs": [
    {
     "data": {
      "text/plain": [
       "0.003902299429939092"
      ]
     },
     "execution_count": 19,
     "metadata": {},
     "output_type": "execute_result"
    }
   ],
   "source": [
    "float(100*(12/307511))"
   ]
  },
  {
   "cell_type": "code",
   "execution_count": 20,
   "id": "4fd5b4a9",
   "metadata": {},
   "outputs": [
    {
     "data": {
      "text/plain": [
       "(307511,)"
      ]
     },
     "execution_count": 20,
     "metadata": {},
     "output_type": "execute_result"
    }
   ],
   "source": [
    "ad['AMT_ANNUITY'].shape"
   ]
  },
  {
   "cell_type": "markdown",
   "id": "0ac79fb4",
   "metadata": {},
   "source": [
    "-- As the null value is extremely low (0.3 %) we can afford to drop the values"
   ]
  },
  {
   "cell_type": "code",
   "execution_count": 21,
   "id": "9a3094c3",
   "metadata": {},
   "outputs": [],
   "source": [
    "ad=ad[~ad['AMT_ANNUITY'].isnull()]"
   ]
  },
  {
   "cell_type": "code",
   "execution_count": 22,
   "id": "e11dcfec",
   "metadata": {},
   "outputs": [
    {
     "data": {
      "text/plain": [
       "(307499, 73)"
      ]
     },
     "execution_count": 22,
     "metadata": {},
     "output_type": "execute_result"
    }
   ],
   "source": [
    "ad.shape"
   ]
  },
  {
   "cell_type": "code",
   "execution_count": 23,
   "id": "1146e670",
   "metadata": {},
   "outputs": [
    {
     "data": {
      "text/plain": [
       "278"
      ]
     },
     "execution_count": 23,
     "metadata": {},
     "output_type": "execute_result"
    }
   ],
   "source": [
    "ad['AMT_GOODS_PRICE'].isnull().sum()"
   ]
  },
  {
   "cell_type": "code",
   "execution_count": 24,
   "id": "0fb5abd8",
   "metadata": {},
   "outputs": [
    {
     "data": {
      "text/plain": [
       "(307499,)"
      ]
     },
     "execution_count": 24,
     "metadata": {},
     "output_type": "execute_result"
    }
   ],
   "source": [
    "ad['AMT_GOODS_PRICE'].shape"
   ]
  },
  {
   "cell_type": "code",
   "execution_count": 25,
   "id": "f6f29124",
   "metadata": {},
   "outputs": [
    {
     "data": {
      "text/plain": [
       "0.09040679807088804"
      ]
     },
     "execution_count": 25,
     "metadata": {},
     "output_type": "execute_result"
    }
   ],
   "source": [
    "float(100*(278/307499))"
   ]
  },
  {
   "cell_type": "markdown",
   "id": "c5033d85",
   "metadata": {},
   "source": [
    "-- We have 9 % missing values in this column so we try to find the mean and median to replace it"
   ]
  },
  {
   "cell_type": "code",
   "execution_count": 26,
   "id": "7bf7e427",
   "metadata": {},
   "outputs": [
    {
     "data": {
      "text/plain": [
       "450000.0"
      ]
     },
     "execution_count": 26,
     "metadata": {},
     "output_type": "execute_result"
    }
   ],
   "source": [
    "ad['AMT_GOODS_PRICE'].median()"
   ]
  },
  {
   "cell_type": "code",
   "execution_count": 27,
   "id": "9fc59441",
   "metadata": {},
   "outputs": [],
   "source": [
    "ad['AMT_GOODS_PRICE']=ad['AMT_GOODS_PRICE'].fillna(ad['AMT_GOODS_PRICE'].median())"
   ]
  },
  {
   "cell_type": "markdown",
   "id": "7507f579",
   "metadata": {},
   "source": [
    "-- This is a categorical column and hence the missing values will be replaced by the mode"
   ]
  },
  {
   "cell_type": "code",
   "execution_count": 28,
   "id": "0bd890fe",
   "metadata": {},
   "outputs": [
    {
     "data": {
      "text/plain": [
       "0    Unaccompanied\n",
       "dtype: object"
      ]
     },
     "execution_count": 28,
     "metadata": {},
     "output_type": "execute_result"
    }
   ],
   "source": [
    "ad['NAME_TYPE_SUITE'].mode()"
   ]
  },
  {
   "cell_type": "code",
   "execution_count": 29,
   "id": "88d6eb85",
   "metadata": {},
   "outputs": [
    {
     "data": {
      "text/plain": [
       "1292"
      ]
     },
     "execution_count": 29,
     "metadata": {},
     "output_type": "execute_result"
    }
   ],
   "source": [
    "ad['NAME_TYPE_SUITE'].isnull().sum()"
   ]
  },
  {
   "cell_type": "code",
   "execution_count": 30,
   "id": "1233cea2",
   "metadata": {
    "scrolled": true
   },
   "outputs": [],
   "source": [
    "ad['NAME_TYPE_SUITE']=ad['NAME_TYPE_SUITE'].fillna(ad['NAME_TYPE_SUITE'].mode()[0])"
   ]
  },
  {
   "cell_type": "markdown",
   "id": "4fef7314",
   "metadata": {},
   "source": [
    "-- As OCCUPATION_TYPE column is a categorical column and the missing value percentage is 31.34% we will replace it by mode"
   ]
  },
  {
   "cell_type": "code",
   "execution_count": 31,
   "id": "32bb616f",
   "metadata": {},
   "outputs": [
    {
     "data": {
      "text/plain": [
       "96391"
      ]
     },
     "execution_count": 31,
     "metadata": {},
     "output_type": "execute_result"
    }
   ],
   "source": [
    "ad['OCCUPATION_TYPE'].isnull().sum()"
   ]
  },
  {
   "cell_type": "code",
   "execution_count": 32,
   "id": "c736ffc3",
   "metadata": {},
   "outputs": [
    {
     "data": {
      "text/plain": [
       "31.346768607377584"
      ]
     },
     "execution_count": 32,
     "metadata": {},
     "output_type": "execute_result"
    }
   ],
   "source": [
    "float(100*(96391/307499))"
   ]
  },
  {
   "cell_type": "code",
   "execution_count": 33,
   "id": "4543f2a8",
   "metadata": {},
   "outputs": [],
   "source": [
    "ad['OCCUPATION_TYPE']=ad['OCCUPATION_TYPE'].fillna(ad['OCCUPATION_TYPE'].mode()[0])"
   ]
  },
  {
   "cell_type": "code",
   "execution_count": 34,
   "id": "d901c0ef",
   "metadata": {},
   "outputs": [
    {
     "data": {
      "text/plain": [
       "SK_ID_CURR                         0\n",
       "TARGET                             0\n",
       "NAME_CONTRACT_TYPE                 0\n",
       "CODE_GENDER                        0\n",
       "FLAG_OWN_CAR                       0\n",
       "FLAG_OWN_REALTY                    0\n",
       "CNT_CHILDREN                       0\n",
       "AMT_INCOME_TOTAL                   0\n",
       "AMT_CREDIT                         0\n",
       "AMT_ANNUITY                        0\n",
       "AMT_GOODS_PRICE                    0\n",
       "NAME_TYPE_SUITE                    0\n",
       "NAME_INCOME_TYPE                   0\n",
       "NAME_EDUCATION_TYPE                0\n",
       "NAME_FAMILY_STATUS                 0\n",
       "NAME_HOUSING_TYPE                  0\n",
       "REGION_POPULATION_RELATIVE         0\n",
       "DAYS_BIRTH                         0\n",
       "DAYS_EMPLOYED                      0\n",
       "DAYS_REGISTRATION                  0\n",
       "DAYS_ID_PUBLISH                    0\n",
       "FLAG_MOBIL                         0\n",
       "FLAG_EMP_PHONE                     0\n",
       "FLAG_WORK_PHONE                    0\n",
       "FLAG_CONT_MOBILE                   0\n",
       "FLAG_PHONE                         0\n",
       "FLAG_EMAIL                         0\n",
       "OCCUPATION_TYPE                    0\n",
       "CNT_FAM_MEMBERS                    2\n",
       "REGION_RATING_CLIENT               0\n",
       "REGION_RATING_CLIENT_W_CITY        0\n",
       "WEEKDAY_APPR_PROCESS_START         0\n",
       "HOUR_APPR_PROCESS_START            0\n",
       "REG_REGION_NOT_LIVE_REGION         0\n",
       "REG_REGION_NOT_WORK_REGION         0\n",
       "LIVE_REGION_NOT_WORK_REGION        0\n",
       "REG_CITY_NOT_LIVE_CITY             0\n",
       "REG_CITY_NOT_WORK_CITY             0\n",
       "LIVE_CITY_NOT_WORK_CITY            0\n",
       "ORGANIZATION_TYPE                  0\n",
       "EXT_SOURCE_2                     660\n",
       "EXT_SOURCE_3                   60964\n",
       "OBS_30_CNT_SOCIAL_CIRCLE        1021\n",
       "DEF_30_CNT_SOCIAL_CIRCLE        1021\n",
       "OBS_60_CNT_SOCIAL_CIRCLE        1021\n",
       "DEF_60_CNT_SOCIAL_CIRCLE        1021\n",
       "DAYS_LAST_PHONE_CHANGE             1\n",
       "FLAG_DOCUMENT_2                    0\n",
       "FLAG_DOCUMENT_3                    0\n",
       "FLAG_DOCUMENT_4                    0\n",
       "FLAG_DOCUMENT_5                    0\n",
       "FLAG_DOCUMENT_6                    0\n",
       "FLAG_DOCUMENT_7                    0\n",
       "FLAG_DOCUMENT_8                    0\n",
       "FLAG_DOCUMENT_9                    0\n",
       "FLAG_DOCUMENT_10                   0\n",
       "FLAG_DOCUMENT_11                   0\n",
       "FLAG_DOCUMENT_12                   0\n",
       "FLAG_DOCUMENT_13                   0\n",
       "FLAG_DOCUMENT_14                   0\n",
       "FLAG_DOCUMENT_15                   0\n",
       "FLAG_DOCUMENT_16                   0\n",
       "FLAG_DOCUMENT_17                   0\n",
       "FLAG_DOCUMENT_18                   0\n",
       "FLAG_DOCUMENT_19                   0\n",
       "FLAG_DOCUMENT_20                   0\n",
       "FLAG_DOCUMENT_21                   0\n",
       "AMT_REQ_CREDIT_BUREAU_HOUR     41518\n",
       "AMT_REQ_CREDIT_BUREAU_DAY      41518\n",
       "AMT_REQ_CREDIT_BUREAU_WEEK     41518\n",
       "AMT_REQ_CREDIT_BUREAU_MON      41518\n",
       "AMT_REQ_CREDIT_BUREAU_QRT      41518\n",
       "AMT_REQ_CREDIT_BUREAU_YEAR     41518\n",
       "dtype: int64"
      ]
     },
     "execution_count": 34,
     "metadata": {},
     "output_type": "execute_result"
    }
   ],
   "source": [
    "ad.isnull().sum()"
   ]
  },
  {
   "cell_type": "markdown",
   "id": "51f5fe87",
   "metadata": {},
   "source": [
    "-- Removing the missing values with median as it is better than mean in the current column"
   ]
  },
  {
   "cell_type": "code",
   "execution_count": 35,
   "id": "c5bfd1b7",
   "metadata": {},
   "outputs": [
    {
     "data": {
      "text/plain": [
       "2"
      ]
     },
     "execution_count": 35,
     "metadata": {},
     "output_type": "execute_result"
    }
   ],
   "source": [
    "ad['CNT_FAM_MEMBERS'].isnull().sum()"
   ]
  },
  {
   "cell_type": "code",
   "execution_count": 36,
   "id": "7b17b60f",
   "metadata": {},
   "outputs": [
    {
     "data": {
      "text/plain": [
       "2.0"
      ]
     },
     "execution_count": 36,
     "metadata": {},
     "output_type": "execute_result"
    }
   ],
   "source": [
    "ad['CNT_FAM_MEMBERS'].median()"
   ]
  },
  {
   "cell_type": "code",
   "execution_count": 37,
   "id": "325c0ccc",
   "metadata": {},
   "outputs": [],
   "source": [
    "ad['CNT_FAM_MEMBERS']=ad['CNT_FAM_MEMBERS'].fillna(ad['CNT_FAM_MEMBERS'].median())"
   ]
  },
  {
   "cell_type": "code",
   "execution_count": 38,
   "id": "1649ba27",
   "metadata": {},
   "outputs": [
    {
     "data": {
      "text/plain": [
       "0"
      ]
     },
     "execution_count": 38,
     "metadata": {},
     "output_type": "execute_result"
    }
   ],
   "source": [
    "ad['CNT_FAM_MEMBERS'].isnull().sum()"
   ]
  },
  {
   "cell_type": "markdown",
   "id": "873699cd",
   "metadata": {},
   "source": [
    "-- Filling the Missing value with the meadian"
   ]
  },
  {
   "cell_type": "code",
   "execution_count": 39,
   "id": "07d8c0a7",
   "metadata": {},
   "outputs": [
    {
     "data": {
      "text/plain": [
       "660"
      ]
     },
     "execution_count": 39,
     "metadata": {},
     "output_type": "execute_result"
    }
   ],
   "source": [
    "ad['EXT_SOURCE_2'].isnull().sum()"
   ]
  },
  {
   "cell_type": "code",
   "execution_count": 40,
   "id": "9c68759e",
   "metadata": {},
   "outputs": [
    {
     "data": {
      "text/plain": [
       "0.21463484434095723"
      ]
     },
     "execution_count": 40,
     "metadata": {},
     "output_type": "execute_result"
    }
   ],
   "source": [
    "float(100*(660/307499))"
   ]
  },
  {
   "cell_type": "code",
   "execution_count": 41,
   "id": "25456807",
   "metadata": {},
   "outputs": [
    {
     "data": {
      "text/plain": [
       "0.5659560543013878"
      ]
     },
     "execution_count": 41,
     "metadata": {},
     "output_type": "execute_result"
    }
   ],
   "source": [
    "ad['EXT_SOURCE_2'].median()"
   ]
  },
  {
   "cell_type": "code",
   "execution_count": 42,
   "id": "afc6443f",
   "metadata": {},
   "outputs": [],
   "source": [
    "ad['EXT_SOURCE_2']=ad['EXT_SOURCE_2'].fillna(ad['EXT_SOURCE_2'].median())"
   ]
  },
  {
   "cell_type": "code",
   "execution_count": 43,
   "id": "ca1929b7",
   "metadata": {},
   "outputs": [
    {
     "data": {
      "text/plain": [
       "0"
      ]
     },
     "execution_count": 43,
     "metadata": {},
     "output_type": "execute_result"
    }
   ],
   "source": [
    "ad['EXT_SOURCE_2'].isnull().sum()"
   ]
  },
  {
   "cell_type": "code",
   "execution_count": 44,
   "id": "02916837",
   "metadata": {},
   "outputs": [
    {
     "data": {
      "text/plain": [
       "SK_ID_CURR                         0\n",
       "TARGET                             0\n",
       "NAME_CONTRACT_TYPE                 0\n",
       "CODE_GENDER                        0\n",
       "FLAG_OWN_CAR                       0\n",
       "FLAG_OWN_REALTY                    0\n",
       "CNT_CHILDREN                       0\n",
       "AMT_INCOME_TOTAL                   0\n",
       "AMT_CREDIT                         0\n",
       "AMT_ANNUITY                        0\n",
       "AMT_GOODS_PRICE                    0\n",
       "NAME_TYPE_SUITE                    0\n",
       "NAME_INCOME_TYPE                   0\n",
       "NAME_EDUCATION_TYPE                0\n",
       "NAME_FAMILY_STATUS                 0\n",
       "NAME_HOUSING_TYPE                  0\n",
       "REGION_POPULATION_RELATIVE         0\n",
       "DAYS_BIRTH                         0\n",
       "DAYS_EMPLOYED                      0\n",
       "DAYS_REGISTRATION                  0\n",
       "DAYS_ID_PUBLISH                    0\n",
       "FLAG_MOBIL                         0\n",
       "FLAG_EMP_PHONE                     0\n",
       "FLAG_WORK_PHONE                    0\n",
       "FLAG_CONT_MOBILE                   0\n",
       "FLAG_PHONE                         0\n",
       "FLAG_EMAIL                         0\n",
       "OCCUPATION_TYPE                    0\n",
       "CNT_FAM_MEMBERS                    0\n",
       "REGION_RATING_CLIENT               0\n",
       "REGION_RATING_CLIENT_W_CITY        0\n",
       "WEEKDAY_APPR_PROCESS_START         0\n",
       "HOUR_APPR_PROCESS_START            0\n",
       "REG_REGION_NOT_LIVE_REGION         0\n",
       "REG_REGION_NOT_WORK_REGION         0\n",
       "LIVE_REGION_NOT_WORK_REGION        0\n",
       "REG_CITY_NOT_LIVE_CITY             0\n",
       "REG_CITY_NOT_WORK_CITY             0\n",
       "LIVE_CITY_NOT_WORK_CITY            0\n",
       "ORGANIZATION_TYPE                  0\n",
       "EXT_SOURCE_2                       0\n",
       "EXT_SOURCE_3                   60964\n",
       "OBS_30_CNT_SOCIAL_CIRCLE        1021\n",
       "DEF_30_CNT_SOCIAL_CIRCLE        1021\n",
       "OBS_60_CNT_SOCIAL_CIRCLE        1021\n",
       "DEF_60_CNT_SOCIAL_CIRCLE        1021\n",
       "DAYS_LAST_PHONE_CHANGE             1\n",
       "FLAG_DOCUMENT_2                    0\n",
       "FLAG_DOCUMENT_3                    0\n",
       "FLAG_DOCUMENT_4                    0\n",
       "FLAG_DOCUMENT_5                    0\n",
       "FLAG_DOCUMENT_6                    0\n",
       "FLAG_DOCUMENT_7                    0\n",
       "FLAG_DOCUMENT_8                    0\n",
       "FLAG_DOCUMENT_9                    0\n",
       "FLAG_DOCUMENT_10                   0\n",
       "FLAG_DOCUMENT_11                   0\n",
       "FLAG_DOCUMENT_12                   0\n",
       "FLAG_DOCUMENT_13                   0\n",
       "FLAG_DOCUMENT_14                   0\n",
       "FLAG_DOCUMENT_15                   0\n",
       "FLAG_DOCUMENT_16                   0\n",
       "FLAG_DOCUMENT_17                   0\n",
       "FLAG_DOCUMENT_18                   0\n",
       "FLAG_DOCUMENT_19                   0\n",
       "FLAG_DOCUMENT_20                   0\n",
       "FLAG_DOCUMENT_21                   0\n",
       "AMT_REQ_CREDIT_BUREAU_HOUR     41518\n",
       "AMT_REQ_CREDIT_BUREAU_DAY      41518\n",
       "AMT_REQ_CREDIT_BUREAU_WEEK     41518\n",
       "AMT_REQ_CREDIT_BUREAU_MON      41518\n",
       "AMT_REQ_CREDIT_BUREAU_QRT      41518\n",
       "AMT_REQ_CREDIT_BUREAU_YEAR     41518\n",
       "dtype: int64"
      ]
     },
     "execution_count": 44,
     "metadata": {},
     "output_type": "execute_result"
    }
   ],
   "source": [
    "ad.isnull().sum()"
   ]
  },
  {
   "cell_type": "code",
   "execution_count": 45,
   "id": "6d7f49e0",
   "metadata": {},
   "outputs": [
    {
     "data": {
      "text/plain": [
       "60964"
      ]
     },
     "execution_count": 45,
     "metadata": {},
     "output_type": "execute_result"
    }
   ],
   "source": [
    "ad['EXT_SOURCE_3'].isnull().sum()"
   ]
  },
  {
   "cell_type": "code",
   "execution_count": 46,
   "id": "dde5204b",
   "metadata": {},
   "outputs": [
    {
     "data": {
      "text/plain": [
       "(307499, 73)"
      ]
     },
     "execution_count": 46,
     "metadata": {},
     "output_type": "execute_result"
    }
   ],
   "source": [
    "ad.shape"
   ]
  },
  {
   "cell_type": "code",
   "execution_count": 47,
   "id": "a1b540f7",
   "metadata": {},
   "outputs": [
    {
     "data": {
      "text/plain": [
       "19.73795036731827"
      ]
     },
     "execution_count": 47,
     "metadata": {},
     "output_type": "execute_result"
    }
   ],
   "source": [
    "float(100*(60694/307499))"
   ]
  },
  {
   "cell_type": "code",
   "execution_count": 48,
   "id": "1a30fe5d",
   "metadata": {},
   "outputs": [
    {
     "data": {
      "text/plain": [
       "0.5352762504724826"
      ]
     },
     "execution_count": 48,
     "metadata": {},
     "output_type": "execute_result"
    }
   ],
   "source": [
    "ad['EXT_SOURCE_3'].median()"
   ]
  },
  {
   "cell_type": "code",
   "execution_count": 49,
   "id": "36a863a6",
   "metadata": {},
   "outputs": [],
   "source": [
    "ad['EXT_SOURCE_3']=ad['EXT_SOURCE_3'].fillna(ad['EXT_SOURCE_3'].median())"
   ]
  },
  {
   "cell_type": "code",
   "execution_count": 50,
   "id": "d0c4885c",
   "metadata": {},
   "outputs": [
    {
     "data": {
      "text/plain": [
       "0"
      ]
     },
     "execution_count": 50,
     "metadata": {},
     "output_type": "execute_result"
    }
   ],
   "source": [
    "ad['EXT_SOURCE_3'].isnull().sum()"
   ]
  },
  {
   "cell_type": "code",
   "execution_count": 51,
   "id": "aa9bbf53",
   "metadata": {},
   "outputs": [
    {
     "data": {
      "text/plain": [
       "SK_ID_CURR                         0\n",
       "TARGET                             0\n",
       "NAME_CONTRACT_TYPE                 0\n",
       "CODE_GENDER                        0\n",
       "FLAG_OWN_CAR                       0\n",
       "FLAG_OWN_REALTY                    0\n",
       "CNT_CHILDREN                       0\n",
       "AMT_INCOME_TOTAL                   0\n",
       "AMT_CREDIT                         0\n",
       "AMT_ANNUITY                        0\n",
       "AMT_GOODS_PRICE                    0\n",
       "NAME_TYPE_SUITE                    0\n",
       "NAME_INCOME_TYPE                   0\n",
       "NAME_EDUCATION_TYPE                0\n",
       "NAME_FAMILY_STATUS                 0\n",
       "NAME_HOUSING_TYPE                  0\n",
       "REGION_POPULATION_RELATIVE         0\n",
       "DAYS_BIRTH                         0\n",
       "DAYS_EMPLOYED                      0\n",
       "DAYS_REGISTRATION                  0\n",
       "DAYS_ID_PUBLISH                    0\n",
       "FLAG_MOBIL                         0\n",
       "FLAG_EMP_PHONE                     0\n",
       "FLAG_WORK_PHONE                    0\n",
       "FLAG_CONT_MOBILE                   0\n",
       "FLAG_PHONE                         0\n",
       "FLAG_EMAIL                         0\n",
       "OCCUPATION_TYPE                    0\n",
       "CNT_FAM_MEMBERS                    0\n",
       "REGION_RATING_CLIENT               0\n",
       "REGION_RATING_CLIENT_W_CITY        0\n",
       "WEEKDAY_APPR_PROCESS_START         0\n",
       "HOUR_APPR_PROCESS_START            0\n",
       "REG_REGION_NOT_LIVE_REGION         0\n",
       "REG_REGION_NOT_WORK_REGION         0\n",
       "LIVE_REGION_NOT_WORK_REGION        0\n",
       "REG_CITY_NOT_LIVE_CITY             0\n",
       "REG_CITY_NOT_WORK_CITY             0\n",
       "LIVE_CITY_NOT_WORK_CITY            0\n",
       "ORGANIZATION_TYPE                  0\n",
       "EXT_SOURCE_2                       0\n",
       "EXT_SOURCE_3                       0\n",
       "OBS_30_CNT_SOCIAL_CIRCLE        1021\n",
       "DEF_30_CNT_SOCIAL_CIRCLE        1021\n",
       "OBS_60_CNT_SOCIAL_CIRCLE        1021\n",
       "DEF_60_CNT_SOCIAL_CIRCLE        1021\n",
       "DAYS_LAST_PHONE_CHANGE             1\n",
       "FLAG_DOCUMENT_2                    0\n",
       "FLAG_DOCUMENT_3                    0\n",
       "FLAG_DOCUMENT_4                    0\n",
       "FLAG_DOCUMENT_5                    0\n",
       "FLAG_DOCUMENT_6                    0\n",
       "FLAG_DOCUMENT_7                    0\n",
       "FLAG_DOCUMENT_8                    0\n",
       "FLAG_DOCUMENT_9                    0\n",
       "FLAG_DOCUMENT_10                   0\n",
       "FLAG_DOCUMENT_11                   0\n",
       "FLAG_DOCUMENT_12                   0\n",
       "FLAG_DOCUMENT_13                   0\n",
       "FLAG_DOCUMENT_14                   0\n",
       "FLAG_DOCUMENT_15                   0\n",
       "FLAG_DOCUMENT_16                   0\n",
       "FLAG_DOCUMENT_17                   0\n",
       "FLAG_DOCUMENT_18                   0\n",
       "FLAG_DOCUMENT_19                   0\n",
       "FLAG_DOCUMENT_20                   0\n",
       "FLAG_DOCUMENT_21                   0\n",
       "AMT_REQ_CREDIT_BUREAU_HOUR     41518\n",
       "AMT_REQ_CREDIT_BUREAU_DAY      41518\n",
       "AMT_REQ_CREDIT_BUREAU_WEEK     41518\n",
       "AMT_REQ_CREDIT_BUREAU_MON      41518\n",
       "AMT_REQ_CREDIT_BUREAU_QRT      41518\n",
       "AMT_REQ_CREDIT_BUREAU_YEAR     41518\n",
       "dtype: int64"
      ]
     },
     "execution_count": 51,
     "metadata": {},
     "output_type": "execute_result"
    }
   ],
   "source": [
    "ad.isnull().sum()"
   ]
  },
  {
   "cell_type": "markdown",
   "id": "3d56f8c7",
   "metadata": {},
   "source": [
    "-- Dropped some columns as there were large number of missing value and were unnecessary to our analysis\n"
   ]
  },
  {
   "cell_type": "code",
   "execution_count": 52,
   "id": "a078a649",
   "metadata": {},
   "outputs": [
    {
     "name": "stdout",
     "output_type": "stream",
     "text": [
      "<class 'pandas.core.frame.DataFrame'>\n",
      "Int64Index: 307499 entries, 0 to 307510\n",
      "Data columns (total 73 columns):\n",
      " #   Column                       Non-Null Count   Dtype  \n",
      "---  ------                       --------------   -----  \n",
      " 0   SK_ID_CURR                   307499 non-null  int64  \n",
      " 1   TARGET                       307499 non-null  int64  \n",
      " 2   NAME_CONTRACT_TYPE           307499 non-null  object \n",
      " 3   CODE_GENDER                  307499 non-null  object \n",
      " 4   FLAG_OWN_CAR                 307499 non-null  object \n",
      " 5   FLAG_OWN_REALTY              307499 non-null  object \n",
      " 6   CNT_CHILDREN                 307499 non-null  int64  \n",
      " 7   AMT_INCOME_TOTAL             307499 non-null  float64\n",
      " 8   AMT_CREDIT                   307499 non-null  float64\n",
      " 9   AMT_ANNUITY                  307499 non-null  float64\n",
      " 10  AMT_GOODS_PRICE              307499 non-null  float64\n",
      " 11  NAME_TYPE_SUITE              307499 non-null  object \n",
      " 12  NAME_INCOME_TYPE             307499 non-null  object \n",
      " 13  NAME_EDUCATION_TYPE          307499 non-null  object \n",
      " 14  NAME_FAMILY_STATUS           307499 non-null  object \n",
      " 15  NAME_HOUSING_TYPE            307499 non-null  object \n",
      " 16  REGION_POPULATION_RELATIVE   307499 non-null  float64\n",
      " 17  DAYS_BIRTH                   307499 non-null  int64  \n",
      " 18  DAYS_EMPLOYED                307499 non-null  int64  \n",
      " 19  DAYS_REGISTRATION            307499 non-null  float64\n",
      " 20  DAYS_ID_PUBLISH              307499 non-null  int64  \n",
      " 21  FLAG_MOBIL                   307499 non-null  int64  \n",
      " 22  FLAG_EMP_PHONE               307499 non-null  int64  \n",
      " 23  FLAG_WORK_PHONE              307499 non-null  int64  \n",
      " 24  FLAG_CONT_MOBILE             307499 non-null  int64  \n",
      " 25  FLAG_PHONE                   307499 non-null  int64  \n",
      " 26  FLAG_EMAIL                   307499 non-null  int64  \n",
      " 27  OCCUPATION_TYPE              307499 non-null  object \n",
      " 28  CNT_FAM_MEMBERS              307499 non-null  float64\n",
      " 29  REGION_RATING_CLIENT         307499 non-null  int64  \n",
      " 30  REGION_RATING_CLIENT_W_CITY  307499 non-null  int64  \n",
      " 31  WEEKDAY_APPR_PROCESS_START   307499 non-null  object \n",
      " 32  HOUR_APPR_PROCESS_START      307499 non-null  int64  \n",
      " 33  REG_REGION_NOT_LIVE_REGION   307499 non-null  int64  \n",
      " 34  REG_REGION_NOT_WORK_REGION   307499 non-null  int64  \n",
      " 35  LIVE_REGION_NOT_WORK_REGION  307499 non-null  int64  \n",
      " 36  REG_CITY_NOT_LIVE_CITY       307499 non-null  int64  \n",
      " 37  REG_CITY_NOT_WORK_CITY       307499 non-null  int64  \n",
      " 38  LIVE_CITY_NOT_WORK_CITY      307499 non-null  int64  \n",
      " 39  ORGANIZATION_TYPE            307499 non-null  object \n",
      " 40  EXT_SOURCE_2                 307499 non-null  float64\n",
      " 41  EXT_SOURCE_3                 307499 non-null  float64\n",
      " 42  OBS_30_CNT_SOCIAL_CIRCLE     306478 non-null  float64\n",
      " 43  DEF_30_CNT_SOCIAL_CIRCLE     306478 non-null  float64\n",
      " 44  OBS_60_CNT_SOCIAL_CIRCLE     306478 non-null  float64\n",
      " 45  DEF_60_CNT_SOCIAL_CIRCLE     306478 non-null  float64\n",
      " 46  DAYS_LAST_PHONE_CHANGE       307498 non-null  float64\n",
      " 47  FLAG_DOCUMENT_2              307499 non-null  int64  \n",
      " 48  FLAG_DOCUMENT_3              307499 non-null  int64  \n",
      " 49  FLAG_DOCUMENT_4              307499 non-null  int64  \n",
      " 50  FLAG_DOCUMENT_5              307499 non-null  int64  \n",
      " 51  FLAG_DOCUMENT_6              307499 non-null  int64  \n",
      " 52  FLAG_DOCUMENT_7              307499 non-null  int64  \n",
      " 53  FLAG_DOCUMENT_8              307499 non-null  int64  \n",
      " 54  FLAG_DOCUMENT_9              307499 non-null  int64  \n",
      " 55  FLAG_DOCUMENT_10             307499 non-null  int64  \n",
      " 56  FLAG_DOCUMENT_11             307499 non-null  int64  \n",
      " 57  FLAG_DOCUMENT_12             307499 non-null  int64  \n",
      " 58  FLAG_DOCUMENT_13             307499 non-null  int64  \n",
      " 59  FLAG_DOCUMENT_14             307499 non-null  int64  \n",
      " 60  FLAG_DOCUMENT_15             307499 non-null  int64  \n",
      " 61  FLAG_DOCUMENT_16             307499 non-null  int64  \n",
      " 62  FLAG_DOCUMENT_17             307499 non-null  int64  \n",
      " 63  FLAG_DOCUMENT_18             307499 non-null  int64  \n",
      " 64  FLAG_DOCUMENT_19             307499 non-null  int64  \n",
      " 65  FLAG_DOCUMENT_20             307499 non-null  int64  \n",
      " 66  FLAG_DOCUMENT_21             307499 non-null  int64  \n",
      " 67  AMT_REQ_CREDIT_BUREAU_HOUR   265981 non-null  float64\n",
      " 68  AMT_REQ_CREDIT_BUREAU_DAY    265981 non-null  float64\n",
      " 69  AMT_REQ_CREDIT_BUREAU_WEEK   265981 non-null  float64\n",
      " 70  AMT_REQ_CREDIT_BUREAU_MON    265981 non-null  float64\n",
      " 71  AMT_REQ_CREDIT_BUREAU_QRT    265981 non-null  float64\n",
      " 72  AMT_REQ_CREDIT_BUREAU_YEAR   265981 non-null  float64\n",
      "dtypes: float64(20), int64(41), object(12)\n",
      "memory usage: 173.6+ MB\n"
     ]
    }
   ],
   "source": [
    "ad.info()"
   ]
  },
  {
   "cell_type": "code",
   "execution_count": 53,
   "id": "fe322511",
   "metadata": {},
   "outputs": [
    {
     "data": {
      "text/plain": [
       "SK_ID_CURR                         0\n",
       "TARGET                             0\n",
       "NAME_CONTRACT_TYPE                 0\n",
       "CODE_GENDER                        0\n",
       "FLAG_OWN_CAR                       0\n",
       "FLAG_OWN_REALTY                    0\n",
       "CNT_CHILDREN                       0\n",
       "AMT_INCOME_TOTAL                   0\n",
       "AMT_CREDIT                         0\n",
       "AMT_ANNUITY                        0\n",
       "AMT_GOODS_PRICE                    0\n",
       "NAME_TYPE_SUITE                    0\n",
       "NAME_INCOME_TYPE                   0\n",
       "NAME_EDUCATION_TYPE                0\n",
       "NAME_FAMILY_STATUS                 0\n",
       "NAME_HOUSING_TYPE                  0\n",
       "REGION_POPULATION_RELATIVE         0\n",
       "DAYS_BIRTH                         0\n",
       "DAYS_EMPLOYED                      0\n",
       "DAYS_REGISTRATION                  0\n",
       "DAYS_ID_PUBLISH                    0\n",
       "FLAG_MOBIL                         0\n",
       "FLAG_EMP_PHONE                     0\n",
       "FLAG_WORK_PHONE                    0\n",
       "FLAG_CONT_MOBILE                   0\n",
       "FLAG_PHONE                         0\n",
       "FLAG_EMAIL                         0\n",
       "OCCUPATION_TYPE                    0\n",
       "CNT_FAM_MEMBERS                    0\n",
       "REGION_RATING_CLIENT               0\n",
       "REGION_RATING_CLIENT_W_CITY        0\n",
       "WEEKDAY_APPR_PROCESS_START         0\n",
       "HOUR_APPR_PROCESS_START            0\n",
       "REG_REGION_NOT_LIVE_REGION         0\n",
       "REG_REGION_NOT_WORK_REGION         0\n",
       "LIVE_REGION_NOT_WORK_REGION        0\n",
       "REG_CITY_NOT_LIVE_CITY             0\n",
       "REG_CITY_NOT_WORK_CITY             0\n",
       "LIVE_CITY_NOT_WORK_CITY            0\n",
       "ORGANIZATION_TYPE                  0\n",
       "EXT_SOURCE_2                       0\n",
       "EXT_SOURCE_3                       0\n",
       "OBS_30_CNT_SOCIAL_CIRCLE        1021\n",
       "DEF_30_CNT_SOCIAL_CIRCLE        1021\n",
       "OBS_60_CNT_SOCIAL_CIRCLE        1021\n",
       "DEF_60_CNT_SOCIAL_CIRCLE        1021\n",
       "DAYS_LAST_PHONE_CHANGE             1\n",
       "FLAG_DOCUMENT_2                    0\n",
       "FLAG_DOCUMENT_3                    0\n",
       "FLAG_DOCUMENT_4                    0\n",
       "FLAG_DOCUMENT_5                    0\n",
       "FLAG_DOCUMENT_6                    0\n",
       "FLAG_DOCUMENT_7                    0\n",
       "FLAG_DOCUMENT_8                    0\n",
       "FLAG_DOCUMENT_9                    0\n",
       "FLAG_DOCUMENT_10                   0\n",
       "FLAG_DOCUMENT_11                   0\n",
       "FLAG_DOCUMENT_12                   0\n",
       "FLAG_DOCUMENT_13                   0\n",
       "FLAG_DOCUMENT_14                   0\n",
       "FLAG_DOCUMENT_15                   0\n",
       "FLAG_DOCUMENT_16                   0\n",
       "FLAG_DOCUMENT_17                   0\n",
       "FLAG_DOCUMENT_18                   0\n",
       "FLAG_DOCUMENT_19                   0\n",
       "FLAG_DOCUMENT_20                   0\n",
       "FLAG_DOCUMENT_21                   0\n",
       "AMT_REQ_CREDIT_BUREAU_HOUR     41518\n",
       "AMT_REQ_CREDIT_BUREAU_DAY      41518\n",
       "AMT_REQ_CREDIT_BUREAU_WEEK     41518\n",
       "AMT_REQ_CREDIT_BUREAU_MON      41518\n",
       "AMT_REQ_CREDIT_BUREAU_QRT      41518\n",
       "AMT_REQ_CREDIT_BUREAU_YEAR     41518\n",
       "dtype: int64"
      ]
     },
     "execution_count": 53,
     "metadata": {},
     "output_type": "execute_result"
    }
   ],
   "source": [
    "ad.isnull().sum()"
   ]
  },
  {
   "cell_type": "code",
   "execution_count": 54,
   "id": "fd4486fb",
   "metadata": {},
   "outputs": [
    {
     "data": {
      "text/plain": [
       "-757.0"
      ]
     },
     "execution_count": 54,
     "metadata": {},
     "output_type": "execute_result"
    }
   ],
   "source": [
    "ad['DAYS_LAST_PHONE_CHANGE'].median()"
   ]
  },
  {
   "cell_type": "code",
   "execution_count": 55,
   "id": "d24a2d3b",
   "metadata": {},
   "outputs": [],
   "source": [
    "ad['DAYS_LAST_PHONE_CHANGE']=ad['DAYS_LAST_PHONE_CHANGE'].fillna(ad['DAYS_LAST_PHONE_CHANGE'].median())"
   ]
  },
  {
   "cell_type": "code",
   "execution_count": 56,
   "id": "2cebd1e5",
   "metadata": {},
   "outputs": [
    {
     "data": {
      "text/plain": [
       "0"
      ]
     },
     "execution_count": 56,
     "metadata": {},
     "output_type": "execute_result"
    }
   ],
   "source": [
    "ad['DAYS_LAST_PHONE_CHANGE'].isnull().sum()"
   ]
  },
  {
   "cell_type": "code",
   "execution_count": 57,
   "id": "55bae651",
   "metadata": {},
   "outputs": [
    {
     "data": {
      "text/plain": [
       "SK_ID_CURR                         0\n",
       "TARGET                             0\n",
       "NAME_CONTRACT_TYPE                 0\n",
       "CODE_GENDER                        0\n",
       "FLAG_OWN_CAR                       0\n",
       "FLAG_OWN_REALTY                    0\n",
       "CNT_CHILDREN                       0\n",
       "AMT_INCOME_TOTAL                   0\n",
       "AMT_CREDIT                         0\n",
       "AMT_ANNUITY                        0\n",
       "AMT_GOODS_PRICE                    0\n",
       "NAME_TYPE_SUITE                    0\n",
       "NAME_INCOME_TYPE                   0\n",
       "NAME_EDUCATION_TYPE                0\n",
       "NAME_FAMILY_STATUS                 0\n",
       "NAME_HOUSING_TYPE                  0\n",
       "REGION_POPULATION_RELATIVE         0\n",
       "DAYS_BIRTH                         0\n",
       "DAYS_EMPLOYED                      0\n",
       "DAYS_REGISTRATION                  0\n",
       "DAYS_ID_PUBLISH                    0\n",
       "FLAG_MOBIL                         0\n",
       "FLAG_EMP_PHONE                     0\n",
       "FLAG_WORK_PHONE                    0\n",
       "FLAG_CONT_MOBILE                   0\n",
       "FLAG_PHONE                         0\n",
       "FLAG_EMAIL                         0\n",
       "OCCUPATION_TYPE                    0\n",
       "CNT_FAM_MEMBERS                    0\n",
       "REGION_RATING_CLIENT               0\n",
       "REGION_RATING_CLIENT_W_CITY        0\n",
       "WEEKDAY_APPR_PROCESS_START         0\n",
       "HOUR_APPR_PROCESS_START            0\n",
       "REG_REGION_NOT_LIVE_REGION         0\n",
       "REG_REGION_NOT_WORK_REGION         0\n",
       "LIVE_REGION_NOT_WORK_REGION        0\n",
       "REG_CITY_NOT_LIVE_CITY             0\n",
       "REG_CITY_NOT_WORK_CITY             0\n",
       "LIVE_CITY_NOT_WORK_CITY            0\n",
       "ORGANIZATION_TYPE                  0\n",
       "EXT_SOURCE_2                       0\n",
       "EXT_SOURCE_3                       0\n",
       "OBS_30_CNT_SOCIAL_CIRCLE        1021\n",
       "DEF_30_CNT_SOCIAL_CIRCLE        1021\n",
       "OBS_60_CNT_SOCIAL_CIRCLE        1021\n",
       "DEF_60_CNT_SOCIAL_CIRCLE        1021\n",
       "DAYS_LAST_PHONE_CHANGE             0\n",
       "FLAG_DOCUMENT_2                    0\n",
       "FLAG_DOCUMENT_3                    0\n",
       "FLAG_DOCUMENT_4                    0\n",
       "FLAG_DOCUMENT_5                    0\n",
       "FLAG_DOCUMENT_6                    0\n",
       "FLAG_DOCUMENT_7                    0\n",
       "FLAG_DOCUMENT_8                    0\n",
       "FLAG_DOCUMENT_9                    0\n",
       "FLAG_DOCUMENT_10                   0\n",
       "FLAG_DOCUMENT_11                   0\n",
       "FLAG_DOCUMENT_12                   0\n",
       "FLAG_DOCUMENT_13                   0\n",
       "FLAG_DOCUMENT_14                   0\n",
       "FLAG_DOCUMENT_15                   0\n",
       "FLAG_DOCUMENT_16                   0\n",
       "FLAG_DOCUMENT_17                   0\n",
       "FLAG_DOCUMENT_18                   0\n",
       "FLAG_DOCUMENT_19                   0\n",
       "FLAG_DOCUMENT_20                   0\n",
       "FLAG_DOCUMENT_21                   0\n",
       "AMT_REQ_CREDIT_BUREAU_HOUR     41518\n",
       "AMT_REQ_CREDIT_BUREAU_DAY      41518\n",
       "AMT_REQ_CREDIT_BUREAU_WEEK     41518\n",
       "AMT_REQ_CREDIT_BUREAU_MON      41518\n",
       "AMT_REQ_CREDIT_BUREAU_QRT      41518\n",
       "AMT_REQ_CREDIT_BUREAU_YEAR     41518\n",
       "dtype: int64"
      ]
     },
     "execution_count": 57,
     "metadata": {},
     "output_type": "execute_result"
    }
   ],
   "source": [
    "ad.isnull().sum()"
   ]
  },
  {
   "cell_type": "code",
   "execution_count": 58,
   "id": "7114f2d1",
   "metadata": {},
   "outputs": [
    {
     "data": {
      "text/plain": [
       "1.0"
      ]
     },
     "execution_count": 58,
     "metadata": {},
     "output_type": "execute_result"
    }
   ],
   "source": [
    "ad['AMT_REQ_CREDIT_BUREAU_YEAR'].median()"
   ]
  },
  {
   "cell_type": "code",
   "execution_count": 59,
   "id": "ae963f34",
   "metadata": {},
   "outputs": [],
   "source": [
    "ad['AMT_REQ_CREDIT_BUREAU_YEAR']=ad['AMT_REQ_CREDIT_BUREAU_YEAR'].fillna(ad['AMT_REQ_CREDIT_BUREAU_YEAR'].median())"
   ]
  },
  {
   "cell_type": "code",
   "execution_count": 60,
   "id": "9c6af8b8",
   "metadata": {},
   "outputs": [
    {
     "data": {
      "text/plain": [
       "0"
      ]
     },
     "execution_count": 60,
     "metadata": {},
     "output_type": "execute_result"
    }
   ],
   "source": [
    "ad['AMT_REQ_CREDIT_BUREAU_YEAR'].isnull().sum()"
   ]
  },
  {
   "cell_type": "code",
   "execution_count": 61,
   "id": "7a451557",
   "metadata": {},
   "outputs": [],
   "source": [
    "ad['AMT_REQ_CREDIT_BUREAU_QRT']=ad['AMT_REQ_CREDIT_BUREAU_QRT'].fillna(ad['AMT_REQ_CREDIT_BUREAU_QRT'].median())"
   ]
  },
  {
   "cell_type": "code",
   "execution_count": 62,
   "id": "2346e424",
   "metadata": {},
   "outputs": [
    {
     "data": {
      "text/plain": [
       "0"
      ]
     },
     "execution_count": 62,
     "metadata": {},
     "output_type": "execute_result"
    }
   ],
   "source": [
    "ad['AMT_REQ_CREDIT_BUREAU_QRT'].isnull().sum()"
   ]
  },
  {
   "cell_type": "code",
   "execution_count": 63,
   "id": "0c2b41c8",
   "metadata": {},
   "outputs": [],
   "source": [
    "ad['AMT_REQ_CREDIT_BUREAU_MON']=ad['AMT_REQ_CREDIT_BUREAU_MON'].fillna(ad['AMT_REQ_CREDIT_BUREAU_MON'].median())"
   ]
  },
  {
   "cell_type": "code",
   "execution_count": 64,
   "id": "5d425000",
   "metadata": {},
   "outputs": [
    {
     "data": {
      "text/plain": [
       "0"
      ]
     },
     "execution_count": 64,
     "metadata": {},
     "output_type": "execute_result"
    }
   ],
   "source": [
    "ad['AMT_REQ_CREDIT_BUREAU_MON'].isnull().sum()"
   ]
  },
  {
   "cell_type": "code",
   "execution_count": 65,
   "id": "873a99d7",
   "metadata": {},
   "outputs": [],
   "source": [
    "ad['AMT_REQ_CREDIT_BUREAU_WEEK']=ad['AMT_REQ_CREDIT_BUREAU_WEEK'].fillna(ad['AMT_REQ_CREDIT_BUREAU_WEEK'].median())"
   ]
  },
  {
   "cell_type": "code",
   "execution_count": 66,
   "id": "3f513d22",
   "metadata": {},
   "outputs": [
    {
     "data": {
      "text/plain": [
       "0"
      ]
     },
     "execution_count": 66,
     "metadata": {},
     "output_type": "execute_result"
    }
   ],
   "source": [
    "ad['AMT_REQ_CREDIT_BUREAU_WEEK'].isnull().sum()"
   ]
  },
  {
   "cell_type": "code",
   "execution_count": 67,
   "id": "2182be70",
   "metadata": {},
   "outputs": [],
   "source": [
    "ad['AMT_REQ_CREDIT_BUREAU_DAY']=ad['AMT_REQ_CREDIT_BUREAU_DAY'].fillna(ad['AMT_REQ_CREDIT_BUREAU_DAY'].median())"
   ]
  },
  {
   "cell_type": "code",
   "execution_count": 68,
   "id": "dba06b19",
   "metadata": {},
   "outputs": [
    {
     "data": {
      "text/plain": [
       "0"
      ]
     },
     "execution_count": 68,
     "metadata": {},
     "output_type": "execute_result"
    }
   ],
   "source": [
    "ad['AMT_REQ_CREDIT_BUREAU_DAY'].isnull().sum()"
   ]
  },
  {
   "cell_type": "code",
   "execution_count": 69,
   "id": "5df41032",
   "metadata": {},
   "outputs": [],
   "source": [
    "ad['AMT_REQ_CREDIT_BUREAU_HOUR']=ad['AMT_REQ_CREDIT_BUREAU_HOUR'].fillna(ad['AMT_REQ_CREDIT_BUREAU_HOUR'].median())"
   ]
  },
  {
   "cell_type": "code",
   "execution_count": 70,
   "id": "8d803e1d",
   "metadata": {},
   "outputs": [
    {
     "data": {
      "text/plain": [
       "0"
      ]
     },
     "execution_count": 70,
     "metadata": {},
     "output_type": "execute_result"
    }
   ],
   "source": [
    "ad['AMT_REQ_CREDIT_BUREAU_HOUR'].isnull().sum()"
   ]
  },
  {
   "cell_type": "code",
   "execution_count": 71,
   "id": "3739737e",
   "metadata": {},
   "outputs": [
    {
     "data": {
      "text/plain": [
       "SK_ID_CURR                        0\n",
       "TARGET                            0\n",
       "NAME_CONTRACT_TYPE                0\n",
       "CODE_GENDER                       0\n",
       "FLAG_OWN_CAR                      0\n",
       "FLAG_OWN_REALTY                   0\n",
       "CNT_CHILDREN                      0\n",
       "AMT_INCOME_TOTAL                  0\n",
       "AMT_CREDIT                        0\n",
       "AMT_ANNUITY                       0\n",
       "AMT_GOODS_PRICE                   0\n",
       "NAME_TYPE_SUITE                   0\n",
       "NAME_INCOME_TYPE                  0\n",
       "NAME_EDUCATION_TYPE               0\n",
       "NAME_FAMILY_STATUS                0\n",
       "NAME_HOUSING_TYPE                 0\n",
       "REGION_POPULATION_RELATIVE        0\n",
       "DAYS_BIRTH                        0\n",
       "DAYS_EMPLOYED                     0\n",
       "DAYS_REGISTRATION                 0\n",
       "DAYS_ID_PUBLISH                   0\n",
       "FLAG_MOBIL                        0\n",
       "FLAG_EMP_PHONE                    0\n",
       "FLAG_WORK_PHONE                   0\n",
       "FLAG_CONT_MOBILE                  0\n",
       "FLAG_PHONE                        0\n",
       "FLAG_EMAIL                        0\n",
       "OCCUPATION_TYPE                   0\n",
       "CNT_FAM_MEMBERS                   0\n",
       "REGION_RATING_CLIENT              0\n",
       "REGION_RATING_CLIENT_W_CITY       0\n",
       "WEEKDAY_APPR_PROCESS_START        0\n",
       "HOUR_APPR_PROCESS_START           0\n",
       "REG_REGION_NOT_LIVE_REGION        0\n",
       "REG_REGION_NOT_WORK_REGION        0\n",
       "LIVE_REGION_NOT_WORK_REGION       0\n",
       "REG_CITY_NOT_LIVE_CITY            0\n",
       "REG_CITY_NOT_WORK_CITY            0\n",
       "LIVE_CITY_NOT_WORK_CITY           0\n",
       "ORGANIZATION_TYPE                 0\n",
       "EXT_SOURCE_2                      0\n",
       "EXT_SOURCE_3                      0\n",
       "OBS_30_CNT_SOCIAL_CIRCLE       1021\n",
       "DEF_30_CNT_SOCIAL_CIRCLE       1021\n",
       "OBS_60_CNT_SOCIAL_CIRCLE       1021\n",
       "DEF_60_CNT_SOCIAL_CIRCLE       1021\n",
       "DAYS_LAST_PHONE_CHANGE            0\n",
       "FLAG_DOCUMENT_2                   0\n",
       "FLAG_DOCUMENT_3                   0\n",
       "FLAG_DOCUMENT_4                   0\n",
       "FLAG_DOCUMENT_5                   0\n",
       "FLAG_DOCUMENT_6                   0\n",
       "FLAG_DOCUMENT_7                   0\n",
       "FLAG_DOCUMENT_8                   0\n",
       "FLAG_DOCUMENT_9                   0\n",
       "FLAG_DOCUMENT_10                  0\n",
       "FLAG_DOCUMENT_11                  0\n",
       "FLAG_DOCUMENT_12                  0\n",
       "FLAG_DOCUMENT_13                  0\n",
       "FLAG_DOCUMENT_14                  0\n",
       "FLAG_DOCUMENT_15                  0\n",
       "FLAG_DOCUMENT_16                  0\n",
       "FLAG_DOCUMENT_17                  0\n",
       "FLAG_DOCUMENT_18                  0\n",
       "FLAG_DOCUMENT_19                  0\n",
       "FLAG_DOCUMENT_20                  0\n",
       "FLAG_DOCUMENT_21                  0\n",
       "AMT_REQ_CREDIT_BUREAU_HOUR        0\n",
       "AMT_REQ_CREDIT_BUREAU_DAY         0\n",
       "AMT_REQ_CREDIT_BUREAU_WEEK        0\n",
       "AMT_REQ_CREDIT_BUREAU_MON         0\n",
       "AMT_REQ_CREDIT_BUREAU_QRT         0\n",
       "AMT_REQ_CREDIT_BUREAU_YEAR        0\n",
       "dtype: int64"
      ]
     },
     "execution_count": 71,
     "metadata": {},
     "output_type": "execute_result"
    }
   ],
   "source": [
    "ad.isnull().sum()"
   ]
  },
  {
   "cell_type": "code",
   "execution_count": 72,
   "id": "2b99acbf",
   "metadata": {},
   "outputs": [
    {
     "data": {
      "text/plain": [
       "0.0"
      ]
     },
     "execution_count": 72,
     "metadata": {},
     "output_type": "execute_result"
    }
   ],
   "source": [
    "ad['OBS_30_CNT_SOCIAL_CIRCLE'].median()"
   ]
  },
  {
   "cell_type": "code",
   "execution_count": 73,
   "id": "4e585b31",
   "metadata": {},
   "outputs": [],
   "source": [
    "ad['OBS_30_CNT_SOCIAL_CIRCLE']=ad['OBS_30_CNT_SOCIAL_CIRCLE'].fillna(ad['OBS_30_CNT_SOCIAL_CIRCLE'].median())"
   ]
  },
  {
   "cell_type": "code",
   "execution_count": 74,
   "id": "6afcd583",
   "metadata": {},
   "outputs": [
    {
     "data": {
      "text/plain": [
       "0"
      ]
     },
     "execution_count": 74,
     "metadata": {},
     "output_type": "execute_result"
    }
   ],
   "source": [
    "ad['OBS_30_CNT_SOCIAL_CIRCLE'].isnull().sum()"
   ]
  },
  {
   "cell_type": "code",
   "execution_count": 75,
   "id": "fe139d7f",
   "metadata": {},
   "outputs": [
    {
     "data": {
      "text/plain": [
       "0.0"
      ]
     },
     "execution_count": 75,
     "metadata": {},
     "output_type": "execute_result"
    }
   ],
   "source": [
    "ad['DEF_30_CNT_SOCIAL_CIRCLE'].median()"
   ]
  },
  {
   "cell_type": "code",
   "execution_count": 76,
   "id": "e7a3024d",
   "metadata": {},
   "outputs": [],
   "source": [
    "ad['DEF_30_CNT_SOCIAL_CIRCLE']=ad['DEF_30_CNT_SOCIAL_CIRCLE'].fillna(ad['DEF_30_CNT_SOCIAL_CIRCLE'].median())"
   ]
  },
  {
   "cell_type": "code",
   "execution_count": 77,
   "id": "3e2bd8b5",
   "metadata": {},
   "outputs": [
    {
     "data": {
      "text/plain": [
       "0"
      ]
     },
     "execution_count": 77,
     "metadata": {},
     "output_type": "execute_result"
    }
   ],
   "source": [
    "ad['DEF_30_CNT_SOCIAL_CIRCLE'].isnull().sum()"
   ]
  },
  {
   "cell_type": "code",
   "execution_count": 78,
   "id": "d827aab1",
   "metadata": {},
   "outputs": [
    {
     "data": {
      "text/plain": [
       "0.0"
      ]
     },
     "execution_count": 78,
     "metadata": {},
     "output_type": "execute_result"
    }
   ],
   "source": [
    "ad['OBS_60_CNT_SOCIAL_CIRCLE'].median()"
   ]
  },
  {
   "cell_type": "code",
   "execution_count": 79,
   "id": "3e7cac76",
   "metadata": {},
   "outputs": [],
   "source": [
    "ad['OBS_60_CNT_SOCIAL_CIRCLE']=ad['OBS_60_CNT_SOCIAL_CIRCLE'].fillna(ad['OBS_60_CNT_SOCIAL_CIRCLE'].median())"
   ]
  },
  {
   "cell_type": "code",
   "execution_count": 80,
   "id": "3915b1c4",
   "metadata": {},
   "outputs": [
    {
     "data": {
      "text/plain": [
       "0"
      ]
     },
     "execution_count": 80,
     "metadata": {},
     "output_type": "execute_result"
    }
   ],
   "source": [
    "ad['OBS_60_CNT_SOCIAL_CIRCLE'].isnull().sum()"
   ]
  },
  {
   "cell_type": "code",
   "execution_count": 81,
   "id": "e877591c",
   "metadata": {},
   "outputs": [
    {
     "data": {
      "text/plain": [
       "0.0"
      ]
     },
     "execution_count": 81,
     "metadata": {},
     "output_type": "execute_result"
    }
   ],
   "source": [
    "ad['DEF_60_CNT_SOCIAL_CIRCLE'].median()"
   ]
  },
  {
   "cell_type": "code",
   "execution_count": 82,
   "id": "777b7eb8",
   "metadata": {},
   "outputs": [],
   "source": [
    "ad['DEF_60_CNT_SOCIAL_CIRCLE']=ad['DEF_60_CNT_SOCIAL_CIRCLE'].fillna(ad['DEF_60_CNT_SOCIAL_CIRCLE'].median())"
   ]
  },
  {
   "cell_type": "code",
   "execution_count": 83,
   "id": "75d4c540",
   "metadata": {},
   "outputs": [
    {
     "data": {
      "text/plain": [
       "0"
      ]
     },
     "execution_count": 83,
     "metadata": {},
     "output_type": "execute_result"
    }
   ],
   "source": [
    "ad['DEF_60_CNT_SOCIAL_CIRCLE'].isnull().sum()"
   ]
  },
  {
   "cell_type": "code",
   "execution_count": 84,
   "id": "e2c30781",
   "metadata": {},
   "outputs": [
    {
     "data": {
      "text/plain": [
       "SK_ID_CURR                     0\n",
       "TARGET                         0\n",
       "NAME_CONTRACT_TYPE             0\n",
       "CODE_GENDER                    0\n",
       "FLAG_OWN_CAR                   0\n",
       "FLAG_OWN_REALTY                0\n",
       "CNT_CHILDREN                   0\n",
       "AMT_INCOME_TOTAL               0\n",
       "AMT_CREDIT                     0\n",
       "AMT_ANNUITY                    0\n",
       "AMT_GOODS_PRICE                0\n",
       "NAME_TYPE_SUITE                0\n",
       "NAME_INCOME_TYPE               0\n",
       "NAME_EDUCATION_TYPE            0\n",
       "NAME_FAMILY_STATUS             0\n",
       "NAME_HOUSING_TYPE              0\n",
       "REGION_POPULATION_RELATIVE     0\n",
       "DAYS_BIRTH                     0\n",
       "DAYS_EMPLOYED                  0\n",
       "DAYS_REGISTRATION              0\n",
       "DAYS_ID_PUBLISH                0\n",
       "FLAG_MOBIL                     0\n",
       "FLAG_EMP_PHONE                 0\n",
       "FLAG_WORK_PHONE                0\n",
       "FLAG_CONT_MOBILE               0\n",
       "FLAG_PHONE                     0\n",
       "FLAG_EMAIL                     0\n",
       "OCCUPATION_TYPE                0\n",
       "CNT_FAM_MEMBERS                0\n",
       "REGION_RATING_CLIENT           0\n",
       "REGION_RATING_CLIENT_W_CITY    0\n",
       "WEEKDAY_APPR_PROCESS_START     0\n",
       "HOUR_APPR_PROCESS_START        0\n",
       "REG_REGION_NOT_LIVE_REGION     0\n",
       "REG_REGION_NOT_WORK_REGION     0\n",
       "LIVE_REGION_NOT_WORK_REGION    0\n",
       "REG_CITY_NOT_LIVE_CITY         0\n",
       "REG_CITY_NOT_WORK_CITY         0\n",
       "LIVE_CITY_NOT_WORK_CITY        0\n",
       "ORGANIZATION_TYPE              0\n",
       "EXT_SOURCE_2                   0\n",
       "EXT_SOURCE_3                   0\n",
       "OBS_30_CNT_SOCIAL_CIRCLE       0\n",
       "DEF_30_CNT_SOCIAL_CIRCLE       0\n",
       "OBS_60_CNT_SOCIAL_CIRCLE       0\n",
       "DEF_60_CNT_SOCIAL_CIRCLE       0\n",
       "DAYS_LAST_PHONE_CHANGE         0\n",
       "FLAG_DOCUMENT_2                0\n",
       "FLAG_DOCUMENT_3                0\n",
       "FLAG_DOCUMENT_4                0\n",
       "FLAG_DOCUMENT_5                0\n",
       "FLAG_DOCUMENT_6                0\n",
       "FLAG_DOCUMENT_7                0\n",
       "FLAG_DOCUMENT_8                0\n",
       "FLAG_DOCUMENT_9                0\n",
       "FLAG_DOCUMENT_10               0\n",
       "FLAG_DOCUMENT_11               0\n",
       "FLAG_DOCUMENT_12               0\n",
       "FLAG_DOCUMENT_13               0\n",
       "FLAG_DOCUMENT_14               0\n",
       "FLAG_DOCUMENT_15               0\n",
       "FLAG_DOCUMENT_16               0\n",
       "FLAG_DOCUMENT_17               0\n",
       "FLAG_DOCUMENT_18               0\n",
       "FLAG_DOCUMENT_19               0\n",
       "FLAG_DOCUMENT_20               0\n",
       "FLAG_DOCUMENT_21               0\n",
       "AMT_REQ_CREDIT_BUREAU_HOUR     0\n",
       "AMT_REQ_CREDIT_BUREAU_DAY      0\n",
       "AMT_REQ_CREDIT_BUREAU_WEEK     0\n",
       "AMT_REQ_CREDIT_BUREAU_MON      0\n",
       "AMT_REQ_CREDIT_BUREAU_QRT      0\n",
       "AMT_REQ_CREDIT_BUREAU_YEAR     0\n",
       "dtype: int64"
      ]
     },
     "execution_count": 84,
     "metadata": {},
     "output_type": "execute_result"
    }
   ],
   "source": [
    "ad.isnull().sum()"
   ]
  },
  {
   "cell_type": "markdown",
   "id": "6191d7d7",
   "metadata": {},
   "source": [
    "-- After cleaning the application data now we will clean the previous_application(pa)"
   ]
  },
  {
   "cell_type": "code",
   "execution_count": 85,
   "id": "40f224e0",
   "metadata": {},
   "outputs": [
    {
     "data": {
      "text/plain": [
       "SK_ID_PREV                           0\n",
       "SK_ID_CURR                           0\n",
       "NAME_CONTRACT_TYPE                   0\n",
       "AMT_ANNUITY                     372235\n",
       "AMT_APPLICATION                      0\n",
       "AMT_CREDIT                           1\n",
       "AMT_DOWN_PAYMENT                895844\n",
       "AMT_GOODS_PRICE                 385515\n",
       "WEEKDAY_APPR_PROCESS_START           0\n",
       "HOUR_APPR_PROCESS_START              0\n",
       "FLAG_LAST_APPL_PER_CONTRACT          0\n",
       "NFLAG_LAST_APPL_IN_DAY               0\n",
       "RATE_DOWN_PAYMENT               895844\n",
       "RATE_INTEREST_PRIMARY          1664263\n",
       "RATE_INTEREST_PRIVILEGED       1664263\n",
       "NAME_CASH_LOAN_PURPOSE               0\n",
       "NAME_CONTRACT_STATUS                 0\n",
       "DAYS_DECISION                        0\n",
       "NAME_PAYMENT_TYPE                    0\n",
       "CODE_REJECT_REASON                   0\n",
       "NAME_TYPE_SUITE                 820405\n",
       "NAME_CLIENT_TYPE                     0\n",
       "NAME_GOODS_CATEGORY                  0\n",
       "NAME_PORTFOLIO                       0\n",
       "NAME_PRODUCT_TYPE                    0\n",
       "CHANNEL_TYPE                         0\n",
       "SELLERPLACE_AREA                     0\n",
       "NAME_SELLER_INDUSTRY                 0\n",
       "CNT_PAYMENT                     372230\n",
       "NAME_YIELD_GROUP                     0\n",
       "PRODUCT_COMBINATION                346\n",
       "DAYS_FIRST_DRAWING              673065\n",
       "DAYS_FIRST_DUE                  673065\n",
       "DAYS_LAST_DUE_1ST_VERSION       673065\n",
       "DAYS_LAST_DUE                   673065\n",
       "DAYS_TERMINATION                673065\n",
       "NFLAG_INSURED_ON_APPROVAL       673065\n",
       "dtype: int64"
      ]
     },
     "execution_count": 85,
     "metadata": {},
     "output_type": "execute_result"
    }
   ],
   "source": [
    "pa.isnull().sum()"
   ]
  },
  {
   "cell_type": "code",
   "execution_count": 86,
   "id": "c6c677cd",
   "metadata": {},
   "outputs": [
    {
     "data": {
      "text/plain": [
       "372235"
      ]
     },
     "execution_count": 86,
     "metadata": {},
     "output_type": "execute_result"
    }
   ],
   "source": [
    "pa['AMT_ANNUITY'].isnull().sum()"
   ]
  },
  {
   "cell_type": "code",
   "execution_count": 87,
   "id": "577c3b9a",
   "metadata": {},
   "outputs": [
    {
     "data": {
      "text/plain": [
       "(1670214,)"
      ]
     },
     "execution_count": 87,
     "metadata": {},
     "output_type": "execute_result"
    }
   ],
   "source": [
    "pa['AMT_ANNUITY'].shape"
   ]
  },
  {
   "cell_type": "code",
   "execution_count": 88,
   "id": "43b2ed77",
   "metadata": {},
   "outputs": [
    {
     "data": {
      "text/plain": [
       "22.286665062081866"
      ]
     },
     "execution_count": 88,
     "metadata": {},
     "output_type": "execute_result"
    }
   ],
   "source": [
    "float(100*(372235/1670214))"
   ]
  },
  {
   "cell_type": "code",
   "execution_count": 89,
   "id": "065c9483",
   "metadata": {},
   "outputs": [],
   "source": [
    "pd.set_option(\"display.max_rows\",100)"
   ]
  },
  {
   "cell_type": "code",
   "execution_count": 90,
   "id": "74d28b84",
   "metadata": {},
   "outputs": [
    {
     "data": {
      "text/html": [
       "<div>\n",
       "<style scoped>\n",
       "    .dataframe tbody tr th:only-of-type {\n",
       "        vertical-align: middle;\n",
       "    }\n",
       "\n",
       "    .dataframe tbody tr th {\n",
       "        vertical-align: top;\n",
       "    }\n",
       "\n",
       "    .dataframe thead th {\n",
       "        text-align: right;\n",
       "    }\n",
       "</style>\n",
       "<table border=\"1\" class=\"dataframe\">\n",
       "  <thead>\n",
       "    <tr style=\"text-align: right;\">\n",
       "      <th></th>\n",
       "      <th>column</th>\n",
       "      <th>Missing</th>\n",
       "    </tr>\n",
       "  </thead>\n",
       "  <tbody>\n",
       "    <tr>\n",
       "      <th>14</th>\n",
       "      <td>RATE_INTEREST_PRIVILEGED</td>\n",
       "      <td>9.964370e-01</td>\n",
       "    </tr>\n",
       "    <tr>\n",
       "      <th>13</th>\n",
       "      <td>RATE_INTEREST_PRIMARY</td>\n",
       "      <td>9.964370e-01</td>\n",
       "    </tr>\n",
       "    <tr>\n",
       "      <th>6</th>\n",
       "      <td>AMT_DOWN_PAYMENT</td>\n",
       "      <td>5.363648e-01</td>\n",
       "    </tr>\n",
       "    <tr>\n",
       "      <th>12</th>\n",
       "      <td>RATE_DOWN_PAYMENT</td>\n",
       "      <td>5.363648e-01</td>\n",
       "    </tr>\n",
       "    <tr>\n",
       "      <th>20</th>\n",
       "      <td>NAME_TYPE_SUITE</td>\n",
       "      <td>4.911975e-01</td>\n",
       "    </tr>\n",
       "    <tr>\n",
       "      <th>36</th>\n",
       "      <td>NFLAG_INSURED_ON_APPROVAL</td>\n",
       "      <td>4.029813e-01</td>\n",
       "    </tr>\n",
       "    <tr>\n",
       "      <th>35</th>\n",
       "      <td>DAYS_TERMINATION</td>\n",
       "      <td>4.029813e-01</td>\n",
       "    </tr>\n",
       "    <tr>\n",
       "      <th>34</th>\n",
       "      <td>DAYS_LAST_DUE</td>\n",
       "      <td>4.029813e-01</td>\n",
       "    </tr>\n",
       "    <tr>\n",
       "      <th>33</th>\n",
       "      <td>DAYS_LAST_DUE_1ST_VERSION</td>\n",
       "      <td>4.029813e-01</td>\n",
       "    </tr>\n",
       "    <tr>\n",
       "      <th>32</th>\n",
       "      <td>DAYS_FIRST_DUE</td>\n",
       "      <td>4.029813e-01</td>\n",
       "    </tr>\n",
       "    <tr>\n",
       "      <th>31</th>\n",
       "      <td>DAYS_FIRST_DRAWING</td>\n",
       "      <td>4.029813e-01</td>\n",
       "    </tr>\n",
       "    <tr>\n",
       "      <th>7</th>\n",
       "      <td>AMT_GOODS_PRICE</td>\n",
       "      <td>2.308177e-01</td>\n",
       "    </tr>\n",
       "    <tr>\n",
       "      <th>3</th>\n",
       "      <td>AMT_ANNUITY</td>\n",
       "      <td>2.228667e-01</td>\n",
       "    </tr>\n",
       "    <tr>\n",
       "      <th>28</th>\n",
       "      <td>CNT_PAYMENT</td>\n",
       "      <td>2.228637e-01</td>\n",
       "    </tr>\n",
       "    <tr>\n",
       "      <th>30</th>\n",
       "      <td>PRODUCT_COMBINATION</td>\n",
       "      <td>2.071591e-04</td>\n",
       "    </tr>\n",
       "    <tr>\n",
       "      <th>5</th>\n",
       "      <td>AMT_CREDIT</td>\n",
       "      <td>5.987257e-07</td>\n",
       "    </tr>\n",
       "    <tr>\n",
       "      <th>29</th>\n",
       "      <td>NAME_YIELD_GROUP</td>\n",
       "      <td>0.000000e+00</td>\n",
       "    </tr>\n",
       "    <tr>\n",
       "      <th>23</th>\n",
       "      <td>NAME_PORTFOLIO</td>\n",
       "      <td>0.000000e+00</td>\n",
       "    </tr>\n",
       "    <tr>\n",
       "      <th>27</th>\n",
       "      <td>NAME_SELLER_INDUSTRY</td>\n",
       "      <td>0.000000e+00</td>\n",
       "    </tr>\n",
       "    <tr>\n",
       "      <th>26</th>\n",
       "      <td>SELLERPLACE_AREA</td>\n",
       "      <td>0.000000e+00</td>\n",
       "    </tr>\n",
       "    <tr>\n",
       "      <th>25</th>\n",
       "      <td>CHANNEL_TYPE</td>\n",
       "      <td>0.000000e+00</td>\n",
       "    </tr>\n",
       "    <tr>\n",
       "      <th>24</th>\n",
       "      <td>NAME_PRODUCT_TYPE</td>\n",
       "      <td>0.000000e+00</td>\n",
       "    </tr>\n",
       "    <tr>\n",
       "      <th>0</th>\n",
       "      <td>SK_ID_PREV</td>\n",
       "      <td>0.000000e+00</td>\n",
       "    </tr>\n",
       "    <tr>\n",
       "      <th>22</th>\n",
       "      <td>NAME_GOODS_CATEGORY</td>\n",
       "      <td>0.000000e+00</td>\n",
       "    </tr>\n",
       "    <tr>\n",
       "      <th>21</th>\n",
       "      <td>NAME_CLIENT_TYPE</td>\n",
       "      <td>0.000000e+00</td>\n",
       "    </tr>\n",
       "    <tr>\n",
       "      <th>19</th>\n",
       "      <td>CODE_REJECT_REASON</td>\n",
       "      <td>0.000000e+00</td>\n",
       "    </tr>\n",
       "    <tr>\n",
       "      <th>1</th>\n",
       "      <td>SK_ID_CURR</td>\n",
       "      <td>0.000000e+00</td>\n",
       "    </tr>\n",
       "    <tr>\n",
       "      <th>17</th>\n",
       "      <td>DAYS_DECISION</td>\n",
       "      <td>0.000000e+00</td>\n",
       "    </tr>\n",
       "    <tr>\n",
       "      <th>16</th>\n",
       "      <td>NAME_CONTRACT_STATUS</td>\n",
       "      <td>0.000000e+00</td>\n",
       "    </tr>\n",
       "    <tr>\n",
       "      <th>15</th>\n",
       "      <td>NAME_CASH_LOAN_PURPOSE</td>\n",
       "      <td>0.000000e+00</td>\n",
       "    </tr>\n",
       "    <tr>\n",
       "      <th>11</th>\n",
       "      <td>NFLAG_LAST_APPL_IN_DAY</td>\n",
       "      <td>0.000000e+00</td>\n",
       "    </tr>\n",
       "    <tr>\n",
       "      <th>10</th>\n",
       "      <td>FLAG_LAST_APPL_PER_CONTRACT</td>\n",
       "      <td>0.000000e+00</td>\n",
       "    </tr>\n",
       "    <tr>\n",
       "      <th>9</th>\n",
       "      <td>HOUR_APPR_PROCESS_START</td>\n",
       "      <td>0.000000e+00</td>\n",
       "    </tr>\n",
       "    <tr>\n",
       "      <th>8</th>\n",
       "      <td>WEEKDAY_APPR_PROCESS_START</td>\n",
       "      <td>0.000000e+00</td>\n",
       "    </tr>\n",
       "    <tr>\n",
       "      <th>4</th>\n",
       "      <td>AMT_APPLICATION</td>\n",
       "      <td>0.000000e+00</td>\n",
       "    </tr>\n",
       "    <tr>\n",
       "      <th>2</th>\n",
       "      <td>NAME_CONTRACT_TYPE</td>\n",
       "      <td>0.000000e+00</td>\n",
       "    </tr>\n",
       "    <tr>\n",
       "      <th>18</th>\n",
       "      <td>NAME_PAYMENT_TYPE</td>\n",
       "      <td>0.000000e+00</td>\n",
       "    </tr>\n",
       "  </tbody>\n",
       "</table>\n",
       "</div>"
      ],
      "text/plain": [
       "                         column       Missing\n",
       "14     RATE_INTEREST_PRIVILEGED  9.964370e-01\n",
       "13        RATE_INTEREST_PRIMARY  9.964370e-01\n",
       "6              AMT_DOWN_PAYMENT  5.363648e-01\n",
       "12            RATE_DOWN_PAYMENT  5.363648e-01\n",
       "20              NAME_TYPE_SUITE  4.911975e-01\n",
       "36    NFLAG_INSURED_ON_APPROVAL  4.029813e-01\n",
       "35             DAYS_TERMINATION  4.029813e-01\n",
       "34                DAYS_LAST_DUE  4.029813e-01\n",
       "33    DAYS_LAST_DUE_1ST_VERSION  4.029813e-01\n",
       "32               DAYS_FIRST_DUE  4.029813e-01\n",
       "31           DAYS_FIRST_DRAWING  4.029813e-01\n",
       "7               AMT_GOODS_PRICE  2.308177e-01\n",
       "3                   AMT_ANNUITY  2.228667e-01\n",
       "28                  CNT_PAYMENT  2.228637e-01\n",
       "30          PRODUCT_COMBINATION  2.071591e-04\n",
       "5                    AMT_CREDIT  5.987257e-07\n",
       "29             NAME_YIELD_GROUP  0.000000e+00\n",
       "23               NAME_PORTFOLIO  0.000000e+00\n",
       "27         NAME_SELLER_INDUSTRY  0.000000e+00\n",
       "26             SELLERPLACE_AREA  0.000000e+00\n",
       "25                 CHANNEL_TYPE  0.000000e+00\n",
       "24            NAME_PRODUCT_TYPE  0.000000e+00\n",
       "0                    SK_ID_PREV  0.000000e+00\n",
       "22          NAME_GOODS_CATEGORY  0.000000e+00\n",
       "21             NAME_CLIENT_TYPE  0.000000e+00\n",
       "19           CODE_REJECT_REASON  0.000000e+00\n",
       "1                    SK_ID_CURR  0.000000e+00\n",
       "17                DAYS_DECISION  0.000000e+00\n",
       "16         NAME_CONTRACT_STATUS  0.000000e+00\n",
       "15       NAME_CASH_LOAN_PURPOSE  0.000000e+00\n",
       "11       NFLAG_LAST_APPL_IN_DAY  0.000000e+00\n",
       "10  FLAG_LAST_APPL_PER_CONTRACT  0.000000e+00\n",
       "9       HOUR_APPR_PROCESS_START  0.000000e+00\n",
       "8    WEEKDAY_APPR_PROCESS_START  0.000000e+00\n",
       "4               AMT_APPLICATION  0.000000e+00\n",
       "2            NAME_CONTRACT_TYPE  0.000000e+00\n",
       "18            NAME_PAYMENT_TYPE  0.000000e+00"
      ]
     },
     "execution_count": 90,
     "metadata": {},
     "output_type": "execute_result"
    }
   ],
   "source": [
    "temp1=pa.isnull().mean().reset_index().rename(columns={\"index\":\"column\",0:\"Missing\"}).sort_values(by=\"Missing\",ascending=False)\n",
    "temp1"
   ]
  },
  {
   "cell_type": "code",
   "execution_count": 91,
   "id": "b8a9b8f6",
   "metadata": {},
   "outputs": [
    {
     "data": {
      "text/plain": [
       "['RATE_INTEREST_PRIVILEGED',\n",
       " 'RATE_INTEREST_PRIMARY',\n",
       " 'AMT_DOWN_PAYMENT',\n",
       " 'RATE_DOWN_PAYMENT',\n",
       " 'NAME_TYPE_SUITE',\n",
       " 'NFLAG_INSURED_ON_APPROVAL',\n",
       " 'DAYS_TERMINATION',\n",
       " 'DAYS_LAST_DUE',\n",
       " 'DAYS_LAST_DUE_1ST_VERSION',\n",
       " 'DAYS_FIRST_DUE',\n",
       " 'DAYS_FIRST_DRAWING']"
      ]
     },
     "execution_count": 91,
     "metadata": {},
     "output_type": "execute_result"
    }
   ],
   "source": [
    "drop_cols_pa=list(temp1[temp1[\"Missing\"]>0.4][\"column\"])\n",
    "drop_cols_pa"
   ]
  },
  {
   "cell_type": "code",
   "execution_count": 92,
   "id": "7eaec96e",
   "metadata": {},
   "outputs": [],
   "source": [
    "pa.drop(drop_cols_pa,axis=1,inplace=True)"
   ]
  },
  {
   "cell_type": "code",
   "execution_count": 93,
   "id": "76d2c028",
   "metadata": {},
   "outputs": [
    {
     "data": {
      "text/plain": [
       "(1670214, 26)"
      ]
     },
     "execution_count": 93,
     "metadata": {},
     "output_type": "execute_result"
    }
   ],
   "source": [
    "pa.shape"
   ]
  },
  {
   "cell_type": "code",
   "execution_count": 94,
   "id": "decea7b4",
   "metadata": {},
   "outputs": [
    {
     "data": {
      "text/plain": [
       "SK_ID_PREV                          0\n",
       "SK_ID_CURR                          0\n",
       "NAME_CONTRACT_TYPE                  0\n",
       "AMT_ANNUITY                    372235\n",
       "AMT_APPLICATION                     0\n",
       "AMT_CREDIT                          1\n",
       "AMT_GOODS_PRICE                385515\n",
       "WEEKDAY_APPR_PROCESS_START          0\n",
       "HOUR_APPR_PROCESS_START             0\n",
       "FLAG_LAST_APPL_PER_CONTRACT         0\n",
       "NFLAG_LAST_APPL_IN_DAY              0\n",
       "NAME_CASH_LOAN_PURPOSE              0\n",
       "NAME_CONTRACT_STATUS                0\n",
       "DAYS_DECISION                       0\n",
       "NAME_PAYMENT_TYPE                   0\n",
       "CODE_REJECT_REASON                  0\n",
       "NAME_CLIENT_TYPE                    0\n",
       "NAME_GOODS_CATEGORY                 0\n",
       "NAME_PORTFOLIO                      0\n",
       "NAME_PRODUCT_TYPE                   0\n",
       "CHANNEL_TYPE                        0\n",
       "SELLERPLACE_AREA                    0\n",
       "NAME_SELLER_INDUSTRY                0\n",
       "CNT_PAYMENT                    372230\n",
       "NAME_YIELD_GROUP                    0\n",
       "PRODUCT_COMBINATION               346\n",
       "dtype: int64"
      ]
     },
     "execution_count": 94,
     "metadata": {},
     "output_type": "execute_result"
    }
   ],
   "source": [
    "pa.isnull().sum()"
   ]
  },
  {
   "cell_type": "code",
   "execution_count": 95,
   "id": "0d781af1",
   "metadata": {},
   "outputs": [
    {
     "data": {
      "text/plain": [
       "11250.0"
      ]
     },
     "execution_count": 95,
     "metadata": {},
     "output_type": "execute_result"
    }
   ],
   "source": [
    "pa['AMT_ANNUITY'].median()"
   ]
  },
  {
   "cell_type": "code",
   "execution_count": 96,
   "id": "eee63897",
   "metadata": {},
   "outputs": [],
   "source": [
    "pa['AMT_ANNUITY']=pa['AMT_ANNUITY'].fillna(pa['AMT_ANNUITY'].median())"
   ]
  },
  {
   "cell_type": "code",
   "execution_count": 97,
   "id": "d2ba03a0",
   "metadata": {},
   "outputs": [
    {
     "data": {
      "text/plain": [
       "0"
      ]
     },
     "execution_count": 97,
     "metadata": {},
     "output_type": "execute_result"
    }
   ],
   "source": [
    "pa['AMT_ANNUITY'].isnull().sum()"
   ]
  },
  {
   "cell_type": "code",
   "execution_count": 98,
   "id": "47577f10",
   "metadata": {},
   "outputs": [],
   "source": [
    "pa=pa[~pa['AMT_CREDIT'].isnull()]"
   ]
  },
  {
   "cell_type": "code",
   "execution_count": 99,
   "id": "558c1aa4",
   "metadata": {},
   "outputs": [
    {
     "data": {
      "text/plain": [
       "0"
      ]
     },
     "execution_count": 99,
     "metadata": {},
     "output_type": "execute_result"
    }
   ],
   "source": [
    "pa['AMT_CREDIT'].isnull().sum()"
   ]
  },
  {
   "cell_type": "code",
   "execution_count": 100,
   "id": "a228fef5",
   "metadata": {},
   "outputs": [
    {
     "data": {
      "text/plain": [
       "112320.0"
      ]
     },
     "execution_count": 100,
     "metadata": {},
     "output_type": "execute_result"
    }
   ],
   "source": [
    "pa['AMT_GOODS_PRICE'].median()"
   ]
  },
  {
   "cell_type": "code",
   "execution_count": 101,
   "id": "3cef11d4",
   "metadata": {},
   "outputs": [],
   "source": [
    "pa['AMT_GOODS_PRICE']=pa['AMT_GOODS_PRICE'].fillna(pa['AMT_GOODS_PRICE'].median())"
   ]
  },
  {
   "cell_type": "code",
   "execution_count": 102,
   "id": "78a934f6",
   "metadata": {},
   "outputs": [
    {
     "data": {
      "text/plain": [
       "0"
      ]
     },
     "execution_count": 102,
     "metadata": {},
     "output_type": "execute_result"
    }
   ],
   "source": [
    "pa['AMT_GOODS_PRICE'].isnull().sum()"
   ]
  },
  {
   "cell_type": "code",
   "execution_count": 103,
   "id": "4bd64db2",
   "metadata": {},
   "outputs": [
    {
     "data": {
      "text/plain": [
       "12.0"
      ]
     },
     "execution_count": 103,
     "metadata": {},
     "output_type": "execute_result"
    }
   ],
   "source": [
    "pa['CNT_PAYMENT'].median()"
   ]
  },
  {
   "cell_type": "code",
   "execution_count": 104,
   "id": "827e19bb",
   "metadata": {},
   "outputs": [],
   "source": [
    "pa['CNT_PAYMENT']=pa['CNT_PAYMENT'].fillna(pa['CNT_PAYMENT'].median())"
   ]
  },
  {
   "cell_type": "code",
   "execution_count": 105,
   "id": "7ebb7dbc",
   "metadata": {},
   "outputs": [
    {
     "data": {
      "text/plain": [
       "0"
      ]
     },
     "execution_count": 105,
     "metadata": {},
     "output_type": "execute_result"
    }
   ],
   "source": [
    "pa['CNT_PAYMENT'].isnull().sum()"
   ]
  },
  {
   "cell_type": "code",
   "execution_count": 106,
   "id": "74f259e3",
   "metadata": {},
   "outputs": [],
   "source": [
    "pa=pa[~pa['PRODUCT_COMBINATION'].isnull()]"
   ]
  },
  {
   "cell_type": "code",
   "execution_count": 107,
   "id": "d3871edc",
   "metadata": {},
   "outputs": [
    {
     "data": {
      "text/plain": [
       "0"
      ]
     },
     "execution_count": 107,
     "metadata": {},
     "output_type": "execute_result"
    }
   ],
   "source": [
    "pa['PRODUCT_COMBINATION'].isnull().sum()"
   ]
  },
  {
   "cell_type": "code",
   "execution_count": 108,
   "id": "c1a85608",
   "metadata": {},
   "outputs": [
    {
     "data": {
      "text/plain": [
       "SK_ID_PREV                     0\n",
       "SK_ID_CURR                     0\n",
       "NAME_CONTRACT_TYPE             0\n",
       "AMT_ANNUITY                    0\n",
       "AMT_APPLICATION                0\n",
       "AMT_CREDIT                     0\n",
       "AMT_GOODS_PRICE                0\n",
       "WEEKDAY_APPR_PROCESS_START     0\n",
       "HOUR_APPR_PROCESS_START        0\n",
       "FLAG_LAST_APPL_PER_CONTRACT    0\n",
       "NFLAG_LAST_APPL_IN_DAY         0\n",
       "NAME_CASH_LOAN_PURPOSE         0\n",
       "NAME_CONTRACT_STATUS           0\n",
       "DAYS_DECISION                  0\n",
       "NAME_PAYMENT_TYPE              0\n",
       "CODE_REJECT_REASON             0\n",
       "NAME_CLIENT_TYPE               0\n",
       "NAME_GOODS_CATEGORY            0\n",
       "NAME_PORTFOLIO                 0\n",
       "NAME_PRODUCT_TYPE              0\n",
       "CHANNEL_TYPE                   0\n",
       "SELLERPLACE_AREA               0\n",
       "NAME_SELLER_INDUSTRY           0\n",
       "CNT_PAYMENT                    0\n",
       "NAME_YIELD_GROUP               0\n",
       "PRODUCT_COMBINATION            0\n",
       "dtype: int64"
      ]
     },
     "execution_count": 108,
     "metadata": {},
     "output_type": "execute_result"
    }
   ],
   "source": [
    "pa.isnull().sum()"
   ]
  },
  {
   "cell_type": "code",
   "execution_count": 109,
   "id": "9289f3a8",
   "metadata": {},
   "outputs": [
    {
     "data": {
      "text/plain": [
       "Unnamed: 0      0\n",
       "Table           0\n",
       "Row             0\n",
       "Description     0\n",
       "Special        91\n",
       "dtype: int64"
      ]
     },
     "execution_count": 109,
     "metadata": {},
     "output_type": "execute_result"
    }
   ],
   "source": [
    "cd.isnull().sum()"
   ]
  },
  {
   "cell_type": "code",
   "execution_count": 110,
   "id": "787de533",
   "metadata": {},
   "outputs": [
    {
     "data": {
      "text/plain": [
       "91"
      ]
     },
     "execution_count": 110,
     "metadata": {},
     "output_type": "execute_result"
    }
   ],
   "source": [
    "cd['Special'].isnull().sum()"
   ]
  },
  {
   "cell_type": "code",
   "execution_count": 111,
   "id": "2cad9ee9",
   "metadata": {},
   "outputs": [],
   "source": [
    "cd['Special']=cd['Special'].fillna(cd['Special'].mode()[0])"
   ]
  },
  {
   "cell_type": "code",
   "execution_count": 112,
   "id": "c00f12a5",
   "metadata": {},
   "outputs": [
    {
     "data": {
      "text/plain": [
       "Unnamed: 0     0\n",
       "Table          0\n",
       "Row            0\n",
       "Description    0\n",
       "Special        0\n",
       "dtype: int64"
      ]
     },
     "execution_count": 112,
     "metadata": {},
     "output_type": "execute_result"
    }
   ],
   "source": [
    "cd.isnull().sum()"
   ]
  },
  {
   "cell_type": "markdown",
   "id": "5d9a2b6e",
   "metadata": {},
   "source": [
    "-- The Missing values has been fixed and now we will check for outliers and fix them "
   ]
  },
  {
   "cell_type": "markdown",
   "id": "9914f27f",
   "metadata": {},
   "source": [
    "# Univariate Analysis"
   ]
  },
  {
   "cell_type": "markdown",
   "id": "35ae7eee",
   "metadata": {},
   "source": [
    "-- we will not find any outliers for column description (as it only defines the column)"
   ]
  },
  {
   "cell_type": "code",
   "execution_count": 113,
   "id": "221c93f5",
   "metadata": {},
   "outputs": [
    {
     "data": {
      "image/png": "[encoded data removed]",
      "text/plain": [
       "<Figure size 432x288 with 1 Axes>"
      ]
     },
     "metadata": {
      "needs_background": "light"
     },
     "output_type": "display_data"
    }
   ],
   "source": [
    "sns.boxplot(data=cd)\n",
    "plt.show()"
   ]
  },
  {
   "cell_type": "code",
   "execution_count": 114,
   "id": "0e5b030c",
   "metadata": {},
   "outputs": [
    {
     "name": "stdout",
     "output_type": "stream",
     "text": [
      "<class 'pandas.core.frame.DataFrame'>\n",
      "Int64Index: 307499 entries, 0 to 307510\n",
      "Data columns (total 73 columns):\n",
      " #   Column                       Non-Null Count   Dtype  \n",
      "---  ------                       --------------   -----  \n",
      " 0   SK_ID_CURR                   307499 non-null  int64  \n",
      " 1   TARGET                       307499 non-null  int64  \n",
      " 2   NAME_CONTRACT_TYPE           307499 non-null  object \n",
      " 3   CODE_GENDER                  307499 non-null  object \n",
      " 4   FLAG_OWN_CAR                 307499 non-null  object \n",
      " 5   FLAG_OWN_REALTY              307499 non-null  object \n",
      " 6   CNT_CHILDREN                 307499 non-null  int64  \n",
      " 7   AMT_INCOME_TOTAL             307499 non-null  float64\n",
      " 8   AMT_CREDIT                   307499 non-null  float64\n",
      " 9   AMT_ANNUITY                  307499 non-null  float64\n",
      " 10  AMT_GOODS_PRICE              307499 non-null  float64\n",
      " 11  NAME_TYPE_SUITE              307499 non-null  object \n",
      " 12  NAME_INCOME_TYPE             307499 non-null  object \n",
      " 13  NAME_EDUCATION_TYPE          307499 non-null  object \n",
      " 14  NAME_FAMILY_STATUS           307499 non-null  object \n",
      " 15  NAME_HOUSING_TYPE            307499 non-null  object \n",
      " 16  REGION_POPULATION_RELATIVE   307499 non-null  float64\n",
      " 17  DAYS_BIRTH                   307499 non-null  int64  \n",
      " 18  DAYS_EMPLOYED                307499 non-null  int64  \n",
      " 19  DAYS_REGISTRATION            307499 non-null  float64\n",
      " 20  DAYS_ID_PUBLISH              307499 non-null  int64  \n",
      " 21  FLAG_MOBIL                   307499 non-null  int64  \n",
      " 22  FLAG_EMP_PHONE               307499 non-null  int64  \n",
      " 23  FLAG_WORK_PHONE              307499 non-null  int64  \n",
      " 24  FLAG_CONT_MOBILE             307499 non-null  int64  \n",
      " 25  FLAG_PHONE                   307499 non-null  int64  \n",
      " 26  FLAG_EMAIL                   307499 non-null  int64  \n",
      " 27  OCCUPATION_TYPE              307499 non-null  object \n",
      " 28  CNT_FAM_MEMBERS              307499 non-null  float64\n",
      " 29  REGION_RATING_CLIENT         307499 non-null  int64  \n",
      " 30  REGION_RATING_CLIENT_W_CITY  307499 non-null  int64  \n",
      " 31  WEEKDAY_APPR_PROCESS_START   307499 non-null  object \n",
      " 32  HOUR_APPR_PROCESS_START      307499 non-null  int64  \n",
      " 33  REG_REGION_NOT_LIVE_REGION   307499 non-null  int64  \n",
      " 34  REG_REGION_NOT_WORK_REGION   307499 non-null  int64  \n",
      " 35  LIVE_REGION_NOT_WORK_REGION  307499 non-null  int64  \n",
      " 36  REG_CITY_NOT_LIVE_CITY       307499 non-null  int64  \n",
      " 37  REG_CITY_NOT_WORK_CITY       307499 non-null  int64  \n",
      " 38  LIVE_CITY_NOT_WORK_CITY      307499 non-null  int64  \n",
      " 39  ORGANIZATION_TYPE            307499 non-null  object \n",
      " 40  EXT_SOURCE_2                 307499 non-null  float64\n",
      " 41  EXT_SOURCE_3                 307499 non-null  float64\n",
      " 42  OBS_30_CNT_SOCIAL_CIRCLE     307499 non-null  float64\n",
      " 43  DEF_30_CNT_SOCIAL_CIRCLE     307499 non-null  float64\n",
      " 44  OBS_60_CNT_SOCIAL_CIRCLE     307499 non-null  float64\n",
      " 45  DEF_60_CNT_SOCIAL_CIRCLE     307499 non-null  float64\n",
      " 46  DAYS_LAST_PHONE_CHANGE       307499 non-null  float64\n",
      " 47  FLAG_DOCUMENT_2              307499 non-null  int64  \n",
      " 48  FLAG_DOCUMENT_3              307499 non-null  int64  \n",
      " 49  FLAG_DOCUMENT_4              307499 non-null  int64  \n",
      " 50  FLAG_DOCUMENT_5              307499 non-null  int64  \n",
      " 51  FLAG_DOCUMENT_6              307499 non-null  int64  \n",
      " 52  FLAG_DOCUMENT_7              307499 non-null  int64  \n",
      " 53  FLAG_DOCUMENT_8              307499 non-null  int64  \n",
      " 54  FLAG_DOCUMENT_9              307499 non-null  int64  \n",
      " 55  FLAG_DOCUMENT_10             307499 non-null  int64  \n",
      " 56  FLAG_DOCUMENT_11             307499 non-null  int64  \n",
      " 57  FLAG_DOCUMENT_12             307499 non-null  int64  \n",
      " 58  FLAG_DOCUMENT_13             307499 non-null  int64  \n",
      " 59  FLAG_DOCUMENT_14             307499 non-null  int64  \n",
      " 60  FLAG_DOCUMENT_15             307499 non-null  int64  \n",
      " 61  FLAG_DOCUMENT_16             307499 non-null  int64  \n",
      " 62  FLAG_DOCUMENT_17             307499 non-null  int64  \n",
      " 63  FLAG_DOCUMENT_18             307499 non-null  int64  \n",
      " 64  FLAG_DOCUMENT_19             307499 non-null  int64  \n",
      " 65  FLAG_DOCUMENT_20             307499 non-null  int64  \n",
      " 66  FLAG_DOCUMENT_21             307499 non-null  int64  \n",
      " 67  AMT_REQ_CREDIT_BUREAU_HOUR   307499 non-null  float64\n",
      " 68  AMT_REQ_CREDIT_BUREAU_DAY    307499 non-null  float64\n",
      " 69  AMT_REQ_CREDIT_BUREAU_WEEK   307499 non-null  float64\n",
      " 70  AMT_REQ_CREDIT_BUREAU_MON    307499 non-null  float64\n",
      " 71  AMT_REQ_CREDIT_BUREAU_QRT    307499 non-null  float64\n",
      " 72  AMT_REQ_CREDIT_BUREAU_YEAR   307499 non-null  float64\n",
      "dtypes: float64(20), int64(41), object(12)\n",
      "memory usage: 173.6+ MB\n"
     ]
    }
   ],
   "source": [
    "ad.info()"
   ]
  },
  {
   "cell_type": "code",
   "execution_count": 115,
   "id": "7cae3e7b",
   "metadata": {},
   "outputs": [
    {
     "data": {
      "text/html": [
       "<div>\n",
       "<style scoped>\n",
       "    .dataframe tbody tr th:only-of-type {\n",
       "        vertical-align: middle;\n",
       "    }\n",
       "\n",
       "    .dataframe tbody tr th {\n",
       "        vertical-align: top;\n",
       "    }\n",
       "\n",
       "    .dataframe thead th {\n",
       "        text-align: right;\n",
       "    }\n",
       "</style>\n",
       "<table border=\"1\" class=\"dataframe\">\n",
       "  <thead>\n",
       "    <tr style=\"text-align: right;\">\n",
       "      <th></th>\n",
       "      <th>SK_ID_CURR</th>\n",
       "      <th>TARGET</th>\n",
       "      <th>NAME_CONTRACT_TYPE</th>\n",
       "      <th>CODE_GENDER</th>\n",
       "      <th>FLAG_OWN_CAR</th>\n",
       "      <th>FLAG_OWN_REALTY</th>\n",
       "      <th>CNT_CHILDREN</th>\n",
       "      <th>AMT_INCOME_TOTAL</th>\n",
       "      <th>AMT_CREDIT</th>\n",
       "      <th>AMT_ANNUITY</th>\n",
       "      <th>...</th>\n",
       "      <th>FLAG_DOCUMENT_18</th>\n",
       "      <th>FLAG_DOCUMENT_19</th>\n",
       "      <th>FLAG_DOCUMENT_20</th>\n",
       "      <th>FLAG_DOCUMENT_21</th>\n",
       "      <th>AMT_REQ_CREDIT_BUREAU_HOUR</th>\n",
       "      <th>AMT_REQ_CREDIT_BUREAU_DAY</th>\n",
       "      <th>AMT_REQ_CREDIT_BUREAU_WEEK</th>\n",
       "      <th>AMT_REQ_CREDIT_BUREAU_MON</th>\n",
       "      <th>AMT_REQ_CREDIT_BUREAU_QRT</th>\n",
       "      <th>AMT_REQ_CREDIT_BUREAU_YEAR</th>\n",
       "    </tr>\n",
       "  </thead>\n",
       "  <tbody>\n",
       "    <tr>\n",
       "      <th>0</th>\n",
       "      <td>100002</td>\n",
       "      <td>1</td>\n",
       "      <td>Cash loans</td>\n",
       "      <td>M</td>\n",
       "      <td>N</td>\n",
       "      <td>Y</td>\n",
       "      <td>0</td>\n",
       "      <td>202500.0</td>\n",
       "      <td>406597.5</td>\n",
       "      <td>24700.5</td>\n",
       "      <td>...</td>\n",
       "      <td>0</td>\n",
       "      <td>0</td>\n",
       "      <td>0</td>\n",
       "      <td>0</td>\n",
       "      <td>0.0</td>\n",
       "      <td>0.0</td>\n",
       "      <td>0.0</td>\n",
       "      <td>0.0</td>\n",
       "      <td>0.0</td>\n",
       "      <td>1.0</td>\n",
       "    </tr>\n",
       "    <tr>\n",
       "      <th>1</th>\n",
       "      <td>100003</td>\n",
       "      <td>0</td>\n",
       "      <td>Cash loans</td>\n",
       "      <td>F</td>\n",
       "      <td>N</td>\n",
       "      <td>N</td>\n",
       "      <td>0</td>\n",
       "      <td>270000.0</td>\n",
       "      <td>1293502.5</td>\n",
       "      <td>35698.5</td>\n",
       "      <td>...</td>\n",
       "      <td>0</td>\n",
       "      <td>0</td>\n",
       "      <td>0</td>\n",
       "      <td>0</td>\n",
       "      <td>0.0</td>\n",
       "      <td>0.0</td>\n",
       "      <td>0.0</td>\n",
       "      <td>0.0</td>\n",
       "      <td>0.0</td>\n",
       "      <td>0.0</td>\n",
       "    </tr>\n",
       "    <tr>\n",
       "      <th>2</th>\n",
       "      <td>100004</td>\n",
       "      <td>0</td>\n",
       "      <td>Revolving loans</td>\n",
       "      <td>M</td>\n",
       "      <td>Y</td>\n",
       "      <td>Y</td>\n",
       "      <td>0</td>\n",
       "      <td>67500.0</td>\n",
       "      <td>135000.0</td>\n",
       "      <td>6750.0</td>\n",
       "      <td>...</td>\n",
       "      <td>0</td>\n",
       "      <td>0</td>\n",
       "      <td>0</td>\n",
       "      <td>0</td>\n",
       "      <td>0.0</td>\n",
       "      <td>0.0</td>\n",
       "      <td>0.0</td>\n",
       "      <td>0.0</td>\n",
       "      <td>0.0</td>\n",
       "      <td>0.0</td>\n",
       "    </tr>\n",
       "    <tr>\n",
       "      <th>3</th>\n",
       "      <td>100006</td>\n",
       "      <td>0</td>\n",
       "      <td>Cash loans</td>\n",
       "      <td>F</td>\n",
       "      <td>N</td>\n",
       "      <td>Y</td>\n",
       "      <td>0</td>\n",
       "      <td>135000.0</td>\n",
       "      <td>312682.5</td>\n",
       "      <td>29686.5</td>\n",
       "      <td>...</td>\n",
       "      <td>0</td>\n",
       "      <td>0</td>\n",
       "      <td>0</td>\n",
       "      <td>0</td>\n",
       "      <td>0.0</td>\n",
       "      <td>0.0</td>\n",
       "      <td>0.0</td>\n",
       "      <td>0.0</td>\n",
       "      <td>0.0</td>\n",
       "      <td>1.0</td>\n",
       "    </tr>\n",
       "    <tr>\n",
       "      <th>4</th>\n",
       "      <td>100007</td>\n",
       "      <td>0</td>\n",
       "      <td>Cash loans</td>\n",
       "      <td>M</td>\n",
       "      <td>N</td>\n",
       "      <td>Y</td>\n",
       "      <td>0</td>\n",
       "      <td>121500.0</td>\n",
       "      <td>513000.0</td>\n",
       "      <td>21865.5</td>\n",
       "      <td>...</td>\n",
       "      <td>0</td>\n",
       "      <td>0</td>\n",
       "      <td>0</td>\n",
       "      <td>0</td>\n",
       "      <td>0.0</td>\n",
       "      <td>0.0</td>\n",
       "      <td>0.0</td>\n",
       "      <td>0.0</td>\n",
       "      <td>0.0</td>\n",
       "      <td>0.0</td>\n",
       "    </tr>\n",
       "  </tbody>\n",
       "</table>\n",
       "<p>5 rows × 73 columns</p>\n",
       "</div>"
      ],
      "text/plain": [
       "   SK_ID_CURR  TARGET NAME_CONTRACT_TYPE CODE_GENDER FLAG_OWN_CAR  \\\n",
       "0      100002       1         Cash loans           M            N   \n",
       "1      100003       0         Cash loans           F            N   \n",
       "2      100004       0    Revolving loans           M            Y   \n",
       "3      100006       0         Cash loans           F            N   \n",
       "4      100007       0         Cash loans           M            N   \n",
       "\n",
       "  FLAG_OWN_REALTY  CNT_CHILDREN  AMT_INCOME_TOTAL  AMT_CREDIT  AMT_ANNUITY  \\\n",
       "0               Y             0          202500.0    406597.5      24700.5   \n",
       "1               N             0          270000.0   1293502.5      35698.5   \n",
       "2               Y             0           67500.0    135000.0       6750.0   \n",
       "3               Y             0          135000.0    312682.5      29686.5   \n",
       "4               Y             0          121500.0    513000.0      21865.5   \n",
       "\n",
       "   ...  FLAG_DOCUMENT_18 FLAG_DOCUMENT_19 FLAG_DOCUMENT_20 FLAG_DOCUMENT_21  \\\n",
       "0  ...                 0                0                0                0   \n",
       "1  ...                 0                0                0                0   \n",
       "2  ...                 0                0                0                0   \n",
       "3  ...                 0                0                0                0   \n",
       "4  ...                 0                0                0                0   \n",
       "\n",
       "  AMT_REQ_CREDIT_BUREAU_HOUR AMT_REQ_CREDIT_BUREAU_DAY  \\\n",
       "0                        0.0                       0.0   \n",
       "1                        0.0                       0.0   \n",
       "2                        0.0                       0.0   \n",
       "3                        0.0                       0.0   \n",
       "4                        0.0                       0.0   \n",
       "\n",
       "   AMT_REQ_CREDIT_BUREAU_WEEK  AMT_REQ_CREDIT_BUREAU_MON  \\\n",
       "0                         0.0                        0.0   \n",
       "1                         0.0                        0.0   \n",
       "2                         0.0                        0.0   \n",
       "3                         0.0                        0.0   \n",
       "4                         0.0                        0.0   \n",
       "\n",
       "   AMT_REQ_CREDIT_BUREAU_QRT  AMT_REQ_CREDIT_BUREAU_YEAR  \n",
       "0                        0.0                         1.0  \n",
       "1                        0.0                         0.0  \n",
       "2                        0.0                         0.0  \n",
       "3                        0.0                         1.0  \n",
       "4                        0.0                         0.0  \n",
       "\n",
       "[5 rows x 73 columns]"
      ]
     },
     "execution_count": 115,
     "metadata": {},
     "output_type": "execute_result"
    }
   ],
   "source": [
    "ad.head(5)"
   ]
  },
  {
   "cell_type": "code",
   "execution_count": 116,
   "id": "3551c049",
   "metadata": {},
   "outputs": [
    {
     "data": {
      "image/png": "[encoded data removed]",
      "text/plain": [
       "<Figure size 432x288 with 1 Axes>"
      ]
     },
     "metadata": {
      "needs_background": "light"
     },
     "output_type": "display_data"
    }
   ],
   "source": [
    "ad.TARGET.value_counts(normalize=True).plot.bar()\n",
    "plt.title(\"Difficulty in Payment\")\n",
    "plt.xticks(rotation=0)\n",
    "plt.ylabel(\"Normalized values\")\n",
    "plt.show()"
   ]
  },
  {
   "cell_type": "markdown",
   "id": "126cb723",
   "metadata": {},
   "source": [
    "--- Checking the ratio of 0 is to 1 "
   ]
  },
  {
   "cell_type": "code",
   "execution_count": 117,
   "id": "a1256d9e",
   "metadata": {},
   "outputs": [
    {
     "data": {
      "text/plain": [
       "11.386666666666667"
      ]
     },
     "execution_count": 117,
     "metadata": {},
     "output_type": "execute_result"
    }
   ],
   "source": [
    "ad[ad.TARGET==0].shape[0]/ad[ad.TARGET==1].shape[0]"
   ]
  },
  {
   "cell_type": "markdown",
   "id": "3e20a44e",
   "metadata": {},
   "source": [
    "-- Distinguishing between the categorical variables and numerical(continuous) variable"
   ]
  },
  {
   "cell_type": "code",
   "execution_count": 118,
   "id": "42bc81f6",
   "metadata": {},
   "outputs": [
    {
     "data": {
      "text/plain": [
       "['NAME_CONTRACT_TYPE',\n",
       " 'CODE_GENDER',\n",
       " 'FLAG_OWN_CAR',\n",
       " 'FLAG_OWN_REALTY',\n",
       " 'NAME_TYPE_SUITE',\n",
       " 'NAME_INCOME_TYPE',\n",
       " 'NAME_EDUCATION_TYPE',\n",
       " 'NAME_FAMILY_STATUS',\n",
       " 'NAME_HOUSING_TYPE',\n",
       " 'OCCUPATION_TYPE',\n",
       " 'WEEKDAY_APPR_PROCESS_START',\n",
       " 'ORGANIZATION_TYPE']"
      ]
     },
     "execution_count": 118,
     "metadata": {},
     "output_type": "execute_result"
    }
   ],
   "source": [
    "categorical_column=list(ad.columns[ad.dtypes==\"object\"])\n",
    "categorical_column"
   ]
  },
  {
   "cell_type": "code",
   "execution_count": 119,
   "id": "ddc54d58",
   "metadata": {},
   "outputs": [
    {
     "data": {
      "text/plain": [
       "['AMT_INCOME_TOTAL',\n",
       " 'AMT_CREDIT',\n",
       " 'AMT_ANNUITY',\n",
       " 'AMT_GOODS_PRICE',\n",
       " 'REGION_POPULATION_RELATIVE',\n",
       " 'DAYS_REGISTRATION',\n",
       " 'CNT_FAM_MEMBERS',\n",
       " 'EXT_SOURCE_2',\n",
       " 'EXT_SOURCE_3',\n",
       " 'OBS_30_CNT_SOCIAL_CIRCLE',\n",
       " 'DEF_30_CNT_SOCIAL_CIRCLE',\n",
       " 'OBS_60_CNT_SOCIAL_CIRCLE',\n",
       " 'DEF_60_CNT_SOCIAL_CIRCLE',\n",
       " 'DAYS_LAST_PHONE_CHANGE',\n",
       " 'AMT_REQ_CREDIT_BUREAU_HOUR',\n",
       " 'AMT_REQ_CREDIT_BUREAU_DAY',\n",
       " 'AMT_REQ_CREDIT_BUREAU_WEEK',\n",
       " 'AMT_REQ_CREDIT_BUREAU_MON',\n",
       " 'AMT_REQ_CREDIT_BUREAU_QRT',\n",
       " 'AMT_REQ_CREDIT_BUREAU_YEAR']"
      ]
     },
     "execution_count": 119,
     "metadata": {},
     "output_type": "execute_result"
    }
   ],
   "source": [
    "numerical_column=list(ad.columns[(ad.dtypes=='int32') | (ad.dtypes=='float64')])\n",
    "numerical_column"
   ]
  },
  {
   "cell_type": "code",
   "execution_count": 120,
   "id": "14a00b89",
   "metadata": {},
   "outputs": [
    {
     "name": "stdout",
     "output_type": "stream",
     "text": [
      "AxesSubplot(0.125,0.125;0.775x0.755)\n"
     ]
    },
    {
     "data": {
      "image/png": "[encoded data removed]",
      "text/plain": [
       "<Figure size 432x288 with 1 Axes>"
      ]
     },
     "metadata": {
      "needs_background": "light"
     },
     "output_type": "display_data"
    },
    {
     "name": "stdout",
     "output_type": "stream",
     "text": [
      "AxesSubplot(0.125,0.125;0.775x0.755)\n"
     ]
    },
    {
     "data": {
      "image/png": "[encoded data removed]",
      "text/plain": [
       "<Figure size 432x288 with 1 Axes>"
      ]
     },
     "metadata": {
      "needs_background": "light"
     },
     "output_type": "display_data"
    },
    {
     "name": "stdout",
     "output_type": "stream",
     "text": [
      "AxesSubplot(0.125,0.125;0.775x0.755)\n"
     ]
    },
    {
     "data": {
      "image/png": "[encoded data removed]",
      "text/plain": [
       "<Figure size 432x288 with 1 Axes>"
      ]
     },
     "metadata": {
      "needs_background": "light"
     },
     "output_type": "display_data"
    },
    {
     "name": "stdout",
     "output_type": "stream",
     "text": [
      "AxesSubplot(0.125,0.125;0.775x0.755)\n"
     ]
    },
    {
     "data": {
      "image/png": "[encoded data removed]",
      "text/plain": [
       "<Figure size 432x288 with 1 Axes>"
      ]
     },
     "metadata": {
      "needs_background": "light"
     },
     "output_type": "display_data"
    },
    {
     "name": "stdout",
     "output_type": "stream",
     "text": [
      "AxesSubplot(0.125,0.125;0.775x0.755)\n"
     ]
    },
    {
     "data": {
      "image/png": "[encoded data removed]",
      "text/plain": [
       "<Figure size 432x288 with 1 Axes>"
      ]
     },
     "metadata": {
      "needs_background": "light"
     },
     "output_type": "display_data"
    },
    {
     "name": "stdout",
     "output_type": "stream",
     "text": [
      "AxesSubplot(0.125,0.125;0.775x0.755)\n"
     ]
    },
    {
     "data": {
      "image/png": "[encoded data removed]",
      "text/plain": [
       "<Figure size 432x288 with 1 Axes>"
      ]
     },
     "metadata": {
      "needs_background": "light"
     },
     "output_type": "display_data"
    },
    {
     "name": "stdout",
     "output_type": "stream",
     "text": [
      "AxesSubplot(0.125,0.125;0.775x0.755)\n"
     ]
    },
    {
     "data": {
      "image/png": "[encoded data removed]",
      "text/plain": [
       "<Figure size 432x288 with 1 Axes>"
      ]
     },
     "metadata": {
      "needs_background": "light"
     },
     "output_type": "display_data"
    },
    {
     "name": "stdout",
     "output_type": "stream",
     "text": [
      "AxesSubplot(0.125,0.125;0.775x0.755)\n"
     ]
    },
    {
     "data": {
      "image/png": "[encoded data removed]",
      "text/plain": [
       "<Figure size 432x288 with 1 Axes>"
      ]
     },
     "metadata": {
      "needs_background": "light"
     },
     "output_type": "display_data"
    },
    {
     "name": "stdout",
     "output_type": "stream",
     "text": [
      "AxesSubplot(0.125,0.125;0.775x0.755)\n"
     ]
    },
    {
     "data": {
      "image/png": "[encoded data removed]",
      "text/plain": [
       "<Figure size 432x288 with 1 Axes>"
      ]
     },
     "metadata": {
      "needs_background": "light"
     },
     "output_type": "display_data"
    },
    {
     "name": "stdout",
     "output_type": "stream",
     "text": [
      "AxesSubplot(0.125,0.125;0.775x0.755)\n"
     ]
    },
    {
     "data": {
      "image/png": "[encoded data removed]",
      "text/plain": [
       "<Figure size 432x288 with 1 Axes>"
      ]
     },
     "metadata": {
      "needs_background": "light"
     },
     "output_type": "display_data"
    },
    {
     "name": "stdout",
     "output_type": "stream",
     "text": [
      "AxesSubplot(0.125,0.125;0.775x0.755)\n"
     ]
    },
    {
     "data": {
      "image/png": "[encoded data removed]",
      "text/plain": [
       "<Figure size 432x288 with 1 Axes>"
      ]
     },
     "metadata": {
      "needs_background": "light"
     },
     "output_type": "display_data"
    },
    {
     "name": "stdout",
     "output_type": "stream",
     "text": [
      "AxesSubplot(0.125,0.125;0.775x0.755)\n"
     ]
    },
    {
     "data": {
      "image/png": "[encoded data removed]",
      "text/plain": [
       "<Figure size 432x288 with 1 Axes>"
      ]
     },
     "metadata": {
      "needs_background": "light"
     },
     "output_type": "display_data"
    }
   ],
   "source": [
    "for i in ad.columns:\n",
    "    if ad[i].dtypes==\"object\":\n",
    "        print(ad[i].value_counts(normalize=True).plot.bar())\n",
    "        plt.legend()\n",
    "        plt.show()"
   ]
  },
  {
   "cell_type": "code",
   "execution_count": 121,
   "id": "60800fb5",
   "metadata": {},
   "outputs": [
    {
     "data": {
      "text/plain": [
       "N    0.659888\n",
       "Y    0.340112\n",
       "Name: FLAG_OWN_CAR, dtype: float64"
      ]
     },
     "execution_count": 121,
     "metadata": {},
     "output_type": "execute_result"
    }
   ],
   "source": [
    "ad.FLAG_OWN_CAR.value_counts(normalize=True)"
   ]
  },
  {
   "cell_type": "code",
   "execution_count": 122,
   "id": "37001c40",
   "metadata": {},
   "outputs": [
    {
     "data": {
      "image/png": "[encoded data removed]",
      "text/plain": [
       "<Figure size 432x288 with 1 Axes>"
      ]
     },
     "metadata": {
      "needs_background": "light"
     },
     "output_type": "display_data"
    }
   ],
   "source": [
    "ad.FLAG_OWN_CAR.value_counts().plot.bar()\n",
    "plt.show()"
   ]
  },
  {
   "cell_type": "code",
   "execution_count": 123,
   "id": "181a8e68",
   "metadata": {},
   "outputs": [
    {
     "data": {
      "text/plain": [
       "['NAME_CONTRACT_TYPE',\n",
       " 'CODE_GENDER',\n",
       " 'FLAG_OWN_CAR',\n",
       " 'FLAG_OWN_REALTY',\n",
       " 'NAME_TYPE_SUITE',\n",
       " 'NAME_INCOME_TYPE',\n",
       " 'NAME_EDUCATION_TYPE',\n",
       " 'NAME_FAMILY_STATUS',\n",
       " 'NAME_HOUSING_TYPE',\n",
       " 'OCCUPATION_TYPE',\n",
       " 'WEEKDAY_APPR_PROCESS_START',\n",
       " 'ORGANIZATION_TYPE']"
      ]
     },
     "execution_count": 123,
     "metadata": {},
     "output_type": "execute_result"
    }
   ],
   "source": [
    "categorical_column"
   ]
  },
  {
   "cell_type": "code",
   "execution_count": 124,
   "id": "f7d43577",
   "metadata": {},
   "outputs": [
    {
     "data": {
      "image/png": "[encoded data removed]",
      "text/plain": [
       "<Figure size 432x288 with 1 Axes>"
      ]
     },
     "metadata": {
      "needs_background": "light"
     },
     "output_type": "display_data"
    }
   ],
   "source": [
    "ad.NAME_INCOME_TYPE.value_counts(normalize=True).plot.bar()\n",
    "plt.show()"
   ]
  },
  {
   "cell_type": "markdown",
   "id": "8cf684d2",
   "metadata": {},
   "source": [
    "# Bivariate and Multivariate analysis"
   ]
  },
  {
   "cell_type": "code",
   "execution_count": 125,
   "id": "337a38e4",
   "metadata": {},
   "outputs": [
    {
     "data": {
      "text/plain": [
       "['AMT_INCOME_TOTAL',\n",
       " 'AMT_CREDIT',\n",
       " 'AMT_ANNUITY',\n",
       " 'AMT_GOODS_PRICE',\n",
       " 'REGION_POPULATION_RELATIVE',\n",
       " 'DAYS_REGISTRATION',\n",
       " 'CNT_FAM_MEMBERS',\n",
       " 'EXT_SOURCE_2',\n",
       " 'EXT_SOURCE_3',\n",
       " 'OBS_30_CNT_SOCIAL_CIRCLE',\n",
       " 'DEF_30_CNT_SOCIAL_CIRCLE',\n",
       " 'OBS_60_CNT_SOCIAL_CIRCLE',\n",
       " 'DEF_60_CNT_SOCIAL_CIRCLE',\n",
       " 'DAYS_LAST_PHONE_CHANGE',\n",
       " 'AMT_REQ_CREDIT_BUREAU_HOUR',\n",
       " 'AMT_REQ_CREDIT_BUREAU_DAY',\n",
       " 'AMT_REQ_CREDIT_BUREAU_WEEK',\n",
       " 'AMT_REQ_CREDIT_BUREAU_MON',\n",
       " 'AMT_REQ_CREDIT_BUREAU_QRT',\n",
       " 'AMT_REQ_CREDIT_BUREAU_YEAR']"
      ]
     },
     "execution_count": 125,
     "metadata": {},
     "output_type": "execute_result"
    }
   ],
   "source": [
    "numerical_column"
   ]
  },
  {
   "cell_type": "code",
   "execution_count": 126,
   "id": "413cbc8e",
   "metadata": {},
   "outputs": [
    {
     "data": {
      "image/png": "[encoded data removed]",
      "text/plain": [
       "<Figure size 432x288 with 1 Axes>"
      ]
     },
     "metadata": {
      "needs_background": "light"
     },
     "output_type": "display_data"
    }
   ],
   "source": [
    "sns.histplot(ad['AMT_REQ_CREDIT_BUREAU_YEAR']) # Required credit visualize through years\n",
    "plt.show() "
   ]
  },
  {
   "cell_type": "code",
   "execution_count": 127,
   "id": "eedc286f",
   "metadata": {},
   "outputs": [
    {
     "data": {
      "image/png": "[encoded data removed]",
      "text/plain": [
       "<Figure size 432x288 with 1 Axes>"
      ]
     },
     "metadata": {
      "needs_background": "light"
     },
     "output_type": "display_data"
    }
   ],
   "source": [
    "sns.countplot(ad['AMT_GOODS_PRICE'])\n",
    "plt.show()"
   ]
  },
  {
   "cell_type": "code",
   "execution_count": 128,
   "id": "867daec1",
   "metadata": {},
   "outputs": [
    {
     "data": {
      "text/plain": [
       "NAME_CONTRACT_TYPE\n",
       "Cash loans         169068.767166\n",
       "Revolving loans    166217.017656\n",
       "Name: AMT_INCOME_TOTAL, dtype: float64"
      ]
     },
     "execution_count": 128,
     "metadata": {},
     "output_type": "execute_result"
    }
   ],
   "source": [
    "res=ad.groupby(['NAME_CONTRACT_TYPE'])['AMT_INCOME_TOTAL'].mean()\n",
    "res"
   ]
  },
  {
   "cell_type": "code",
   "execution_count": 129,
   "id": "b2b420fe",
   "metadata": {},
   "outputs": [
    {
     "data": {
      "image/png": "[encoded data removed]",
      "text/plain": [
       "<Figure size 432x288 with 1 Axes>"
      ]
     },
     "metadata": {
      "needs_background": "light"
     },
     "output_type": "display_data"
    }
   ],
   "source": [
    "res.plot.bar()\n",
    "plt.show()"
   ]
  },
  {
   "cell_type": "code",
   "execution_count": 130,
   "id": "81700793",
   "metadata": {},
   "outputs": [
    {
     "data": {
      "text/plain": [
       "NAME_EDUCATION_TYPE\n",
       "Academic degree                  240009.146341\n",
       "Higher education                 208651.202339\n",
       "Incomplete higher                181563.964578\n",
       "Lower secondary                  130088.684666\n",
       "Secondary / secondary special    155158.149443\n",
       "Name: AMT_INCOME_TOTAL, dtype: float64"
      ]
     },
     "execution_count": 130,
     "metadata": {},
     "output_type": "execute_result"
    }
   ],
   "source": [
    "ad.groupby('NAME_EDUCATION_TYPE')['AMT_INCOME_TOTAL'].mean()"
   ]
  },
  {
   "cell_type": "code",
   "execution_count": 131,
   "id": "9f0b82b3",
   "metadata": {},
   "outputs": [
    {
     "data": {
      "image/png": "[encoded data removed]",
      "text/plain": [
       "<Figure size 432x288 with 1 Axes>"
      ]
     },
     "metadata": {
      "needs_background": "light"
     },
     "output_type": "display_data"
    }
   ],
   "source": [
    "ad.groupby('NAME_EDUCATION_TYPE')['AMT_INCOME_TOTAL'].mean().plot.bar()\n",
    "plt.show()"
   ]
  },
  {
   "cell_type": "code",
   "execution_count": 132,
   "id": "4a8a31cb",
   "metadata": {},
   "outputs": [
    {
     "data": {
      "text/plain": [
       "['NAME_CONTRACT_TYPE',\n",
       " 'CODE_GENDER',\n",
       " 'FLAG_OWN_CAR',\n",
       " 'FLAG_OWN_REALTY',\n",
       " 'NAME_TYPE_SUITE',\n",
       " 'NAME_INCOME_TYPE',\n",
       " 'NAME_EDUCATION_TYPE',\n",
       " 'NAME_FAMILY_STATUS',\n",
       " 'NAME_HOUSING_TYPE',\n",
       " 'OCCUPATION_TYPE',\n",
       " 'WEEKDAY_APPR_PROCESS_START',\n",
       " 'ORGANIZATION_TYPE']"
      ]
     },
     "execution_count": 132,
     "metadata": {},
     "output_type": "execute_result"
    }
   ],
   "source": [
    "categorical_column"
   ]
  },
  {
   "cell_type": "code",
   "execution_count": 133,
   "id": "a88779be",
   "metadata": {},
   "outputs": [
    {
     "data": {
      "text/plain": [
       "['AMT_INCOME_TOTAL',\n",
       " 'AMT_CREDIT',\n",
       " 'AMT_ANNUITY',\n",
       " 'AMT_GOODS_PRICE',\n",
       " 'REGION_POPULATION_RELATIVE',\n",
       " 'DAYS_REGISTRATION',\n",
       " 'CNT_FAM_MEMBERS',\n",
       " 'EXT_SOURCE_2',\n",
       " 'EXT_SOURCE_3',\n",
       " 'OBS_30_CNT_SOCIAL_CIRCLE',\n",
       " 'DEF_30_CNT_SOCIAL_CIRCLE',\n",
       " 'OBS_60_CNT_SOCIAL_CIRCLE',\n",
       " 'DEF_60_CNT_SOCIAL_CIRCLE',\n",
       " 'DAYS_LAST_PHONE_CHANGE',\n",
       " 'AMT_REQ_CREDIT_BUREAU_HOUR',\n",
       " 'AMT_REQ_CREDIT_BUREAU_DAY',\n",
       " 'AMT_REQ_CREDIT_BUREAU_WEEK',\n",
       " 'AMT_REQ_CREDIT_BUREAU_MON',\n",
       " 'AMT_REQ_CREDIT_BUREAU_QRT',\n",
       " 'AMT_REQ_CREDIT_BUREAU_YEAR']"
      ]
     },
     "execution_count": 133,
     "metadata": {},
     "output_type": "execute_result"
    }
   ],
   "source": [
    "numerical_column"
   ]
  },
  {
   "cell_type": "code",
   "execution_count": 134,
   "id": "804aca14",
   "metadata": {},
   "outputs": [
    {
     "data": {
      "text/html": [
       "<div>\n",
       "<style scoped>\n",
       "    .dataframe tbody tr th:only-of-type {\n",
       "        vertical-align: middle;\n",
       "    }\n",
       "\n",
       "    .dataframe tbody tr th {\n",
       "        vertical-align: top;\n",
       "    }\n",
       "\n",
       "    .dataframe thead th {\n",
       "        text-align: right;\n",
       "    }\n",
       "</style>\n",
       "<table border=\"1\" class=\"dataframe\">\n",
       "  <thead>\n",
       "    <tr style=\"text-align: right;\">\n",
       "      <th>NAME_EDUCATION_TYPE</th>\n",
       "      <th>Academic degree</th>\n",
       "      <th>Higher education</th>\n",
       "      <th>Incomplete higher</th>\n",
       "      <th>Lower secondary</th>\n",
       "      <th>Secondary / secondary special</th>\n",
       "    </tr>\n",
       "    <tr>\n",
       "      <th>AMT_REQ_CREDIT_BUREAU_MON</th>\n",
       "      <th></th>\n",
       "      <th></th>\n",
       "      <th></th>\n",
       "      <th></th>\n",
       "      <th></th>\n",
       "    </tr>\n",
       "  </thead>\n",
       "  <tbody>\n",
       "    <tr>\n",
       "      <th>0.0</th>\n",
       "      <td>240696.850394</td>\n",
       "      <td>205604.030120</td>\n",
       "      <td>177504.312680</td>\n",
       "      <td>128770.455934</td>\n",
       "      <td>153262.914094</td>\n",
       "    </tr>\n",
       "    <tr>\n",
       "      <th>1.0</th>\n",
       "      <td>242653.846154</td>\n",
       "      <td>219113.816306</td>\n",
       "      <td>199001.595718</td>\n",
       "      <td>139749.130435</td>\n",
       "      <td>164451.515873</td>\n",
       "    </tr>\n",
       "    <tr>\n",
       "      <th>2.0</th>\n",
       "      <td>277500.000000</td>\n",
       "      <td>230690.950368</td>\n",
       "      <td>210804.668919</td>\n",
       "      <td>154920.731707</td>\n",
       "      <td>173250.842701</td>\n",
       "    </tr>\n",
       "    <tr>\n",
       "      <th>3.0</th>\n",
       "      <td>241875.000000</td>\n",
       "      <td>241682.365116</td>\n",
       "      <td>201281.019231</td>\n",
       "      <td>143653.846154</td>\n",
       "      <td>173810.539568</td>\n",
       "    </tr>\n",
       "    <tr>\n",
       "      <th>4.0</th>\n",
       "      <td>NaN</td>\n",
       "      <td>243957.235537</td>\n",
       "      <td>211632.352941</td>\n",
       "      <td>102600.000000</td>\n",
       "      <td>175920.082344</td>\n",
       "    </tr>\n",
       "    <tr>\n",
       "      <th>5.0</th>\n",
       "      <td>168750.000000</td>\n",
       "      <td>251504.639151</td>\n",
       "      <td>239175.000000</td>\n",
       "      <td>111375.000000</td>\n",
       "      <td>186576.923077</td>\n",
       "    </tr>\n",
       "    <tr>\n",
       "      <th>6.0</th>\n",
       "      <td>173250.000000</td>\n",
       "      <td>238336.016949</td>\n",
       "      <td>229821.428571</td>\n",
       "      <td>187500.000000</td>\n",
       "      <td>184164.116505</td>\n",
       "    </tr>\n",
       "    <tr>\n",
       "      <th>7.0</th>\n",
       "      <td>NaN</td>\n",
       "      <td>251406.089109</td>\n",
       "      <td>261321.428571</td>\n",
       "      <td>NaN</td>\n",
       "      <td>184008.909836</td>\n",
       "    </tr>\n",
       "    <tr>\n",
       "      <th>8.0</th>\n",
       "      <td>NaN</td>\n",
       "      <td>212051.886792</td>\n",
       "      <td>225750.000000</td>\n",
       "      <td>NaN</td>\n",
       "      <td>206887.500000</td>\n",
       "    </tr>\n",
       "    <tr>\n",
       "      <th>9.0</th>\n",
       "      <td>NaN</td>\n",
       "      <td>249398.181818</td>\n",
       "      <td>202500.000000</td>\n",
       "      <td>NaN</td>\n",
       "      <td>200644.466667</td>\n",
       "    </tr>\n",
       "    <tr>\n",
       "      <th>10.0</th>\n",
       "      <td>NaN</td>\n",
       "      <td>237937.500000</td>\n",
       "      <td>256500.000000</td>\n",
       "      <td>NaN</td>\n",
       "      <td>185448.795181</td>\n",
       "    </tr>\n",
       "    <tr>\n",
       "      <th>11.0</th>\n",
       "      <td>NaN</td>\n",
       "      <td>223794.642857</td>\n",
       "      <td>230250.000000</td>\n",
       "      <td>NaN</td>\n",
       "      <td>203929.411765</td>\n",
       "    </tr>\n",
       "    <tr>\n",
       "      <th>12.0</th>\n",
       "      <td>NaN</td>\n",
       "      <td>281500.000000</td>\n",
       "      <td>360000.000000</td>\n",
       "      <td>NaN</td>\n",
       "      <td>173663.265306</td>\n",
       "    </tr>\n",
       "    <tr>\n",
       "      <th>13.0</th>\n",
       "      <td>NaN</td>\n",
       "      <td>242181.818182</td>\n",
       "      <td>168750.000000</td>\n",
       "      <td>NaN</td>\n",
       "      <td>174179.347826</td>\n",
       "    </tr>\n",
       "    <tr>\n",
       "      <th>14.0</th>\n",
       "      <td>NaN</td>\n",
       "      <td>271928.571429</td>\n",
       "      <td>330000.000000</td>\n",
       "      <td>NaN</td>\n",
       "      <td>225782.608696</td>\n",
       "    </tr>\n",
       "    <tr>\n",
       "      <th>15.0</th>\n",
       "      <td>NaN</td>\n",
       "      <td>315000.000000</td>\n",
       "      <td>204000.000000</td>\n",
       "      <td>NaN</td>\n",
       "      <td>171675.000000</td>\n",
       "    </tr>\n",
       "    <tr>\n",
       "      <th>16.0</th>\n",
       "      <td>NaN</td>\n",
       "      <td>256500.000000</td>\n",
       "      <td>259875.000000</td>\n",
       "      <td>NaN</td>\n",
       "      <td>207000.000000</td>\n",
       "    </tr>\n",
       "    <tr>\n",
       "      <th>17.0</th>\n",
       "      <td>NaN</td>\n",
       "      <td>324056.250000</td>\n",
       "      <td>315000.000000</td>\n",
       "      <td>NaN</td>\n",
       "      <td>214200.000000</td>\n",
       "    </tr>\n",
       "    <tr>\n",
       "      <th>18.0</th>\n",
       "      <td>NaN</td>\n",
       "      <td>277500.000000</td>\n",
       "      <td>NaN</td>\n",
       "      <td>NaN</td>\n",
       "      <td>150000.000000</td>\n",
       "    </tr>\n",
       "    <tr>\n",
       "      <th>19.0</th>\n",
       "      <td>NaN</td>\n",
       "      <td>148500.000000</td>\n",
       "      <td>NaN</td>\n",
       "      <td>NaN</td>\n",
       "      <td>202500.000000</td>\n",
       "    </tr>\n",
       "    <tr>\n",
       "      <th>22.0</th>\n",
       "      <td>NaN</td>\n",
       "      <td>NaN</td>\n",
       "      <td>NaN</td>\n",
       "      <td>NaN</td>\n",
       "      <td>319500.000000</td>\n",
       "    </tr>\n",
       "    <tr>\n",
       "      <th>23.0</th>\n",
       "      <td>NaN</td>\n",
       "      <td>166500.000000</td>\n",
       "      <td>NaN</td>\n",
       "      <td>NaN</td>\n",
       "      <td>NaN</td>\n",
       "    </tr>\n",
       "    <tr>\n",
       "      <th>24.0</th>\n",
       "      <td>NaN</td>\n",
       "      <td>NaN</td>\n",
       "      <td>NaN</td>\n",
       "      <td>NaN</td>\n",
       "      <td>180000.000000</td>\n",
       "    </tr>\n",
       "    <tr>\n",
       "      <th>27.0</th>\n",
       "      <td>NaN</td>\n",
       "      <td>405000.000000</td>\n",
       "      <td>NaN</td>\n",
       "      <td>NaN</td>\n",
       "      <td>NaN</td>\n",
       "    </tr>\n",
       "  </tbody>\n",
       "</table>\n",
       "</div>"
      ],
      "text/plain": [
       "NAME_EDUCATION_TYPE        Academic degree  Higher education  \\\n",
       "AMT_REQ_CREDIT_BUREAU_MON                                      \n",
       "0.0                          240696.850394     205604.030120   \n",
       "1.0                          242653.846154     219113.816306   \n",
       "2.0                          277500.000000     230690.950368   \n",
       "3.0                          241875.000000     241682.365116   \n",
       "4.0                                    NaN     243957.235537   \n",
       "5.0                          168750.000000     251504.639151   \n",
       "6.0                          173250.000000     238336.016949   \n",
       "7.0                                    NaN     251406.089109   \n",
       "8.0                                    NaN     212051.886792   \n",
       "9.0                                    NaN     249398.181818   \n",
       "10.0                                   NaN     237937.500000   \n",
       "11.0                                   NaN     223794.642857   \n",
       "12.0                                   NaN     281500.000000   \n",
       "13.0                                   NaN     242181.818182   \n",
       "14.0                                   NaN     271928.571429   \n",
       "15.0                                   NaN     315000.000000   \n",
       "16.0                                   NaN     256500.000000   \n",
       "17.0                                   NaN     324056.250000   \n",
       "18.0                                   NaN     277500.000000   \n",
       "19.0                                   NaN     148500.000000   \n",
       "22.0                                   NaN               NaN   \n",
       "23.0                                   NaN     166500.000000   \n",
       "24.0                                   NaN               NaN   \n",
       "27.0                                   NaN     405000.000000   \n",
       "\n",
       "NAME_EDUCATION_TYPE        Incomplete higher  Lower secondary  \\\n",
       "AMT_REQ_CREDIT_BUREAU_MON                                       \n",
       "0.0                            177504.312680    128770.455934   \n",
       "1.0                            199001.595718    139749.130435   \n",
       "2.0                            210804.668919    154920.731707   \n",
       "3.0                            201281.019231    143653.846154   \n",
       "4.0                            211632.352941    102600.000000   \n",
       "5.0                            239175.000000    111375.000000   \n",
       "6.0                            229821.428571    187500.000000   \n",
       "7.0                            261321.428571              NaN   \n",
       "8.0                            225750.000000              NaN   \n",
       "9.0                            202500.000000              NaN   \n",
       "10.0                           256500.000000              NaN   \n",
       "11.0                           230250.000000              NaN   \n",
       "12.0                           360000.000000              NaN   \n",
       "13.0                           168750.000000              NaN   \n",
       "14.0                           330000.000000              NaN   \n",
       "15.0                           204000.000000              NaN   \n",
       "16.0                           259875.000000              NaN   \n",
       "17.0                           315000.000000              NaN   \n",
       "18.0                                     NaN              NaN   \n",
       "19.0                                     NaN              NaN   \n",
       "22.0                                     NaN              NaN   \n",
       "23.0                                     NaN              NaN   \n",
       "24.0                                     NaN              NaN   \n",
       "27.0                                     NaN              NaN   \n",
       "\n",
       "NAME_EDUCATION_TYPE        Secondary / secondary special  \n",
       "AMT_REQ_CREDIT_BUREAU_MON                                 \n",
       "0.0                                        153262.914094  \n",
       "1.0                                        164451.515873  \n",
       "2.0                                        173250.842701  \n",
       "3.0                                        173810.539568  \n",
       "4.0                                        175920.082344  \n",
       "5.0                                        186576.923077  \n",
       "6.0                                        184164.116505  \n",
       "7.0                                        184008.909836  \n",
       "8.0                                        206887.500000  \n",
       "9.0                                        200644.466667  \n",
       "10.0                                       185448.795181  \n",
       "11.0                                       203929.411765  \n",
       "12.0                                       173663.265306  \n",
       "13.0                                       174179.347826  \n",
       "14.0                                       225782.608696  \n",
       "15.0                                       171675.000000  \n",
       "16.0                                       207000.000000  \n",
       "17.0                                       214200.000000  \n",
       "18.0                                       150000.000000  \n",
       "19.0                                       202500.000000  \n",
       "22.0                                       319500.000000  \n",
       "23.0                                                 NaN  \n",
       "24.0                                       180000.000000  \n",
       "27.0                                                 NaN  "
      ]
     },
     "execution_count": 134,
     "metadata": {},
     "output_type": "execute_result"
    }
   ],
   "source": [
    "pd.pivot_table(data=ad,columns=['NAME_EDUCATION_TYPE'],index='AMT_REQ_CREDIT_BUREAU_MON',values='AMT_INCOME_TOTAL',aggfunc='mean')"
   ]
  },
  {
   "cell_type": "code",
   "execution_count": 135,
   "id": "f0e12b4f",
   "metadata": {},
   "outputs": [
    {
     "data": {
      "text/html": [
       "<div>\n",
       "<style scoped>\n",
       "    .dataframe tbody tr th:only-of-type {\n",
       "        vertical-align: middle;\n",
       "    }\n",
       "\n",
       "    .dataframe tbody tr th {\n",
       "        vertical-align: top;\n",
       "    }\n",
       "\n",
       "    .dataframe thead th {\n",
       "        text-align: right;\n",
       "    }\n",
       "</style>\n",
       "<table border=\"1\" class=\"dataframe\">\n",
       "  <thead>\n",
       "    <tr style=\"text-align: right;\">\n",
       "      <th>NAME_EDUCATION_TYPE</th>\n",
       "      <th>Academic degree</th>\n",
       "      <th>Higher education</th>\n",
       "      <th>Incomplete higher</th>\n",
       "      <th>Lower secondary</th>\n",
       "      <th>Secondary / secondary special</th>\n",
       "    </tr>\n",
       "    <tr>\n",
       "      <th>REGION_POPULATION_RELATIVE</th>\n",
       "      <th></th>\n",
       "      <th></th>\n",
       "      <th></th>\n",
       "      <th></th>\n",
       "      <th></th>\n",
       "    </tr>\n",
       "  </thead>\n",
       "  <tbody>\n",
       "    <tr>\n",
       "      <th>0.000290</th>\n",
       "      <td>NaN</td>\n",
       "      <td>585000.000000</td>\n",
       "      <td>NaN</td>\n",
       "      <td>NaN</td>\n",
       "      <td>225000.000000</td>\n",
       "    </tr>\n",
       "    <tr>\n",
       "      <th>0.000533</th>\n",
       "      <td>NaN</td>\n",
       "      <td>481108.153846</td>\n",
       "      <td>NaN</td>\n",
       "      <td>NaN</td>\n",
       "      <td>477701.480769</td>\n",
       "    </tr>\n",
       "    <tr>\n",
       "      <th>0.000938</th>\n",
       "      <td>NaN</td>\n",
       "      <td>756501.750000</td>\n",
       "      <td>454500.000000</td>\n",
       "      <td>NaN</td>\n",
       "      <td>518974.578947</td>\n",
       "    </tr>\n",
       "    <tr>\n",
       "      <th>0.001276</th>\n",
       "      <td>NaN</td>\n",
       "      <td>818705.972727</td>\n",
       "      <td>643903.054054</td>\n",
       "      <td>800240.400000</td>\n",
       "      <td>767479.011730</td>\n",
       "    </tr>\n",
       "    <tr>\n",
       "      <th>0.001333</th>\n",
       "      <td>NaN</td>\n",
       "      <td>626555.106383</td>\n",
       "      <td>580275.750000</td>\n",
       "      <td>493704.642857</td>\n",
       "      <td>544935.088757</td>\n",
       "    </tr>\n",
       "    <tr>\n",
       "      <th>0.001417</th>\n",
       "      <td>NaN</td>\n",
       "      <td>511825.500000</td>\n",
       "      <td>484640.437500</td>\n",
       "      <td>418706.250000</td>\n",
       "      <td>446999.670608</td>\n",
       "    </tr>\n",
       "    <tr>\n",
       "      <th>0.002042</th>\n",
       "      <td>8.086500e+05</td>\n",
       "      <td>543022.217128</td>\n",
       "      <td>564984.362903</td>\n",
       "      <td>459991.000000</td>\n",
       "      <td>495561.111895</td>\n",
       "    </tr>\n",
       "    <tr>\n",
       "      <th>0.002134</th>\n",
       "      <td>NaN</td>\n",
       "      <td>609556.567416</td>\n",
       "      <td>369959.565789</td>\n",
       "      <td>376728.500000</td>\n",
       "      <td>493589.900271</td>\n",
       "    </tr>\n",
       "    <tr>\n",
       "      <th>0.002506</th>\n",
       "      <td>NaN</td>\n",
       "      <td>828523.119910</td>\n",
       "      <td>647704.421053</td>\n",
       "      <td>712289.423077</td>\n",
       "      <td>689208.582589</td>\n",
       "    </tr>\n",
       "    <tr>\n",
       "      <th>0.003069</th>\n",
       "      <td>9.000000e+05</td>\n",
       "      <td>672474.796875</td>\n",
       "      <td>491427.882353</td>\n",
       "      <td>526844.250000</td>\n",
       "      <td>626799.704689</td>\n",
       "    </tr>\n",
       "    <tr>\n",
       "      <th>0.003122</th>\n",
       "      <td>NaN</td>\n",
       "      <td>680333.541322</td>\n",
       "      <td>542308.500000</td>\n",
       "      <td>545022.000000</td>\n",
       "      <td>597683.458333</td>\n",
       "    </tr>\n",
       "    <tr>\n",
       "      <th>0.003541</th>\n",
       "      <td>5.444910e+05</td>\n",
       "      <td>914060.910448</td>\n",
       "      <td>713127.600000</td>\n",
       "      <td>669994.200000</td>\n",
       "      <td>762540.161538</td>\n",
       "    </tr>\n",
       "    <tr>\n",
       "      <th>0.003813</th>\n",
       "      <td>NaN</td>\n",
       "      <td>621204.451807</td>\n",
       "      <td>487151.763158</td>\n",
       "      <td>546673.090909</td>\n",
       "      <td>527677.805441</td>\n",
       "    </tr>\n",
       "    <tr>\n",
       "      <th>0.003818</th>\n",
       "      <td>NaN</td>\n",
       "      <td>728506.523346</td>\n",
       "      <td>721616.648936</td>\n",
       "      <td>527935.166667</td>\n",
       "      <td>637102.654938</td>\n",
       "    </tr>\n",
       "    <tr>\n",
       "      <th>0.004849</th>\n",
       "      <td>NaN</td>\n",
       "      <td>675670.801339</td>\n",
       "      <td>639053.375000</td>\n",
       "      <td>571060.421053</td>\n",
       "      <td>555984.824111</td>\n",
       "    </tr>\n",
       "    <tr>\n",
       "      <th>0.004960</th>\n",
       "      <td>7.056495e+05</td>\n",
       "      <td>648491.664706</td>\n",
       "      <td>598157.075893</td>\n",
       "      <td>575414.250000</td>\n",
       "      <td>618406.288956</td>\n",
       "    </tr>\n",
       "    <tr>\n",
       "      <th>0.005002</th>\n",
       "      <td>7.632000e+05</td>\n",
       "      <td>766064.012019</td>\n",
       "      <td>538841.125000</td>\n",
       "      <td>467496.843750</td>\n",
       "      <td>569411.259494</td>\n",
       "    </tr>\n",
       "    <tr>\n",
       "      <th>0.005084</th>\n",
       "      <td>NaN</td>\n",
       "      <td>676170.250733</td>\n",
       "      <td>525352.206522</td>\n",
       "      <td>331679.117647</td>\n",
       "      <td>562117.370594</td>\n",
       "    </tr>\n",
       "    <tr>\n",
       "      <th>0.005144</th>\n",
       "      <td>NaN</td>\n",
       "      <td>673337.651351</td>\n",
       "      <td>487899.000000</td>\n",
       "      <td>509853.000000</td>\n",
       "      <td>567421.981928</td>\n",
       "    </tr>\n",
       "    <tr>\n",
       "      <th>0.005313</th>\n",
       "      <td>NaN</td>\n",
       "      <td>632681.127376</td>\n",
       "      <td>572339.550000</td>\n",
       "      <td>552744.375000</td>\n",
       "      <td>557962.984666</td>\n",
       "    </tr>\n",
       "    <tr>\n",
       "      <th>0.006008</th>\n",
       "      <td>NaN</td>\n",
       "      <td>600360.685144</td>\n",
       "      <td>458812.406250</td>\n",
       "      <td>669457.928571</td>\n",
       "      <td>527712.034884</td>\n",
       "    </tr>\n",
       "    <tr>\n",
       "      <th>0.006207</th>\n",
       "      <td>2.463840e+06</td>\n",
       "      <td>640174.838150</td>\n",
       "      <td>568949.443548</td>\n",
       "      <td>546291.000000</td>\n",
       "      <td>592896.129561</td>\n",
       "    </tr>\n",
       "    <tr>\n",
       "      <th>0.006233</th>\n",
       "      <td>NaN</td>\n",
       "      <td>811742.709486</td>\n",
       "      <td>662135.268293</td>\n",
       "      <td>428711.142857</td>\n",
       "      <td>671357.639313</td>\n",
       "    </tr>\n",
       "    <tr>\n",
       "      <th>0.006296</th>\n",
       "      <td>8.487600e+05</td>\n",
       "      <td>626757.000000</td>\n",
       "      <td>538221.634615</td>\n",
       "      <td>407454.000000</td>\n",
       "      <td>595417.565303</td>\n",
       "    </tr>\n",
       "    <tr>\n",
       "      <th>0.006305</th>\n",
       "      <td>NaN</td>\n",
       "      <td>715812.919729</td>\n",
       "      <td>501890.357143</td>\n",
       "      <td>586220.673913</td>\n",
       "      <td>586675.316972</td>\n",
       "    </tr>\n",
       "    <tr>\n",
       "      <th>0.006629</th>\n",
       "      <td>NaN</td>\n",
       "      <td>697879.611870</td>\n",
       "      <td>569251.629310</td>\n",
       "      <td>506304.613636</td>\n",
       "      <td>589528.872396</td>\n",
       "    </tr>\n",
       "    <tr>\n",
       "      <th>0.006671</th>\n",
       "      <td>1.113340e+06</td>\n",
       "      <td>718174.553015</td>\n",
       "      <td>519927.654930</td>\n",
       "      <td>560070.180000</td>\n",
       "      <td>619884.192737</td>\n",
       "    </tr>\n",
       "    <tr>\n",
       "      <th>0.006852</th>\n",
       "      <td>2.407500e+05</td>\n",
       "      <td>698591.304290</td>\n",
       "      <td>540384.639344</td>\n",
       "      <td>446457.656250</td>\n",
       "      <td>574827.137390</td>\n",
       "    </tr>\n",
       "    <tr>\n",
       "      <th>0.007020</th>\n",
       "      <td>7.284600e+05</td>\n",
       "      <td>621708.586957</td>\n",
       "      <td>511027.142202</td>\n",
       "      <td>334506.838235</td>\n",
       "      <td>539225.481418</td>\n",
       "    </tr>\n",
       "    <tr>\n",
       "      <th>0.007114</th>\n",
       "      <td>2.250000e+05</td>\n",
       "      <td>742374.573913</td>\n",
       "      <td>479911.015385</td>\n",
       "      <td>563464.636364</td>\n",
       "      <td>619566.500000</td>\n",
       "    </tr>\n",
       "    <tr>\n",
       "      <th>0.007120</th>\n",
       "      <td>NaN</td>\n",
       "      <td>632012.837310</td>\n",
       "      <td>526904.798507</td>\n",
       "      <td>423903.621094</td>\n",
       "      <td>507628.983673</td>\n",
       "    </tr>\n",
       "    <tr>\n",
       "      <th>0.007274</th>\n",
       "      <td>NaN</td>\n",
       "      <td>761895.369863</td>\n",
       "      <td>637735.570312</td>\n",
       "      <td>657015.750000</td>\n",
       "      <td>670566.291045</td>\n",
       "    </tr>\n",
       "    <tr>\n",
       "      <th>0.007305</th>\n",
       "      <td>1.039612e+06</td>\n",
       "      <td>749067.556291</td>\n",
       "      <td>595276.714286</td>\n",
       "      <td>424746.290323</td>\n",
       "      <td>601518.139316</td>\n",
       "    </tr>\n",
       "    <tr>\n",
       "      <th>0.007330</th>\n",
       "      <td>NaN</td>\n",
       "      <td>622980.691244</td>\n",
       "      <td>473059.948454</td>\n",
       "      <td>502032.750000</td>\n",
       "      <td>509293.875000</td>\n",
       "    </tr>\n",
       "    <tr>\n",
       "      <th>0.008019</th>\n",
       "      <td>NaN</td>\n",
       "      <td>712880.465699</td>\n",
       "      <td>658148.583333</td>\n",
       "      <td>480447.782609</td>\n",
       "      <td>586691.940572</td>\n",
       "    </tr>\n",
       "    <tr>\n",
       "      <th>0.008068</th>\n",
       "      <td>1.350000e+05</td>\n",
       "      <td>622392.113208</td>\n",
       "      <td>543267.423529</td>\n",
       "      <td>442858.500000</td>\n",
       "      <td>543233.918205</td>\n",
       "    </tr>\n",
       "    <tr>\n",
       "      <th>0.008230</th>\n",
       "      <td>9.457800e+05</td>\n",
       "      <td>676718.037797</td>\n",
       "      <td>605382.750000</td>\n",
       "      <td>414569.000000</td>\n",
       "      <td>564442.325903</td>\n",
       "    </tr>\n",
       "    <tr>\n",
       "      <th>0.008474</th>\n",
       "      <td>2.747115e+05</td>\n",
       "      <td>653785.500000</td>\n",
       "      <td>406270.928571</td>\n",
       "      <td>312492.500000</td>\n",
       "      <td>505615.220764</td>\n",
       "    </tr>\n",
       "    <tr>\n",
       "      <th>0.008575</th>\n",
       "      <td>8.100000e+05</td>\n",
       "      <td>683333.632450</td>\n",
       "      <td>633100.431818</td>\n",
       "      <td>465277.500000</td>\n",
       "      <td>553780.808788</td>\n",
       "    </tr>\n",
       "    <tr>\n",
       "      <th>0.008625</th>\n",
       "      <td>NaN</td>\n",
       "      <td>644239.618349</td>\n",
       "      <td>494377.815789</td>\n",
       "      <td>289818.321429</td>\n",
       "      <td>497447.932024</td>\n",
       "    </tr>\n",
       "    <tr>\n",
       "      <th>0.008866</th>\n",
       "      <td>NaN</td>\n",
       "      <td>642416.498630</td>\n",
       "      <td>495813.767442</td>\n",
       "      <td>504614.812500</td>\n",
       "      <td>534874.630597</td>\n",
       "    </tr>\n",
       "    <tr>\n",
       "      <th>0.009175</th>\n",
       "      <td>1.025428e+06</td>\n",
       "      <td>622921.057087</td>\n",
       "      <td>524160.827586</td>\n",
       "      <td>408250.687500</td>\n",
       "      <td>524465.848660</td>\n",
       "    </tr>\n",
       "    <tr>\n",
       "      <th>0.009334</th>\n",
       "      <td>NaN</td>\n",
       "      <td>708918.590909</td>\n",
       "      <td>520878.000000</td>\n",
       "      <td>551428.553571</td>\n",
       "      <td>568288.277256</td>\n",
       "    </tr>\n",
       "    <tr>\n",
       "      <th>0.009549</th>\n",
       "      <td>9.974408e+05</td>\n",
       "      <td>620386.912921</td>\n",
       "      <td>465265.097561</td>\n",
       "      <td>373208.365385</td>\n",
       "      <td>530580.101136</td>\n",
       "    </tr>\n",
       "    <tr>\n",
       "      <th>0.009630</th>\n",
       "      <td>NaN</td>\n",
       "      <td>627760.259615</td>\n",
       "      <td>527010.088235</td>\n",
       "      <td>449445.115385</td>\n",
       "      <td>550060.175464</td>\n",
       "    </tr>\n",
       "    <tr>\n",
       "      <th>0.009657</th>\n",
       "      <td>1.083490e+06</td>\n",
       "      <td>655174.315109</td>\n",
       "      <td>538052.000000</td>\n",
       "      <td>473447.743902</td>\n",
       "      <td>586357.552174</td>\n",
       "    </tr>\n",
       "    <tr>\n",
       "      <th>0.010006</th>\n",
       "      <td>2.190690e+05</td>\n",
       "      <td>726659.949387</td>\n",
       "      <td>669628.253165</td>\n",
       "      <td>585721.687500</td>\n",
       "      <td>665708.916387</td>\n",
       "    </tr>\n",
       "    <tr>\n",
       "      <th>0.010032</th>\n",
       "      <td>2.573910e+05</td>\n",
       "      <td>722923.559806</td>\n",
       "      <td>553036.813043</td>\n",
       "      <td>554372.602941</td>\n",
       "      <td>602395.344996</td>\n",
       "    </tr>\n",
       "    <tr>\n",
       "      <th>0.010147</th>\n",
       "      <td>7.132860e+05</td>\n",
       "      <td>715805.266304</td>\n",
       "      <td>523273.357895</td>\n",
       "      <td>479266.071429</td>\n",
       "      <td>569822.347154</td>\n",
       "    </tr>\n",
       "    <tr>\n",
       "      <th>0.010276</th>\n",
       "      <td>1.800000e+05</td>\n",
       "      <td>641266.290188</td>\n",
       "      <td>589400.437500</td>\n",
       "      <td>411231.671053</td>\n",
       "      <td>513731.539850</td>\n",
       "    </tr>\n",
       "    <tr>\n",
       "      <th>0.010500</th>\n",
       "      <td>NaN</td>\n",
       "      <td>606653.170620</td>\n",
       "      <td>477541.500000</td>\n",
       "      <td>399561.428571</td>\n",
       "      <td>496362.295489</td>\n",
       "    </tr>\n",
       "    <tr>\n",
       "      <th>0.010556</th>\n",
       "      <td>1.800000e+05</td>\n",
       "      <td>618217.990654</td>\n",
       "      <td>481079.218310</td>\n",
       "      <td>439224.394737</td>\n",
       "      <td>534590.271760</td>\n",
       "    </tr>\n",
       "    <tr>\n",
       "      <th>0.010643</th>\n",
       "      <td>1.800000e+05</td>\n",
       "      <td>608296.876923</td>\n",
       "      <td>489132.461538</td>\n",
       "      <td>503182.022727</td>\n",
       "      <td>525188.344371</td>\n",
       "    </tr>\n",
       "    <tr>\n",
       "      <th>0.010966</th>\n",
       "      <td>NaN</td>\n",
       "      <td>614726.081152</td>\n",
       "      <td>497754.316901</td>\n",
       "      <td>432524.250000</td>\n",
       "      <td>500061.083194</td>\n",
       "    </tr>\n",
       "    <tr>\n",
       "      <th>0.011657</th>\n",
       "      <td>3.106485e+05</td>\n",
       "      <td>758175.280986</td>\n",
       "      <td>642608.608696</td>\n",
       "      <td>611904.159574</td>\n",
       "      <td>658032.319807</td>\n",
       "    </tr>\n",
       "    <tr>\n",
       "      <th>0.011703</th>\n",
       "      <td>3.506400e+05</td>\n",
       "      <td>647642.337410</td>\n",
       "      <td>563628.780000</td>\n",
       "      <td>554273.795455</td>\n",
       "      <td>573764.670777</td>\n",
       "    </tr>\n",
       "    <tr>\n",
       "      <th>0.014464</th>\n",
       "      <td>4.500000e+05</td>\n",
       "      <td>664480.791100</td>\n",
       "      <td>563507.344371</td>\n",
       "      <td>495711.102273</td>\n",
       "      <td>569318.468142</td>\n",
       "    </tr>\n",
       "    <tr>\n",
       "      <th>0.014520</th>\n",
       "      <td>3.660000e+05</td>\n",
       "      <td>619496.963928</td>\n",
       "      <td>565324.528846</td>\n",
       "      <td>548673.187500</td>\n",
       "      <td>539528.080891</td>\n",
       "    </tr>\n",
       "    <tr>\n",
       "      <th>0.015221</th>\n",
       "      <td>NaN</td>\n",
       "      <td>558410.127155</td>\n",
       "      <td>482335.427184</td>\n",
       "      <td>420442.663366</td>\n",
       "      <td>484559.264930</td>\n",
       "    </tr>\n",
       "    <tr>\n",
       "      <th>0.016612</th>\n",
       "      <td>5.056785e+05</td>\n",
       "      <td>671916.526596</td>\n",
       "      <td>534042.446565</td>\n",
       "      <td>494903.957143</td>\n",
       "      <td>576081.056449</td>\n",
       "    </tr>\n",
       "    <tr>\n",
       "      <th>0.018029</th>\n",
       "      <td>8.451105e+05</td>\n",
       "      <td>697901.284091</td>\n",
       "      <td>569313.215217</td>\n",
       "      <td>517890.000000</td>\n",
       "      <td>586980.847276</td>\n",
       "    </tr>\n",
       "    <tr>\n",
       "      <th>0.018209</th>\n",
       "      <td>3.750000e+05</td>\n",
       "      <td>576954.165204</td>\n",
       "      <td>507148.580097</td>\n",
       "      <td>361747.500000</td>\n",
       "      <td>485649.883946</td>\n",
       "    </tr>\n",
       "    <tr>\n",
       "      <th>0.018634</th>\n",
       "      <td>5.290800e+05</td>\n",
       "      <td>615777.500641</td>\n",
       "      <td>513821.238579</td>\n",
       "      <td>475509.924419</td>\n",
       "      <td>528558.829769</td>\n",
       "    </tr>\n",
       "    <tr>\n",
       "      <th>0.018801</th>\n",
       "      <td>4.469614e+05</td>\n",
       "      <td>714576.618138</td>\n",
       "      <td>617958.233333</td>\n",
       "      <td>505361.433673</td>\n",
       "      <td>600446.846960</td>\n",
       "    </tr>\n",
       "    <tr>\n",
       "      <th>0.018850</th>\n",
       "      <td>5.532919e+05</td>\n",
       "      <td>632773.595930</td>\n",
       "      <td>491144.940000</td>\n",
       "      <td>402202.474790</td>\n",
       "      <td>514913.398757</td>\n",
       "    </tr>\n",
       "    <tr>\n",
       "      <th>0.019101</th>\n",
       "      <td>8.228430e+05</td>\n",
       "      <td>622499.780488</td>\n",
       "      <td>492072.636986</td>\n",
       "      <td>526661.902878</td>\n",
       "      <td>530558.197484</td>\n",
       "    </tr>\n",
       "    <tr>\n",
       "      <th>0.019689</th>\n",
       "      <td>9.080055e+05</td>\n",
       "      <td>707380.880018</td>\n",
       "      <td>601641.524272</td>\n",
       "      <td>480267.459854</td>\n",
       "      <td>564935.621892</td>\n",
       "    </tr>\n",
       "    <tr>\n",
       "      <th>0.020246</th>\n",
       "      <td>5.113774e+05</td>\n",
       "      <td>660677.666421</td>\n",
       "      <td>572301.274648</td>\n",
       "      <td>448542.330275</td>\n",
       "      <td>534920.043344</td>\n",
       "    </tr>\n",
       "    <tr>\n",
       "      <th>0.020713</th>\n",
       "      <td>NaN</td>\n",
       "      <td>677137.878294</td>\n",
       "      <td>574514.086957</td>\n",
       "      <td>491175.661765</td>\n",
       "      <td>578492.507673</td>\n",
       "    </tr>\n",
       "    <tr>\n",
       "      <th>0.022625</th>\n",
       "      <td>1.006920e+06</td>\n",
       "      <td>673841.867078</td>\n",
       "      <td>580147.704545</td>\n",
       "      <td>472636.565217</td>\n",
       "      <td>590803.695504</td>\n",
       "    </tr>\n",
       "    <tr>\n",
       "      <th>0.022800</th>\n",
       "      <td>1.984500e+06</td>\n",
       "      <td>696845.684571</td>\n",
       "      <td>580145.216814</td>\n",
       "      <td>585702.388889</td>\n",
       "      <td>582998.917763</td>\n",
       "    </tr>\n",
       "    <tr>\n",
       "      <th>0.024610</th>\n",
       "      <td>1.322520e+06</td>\n",
       "      <td>679997.816860</td>\n",
       "      <td>516503.006494</td>\n",
       "      <td>502258.561644</td>\n",
       "      <td>571143.059683</td>\n",
       "    </tr>\n",
       "    <tr>\n",
       "      <th>0.025164</th>\n",
       "      <td>9.264728e+05</td>\n",
       "      <td>669210.465644</td>\n",
       "      <td>539171.241124</td>\n",
       "      <td>473460.192000</td>\n",
       "      <td>568766.033367</td>\n",
       "    </tr>\n",
       "    <tr>\n",
       "      <th>0.026392</th>\n",
       "      <td>8.865000e+05</td>\n",
       "      <td>664343.249554</td>\n",
       "      <td>515096.135036</td>\n",
       "      <td>473655.735849</td>\n",
       "      <td>590915.478882</td>\n",
       "    </tr>\n",
       "    <tr>\n",
       "      <th>0.028663</th>\n",
       "      <td>7.695000e+05</td>\n",
       "      <td>644869.400778</td>\n",
       "      <td>517946.241758</td>\n",
       "      <td>499851.666667</td>\n",
       "      <td>514448.564585</td>\n",
       "    </tr>\n",
       "    <tr>\n",
       "      <th>0.030755</th>\n",
       "      <td>7.665147e+05</td>\n",
       "      <td>663466.526480</td>\n",
       "      <td>573012.385321</td>\n",
       "      <td>489800.969388</td>\n",
       "      <td>548254.566174</td>\n",
       "    </tr>\n",
       "    <tr>\n",
       "      <th>0.031329</th>\n",
       "      <td>7.144170e+05</td>\n",
       "      <td>672767.412587</td>\n",
       "      <td>550050.630252</td>\n",
       "      <td>458002.578947</td>\n",
       "      <td>534022.153673</td>\n",
       "    </tr>\n",
       "    <tr>\n",
       "      <th>0.032561</th>\n",
       "      <td>7.328875e+05</td>\n",
       "      <td>818648.504981</td>\n",
       "      <td>642514.020779</td>\n",
       "      <td>676852.630435</td>\n",
       "      <td>699373.714682</td>\n",
       "    </tr>\n",
       "    <tr>\n",
       "      <th>0.035792</th>\n",
       "      <td>7.593723e+05</td>\n",
       "      <td>695389.620280</td>\n",
       "      <td>552122.212274</td>\n",
       "      <td>476801.262712</td>\n",
       "      <td>595216.012877</td>\n",
       "    </tr>\n",
       "    <tr>\n",
       "      <th>0.046220</th>\n",
       "      <td>8.040875e+05</td>\n",
       "      <td>826218.171554</td>\n",
       "      <td>678711.258621</td>\n",
       "      <td>650515.788991</td>\n",
       "      <td>706027.197761</td>\n",
       "    </tr>\n",
       "    <tr>\n",
       "      <th>0.072508</th>\n",
       "      <td>8.811568e+05</td>\n",
       "      <td>881108.100955</td>\n",
       "      <td>715975.019608</td>\n",
       "      <td>549474.750000</td>\n",
       "      <td>793892.486067</td>\n",
       "    </tr>\n",
       "  </tbody>\n",
       "</table>\n",
       "</div>"
      ],
      "text/plain": [
       "NAME_EDUCATION_TYPE         Academic degree  Higher education  \\\n",
       "REGION_POPULATION_RELATIVE                                      \n",
       "0.000290                                NaN     585000.000000   \n",
       "0.000533                                NaN     481108.153846   \n",
       "0.000938                                NaN     756501.750000   \n",
       "0.001276                                NaN     818705.972727   \n",
       "0.001333                                NaN     626555.106383   \n",
       "0.001417                                NaN     511825.500000   \n",
       "0.002042                       8.086500e+05     543022.217128   \n",
       "0.002134                                NaN     609556.567416   \n",
       "0.002506                                NaN     828523.119910   \n",
       "0.003069                       9.000000e+05     672474.796875   \n",
       "0.003122                                NaN     680333.541322   \n",
       "0.003541                       5.444910e+05     914060.910448   \n",
       "0.003813                                NaN     621204.451807   \n",
       "0.003818                                NaN     728506.523346   \n",
       "0.004849                                NaN     675670.801339   \n",
       "0.004960                       7.056495e+05     648491.664706   \n",
       "0.005002                       7.632000e+05     766064.012019   \n",
       "0.005084                                NaN     676170.250733   \n",
       "0.005144                                NaN     673337.651351   \n",
       "0.005313                                NaN     632681.127376   \n",
       "0.006008                                NaN     600360.685144   \n",
       "0.006207                       2.463840e+06     640174.838150   \n",
       "0.006233                                NaN     811742.709486   \n",
       "0.006296                       8.487600e+05     626757.000000   \n",
       "0.006305                                NaN     715812.919729   \n",
       "0.006629                                NaN     697879.611870   \n",
       "0.006671                       1.113340e+06     718174.553015   \n",
       "0.006852                       2.407500e+05     698591.304290   \n",
       "0.007020                       7.284600e+05     621708.586957   \n",
       "0.007114                       2.250000e+05     742374.573913   \n",
       "0.007120                                NaN     632012.837310   \n",
       "0.007274                                NaN     761895.369863   \n",
       "0.007305                       1.039612e+06     749067.556291   \n",
       "0.007330                                NaN     622980.691244   \n",
       "0.008019                                NaN     712880.465699   \n",
       "0.008068                       1.350000e+05     622392.113208   \n",
       "0.008230                       9.457800e+05     676718.037797   \n",
       "0.008474                       2.747115e+05     653785.500000   \n",
       "0.008575                       8.100000e+05     683333.632450   \n",
       "0.008625                                NaN     644239.618349   \n",
       "0.008866                                NaN     642416.498630   \n",
       "0.009175                       1.025428e+06     622921.057087   \n",
       "0.009334                                NaN     708918.590909   \n",
       "0.009549                       9.974408e+05     620386.912921   \n",
       "0.009630                                NaN     627760.259615   \n",
       "0.009657                       1.083490e+06     655174.315109   \n",
       "0.010006                       2.190690e+05     726659.949387   \n",
       "0.010032                       2.573910e+05     722923.559806   \n",
       "0.010147                       7.132860e+05     715805.266304   \n",
       "0.010276                       1.800000e+05     641266.290188   \n",
       "0.010500                                NaN     606653.170620   \n",
       "0.010556                       1.800000e+05     618217.990654   \n",
       "0.010643                       1.800000e+05     608296.876923   \n",
       "0.010966                                NaN     614726.081152   \n",
       "0.011657                       3.106485e+05     758175.280986   \n",
       "0.011703                       3.506400e+05     647642.337410   \n",
       "0.014464                       4.500000e+05     664480.791100   \n",
       "0.014520                       3.660000e+05     619496.963928   \n",
       "0.015221                                NaN     558410.127155   \n",
       "0.016612                       5.056785e+05     671916.526596   \n",
       "0.018029                       8.451105e+05     697901.284091   \n",
       "0.018209                       3.750000e+05     576954.165204   \n",
       "0.018634                       5.290800e+05     615777.500641   \n",
       "0.018801                       4.469614e+05     714576.618138   \n",
       "0.018850                       5.532919e+05     632773.595930   \n",
       "0.019101                       8.228430e+05     622499.780488   \n",
       "0.019689                       9.080055e+05     707380.880018   \n",
       "0.020246                       5.113774e+05     660677.666421   \n",
       "0.020713                                NaN     677137.878294   \n",
       "0.022625                       1.006920e+06     673841.867078   \n",
       "0.022800                       1.984500e+06     696845.684571   \n",
       "0.024610                       1.322520e+06     679997.816860   \n",
       "0.025164                       9.264728e+05     669210.465644   \n",
       "0.026392                       8.865000e+05     664343.249554   \n",
       "0.028663                       7.695000e+05     644869.400778   \n",
       "0.030755                       7.665147e+05     663466.526480   \n",
       "0.031329                       7.144170e+05     672767.412587   \n",
       "0.032561                       7.328875e+05     818648.504981   \n",
       "0.035792                       7.593723e+05     695389.620280   \n",
       "0.046220                       8.040875e+05     826218.171554   \n",
       "0.072508                       8.811568e+05     881108.100955   \n",
       "\n",
       "NAME_EDUCATION_TYPE         Incomplete higher  Lower secondary  \\\n",
       "REGION_POPULATION_RELATIVE                                       \n",
       "0.000290                                  NaN              NaN   \n",
       "0.000533                                  NaN              NaN   \n",
       "0.000938                        454500.000000              NaN   \n",
       "0.001276                        643903.054054    800240.400000   \n",
       "0.001333                        580275.750000    493704.642857   \n",
       "0.001417                        484640.437500    418706.250000   \n",
       "0.002042                        564984.362903    459991.000000   \n",
       "0.002134                        369959.565789    376728.500000   \n",
       "0.002506                        647704.421053    712289.423077   \n",
       "0.003069                        491427.882353    526844.250000   \n",
       "0.003122                        542308.500000    545022.000000   \n",
       "0.003541                        713127.600000    669994.200000   \n",
       "0.003813                        487151.763158    546673.090909   \n",
       "0.003818                        721616.648936    527935.166667   \n",
       "0.004849                        639053.375000    571060.421053   \n",
       "0.004960                        598157.075893    575414.250000   \n",
       "0.005002                        538841.125000    467496.843750   \n",
       "0.005084                        525352.206522    331679.117647   \n",
       "0.005144                        487899.000000    509853.000000   \n",
       "0.005313                        572339.550000    552744.375000   \n",
       "0.006008                        458812.406250    669457.928571   \n",
       "0.006207                        568949.443548    546291.000000   \n",
       "0.006233                        662135.268293    428711.142857   \n",
       "0.006296                        538221.634615    407454.000000   \n",
       "0.006305                        501890.357143    586220.673913   \n",
       "0.006629                        569251.629310    506304.613636   \n",
       "0.006671                        519927.654930    560070.180000   \n",
       "0.006852                        540384.639344    446457.656250   \n",
       "0.007020                        511027.142202    334506.838235   \n",
       "0.007114                        479911.015385    563464.636364   \n",
       "0.007120                        526904.798507    423903.621094   \n",
       "0.007274                        637735.570312    657015.750000   \n",
       "0.007305                        595276.714286    424746.290323   \n",
       "0.007330                        473059.948454    502032.750000   \n",
       "0.008019                        658148.583333    480447.782609   \n",
       "0.008068                        543267.423529    442858.500000   \n",
       "0.008230                        605382.750000    414569.000000   \n",
       "0.008474                        406270.928571    312492.500000   \n",
       "0.008575                        633100.431818    465277.500000   \n",
       "0.008625                        494377.815789    289818.321429   \n",
       "0.008866                        495813.767442    504614.812500   \n",
       "0.009175                        524160.827586    408250.687500   \n",
       "0.009334                        520878.000000    551428.553571   \n",
       "0.009549                        465265.097561    373208.365385   \n",
       "0.009630                        527010.088235    449445.115385   \n",
       "0.009657                        538052.000000    473447.743902   \n",
       "0.010006                        669628.253165    585721.687500   \n",
       "0.010032                        553036.813043    554372.602941   \n",
       "0.010147                        523273.357895    479266.071429   \n",
       "0.010276                        589400.437500    411231.671053   \n",
       "0.010500                        477541.500000    399561.428571   \n",
       "0.010556                        481079.218310    439224.394737   \n",
       "0.010643                        489132.461538    503182.022727   \n",
       "0.010966                        497754.316901    432524.250000   \n",
       "0.011657                        642608.608696    611904.159574   \n",
       "0.011703                        563628.780000    554273.795455   \n",
       "0.014464                        563507.344371    495711.102273   \n",
       "0.014520                        565324.528846    548673.187500   \n",
       "0.015221                        482335.427184    420442.663366   \n",
       "0.016612                        534042.446565    494903.957143   \n",
       "0.018029                        569313.215217    517890.000000   \n",
       "0.018209                        507148.580097    361747.500000   \n",
       "0.018634                        513821.238579    475509.924419   \n",
       "0.018801                        617958.233333    505361.433673   \n",
       "0.018850                        491144.940000    402202.474790   \n",
       "0.019101                        492072.636986    526661.902878   \n",
       "0.019689                        601641.524272    480267.459854   \n",
       "0.020246                        572301.274648    448542.330275   \n",
       "0.020713                        574514.086957    491175.661765   \n",
       "0.022625                        580147.704545    472636.565217   \n",
       "0.022800                        580145.216814    585702.388889   \n",
       "0.024610                        516503.006494    502258.561644   \n",
       "0.025164                        539171.241124    473460.192000   \n",
       "0.026392                        515096.135036    473655.735849   \n",
       "0.028663                        517946.241758    499851.666667   \n",
       "0.030755                        573012.385321    489800.969388   \n",
       "0.031329                        550050.630252    458002.578947   \n",
       "0.032561                        642514.020779    676852.630435   \n",
       "0.035792                        552122.212274    476801.262712   \n",
       "0.046220                        678711.258621    650515.788991   \n",
       "0.072508                        715975.019608    549474.750000   \n",
       "\n",
       "NAME_EDUCATION_TYPE         Secondary / secondary special  \n",
       "REGION_POPULATION_RELATIVE                                 \n",
       "0.000290                                    225000.000000  \n",
       "0.000533                                    477701.480769  \n",
       "0.000938                                    518974.578947  \n",
       "0.001276                                    767479.011730  \n",
       "0.001333                                    544935.088757  \n",
       "0.001417                                    446999.670608  \n",
       "0.002042                                    495561.111895  \n",
       "0.002134                                    493589.900271  \n",
       "0.002506                                    689208.582589  \n",
       "0.003069                                    626799.704689  \n",
       "0.003122                                    597683.458333  \n",
       "0.003541                                    762540.161538  \n",
       "0.003813                                    527677.805441  \n",
       "0.003818                                    637102.654938  \n",
       "0.004849                                    555984.824111  \n",
       "0.004960                                    618406.288956  \n",
       "0.005002                                    569411.259494  \n",
       "0.005084                                    562117.370594  \n",
       "0.005144                                    567421.981928  \n",
       "0.005313                                    557962.984666  \n",
       "0.006008                                    527712.034884  \n",
       "0.006207                                    592896.129561  \n",
       "0.006233                                    671357.639313  \n",
       "0.006296                                    595417.565303  \n",
       "0.006305                                    586675.316972  \n",
       "0.006629                                    589528.872396  \n",
       "0.006671                                    619884.192737  \n",
       "0.006852                                    574827.137390  \n",
       "0.007020                                    539225.481418  \n",
       "0.007114                                    619566.500000  \n",
       "0.007120                                    507628.983673  \n",
       "0.007274                                    670566.291045  \n",
       "0.007305                                    601518.139316  \n",
       "0.007330                                    509293.875000  \n",
       "0.008019                                    586691.940572  \n",
       "0.008068                                    543233.918205  \n",
       "0.008230                                    564442.325903  \n",
       "0.008474                                    505615.220764  \n",
       "0.008575                                    553780.808788  \n",
       "0.008625                                    497447.932024  \n",
       "0.008866                                    534874.630597  \n",
       "0.009175                                    524465.848660  \n",
       "0.009334                                    568288.277256  \n",
       "0.009549                                    530580.101136  \n",
       "0.009630                                    550060.175464  \n",
       "0.009657                                    586357.552174  \n",
       "0.010006                                    665708.916387  \n",
       "0.010032                                    602395.344996  \n",
       "0.010147                                    569822.347154  \n",
       "0.010276                                    513731.539850  \n",
       "0.010500                                    496362.295489  \n",
       "0.010556                                    534590.271760  \n",
       "0.010643                                    525188.344371  \n",
       "0.010966                                    500061.083194  \n",
       "0.011657                                    658032.319807  \n",
       "0.011703                                    573764.670777  \n",
       "0.014464                                    569318.468142  \n",
       "0.014520                                    539528.080891  \n",
       "0.015221                                    484559.264930  \n",
       "0.016612                                    576081.056449  \n",
       "0.018029                                    586980.847276  \n",
       "0.018209                                    485649.883946  \n",
       "0.018634                                    528558.829769  \n",
       "0.018801                                    600446.846960  \n",
       "0.018850                                    514913.398757  \n",
       "0.019101                                    530558.197484  \n",
       "0.019689                                    564935.621892  \n",
       "0.020246                                    534920.043344  \n",
       "0.020713                                    578492.507673  \n",
       "0.022625                                    590803.695504  \n",
       "0.022800                                    582998.917763  \n",
       "0.024610                                    571143.059683  \n",
       "0.025164                                    568766.033367  \n",
       "0.026392                                    590915.478882  \n",
       "0.028663                                    514448.564585  \n",
       "0.030755                                    548254.566174  \n",
       "0.031329                                    534022.153673  \n",
       "0.032561                                    699373.714682  \n",
       "0.035792                                    595216.012877  \n",
       "0.046220                                    706027.197761  \n",
       "0.072508                                    793892.486067  "
      ]
     },
     "execution_count": 135,
     "metadata": {},
     "output_type": "execute_result"
    }
   ],
   "source": [
    "pd.pivot_table(data=ad,columns=['NAME_EDUCATION_TYPE'],index='REGION_POPULATION_RELATIVE',values='AMT_CREDIT',aggfunc='mean')"
   ]
  },
  {
   "cell_type": "markdown",
   "id": "456ca652",
   "metadata": {},
   "source": [
    "These are the results got from the pivot tables "
   ]
  },
  {
   "cell_type": "code",
   "execution_count": 136,
   "id": "d9869d9a",
   "metadata": {},
   "outputs": [
    {
     "data": {
      "image/png": "[encoded data removed]",
      "text/plain": [
       "<Figure size 432x288 with 1 Axes>"
      ]
     },
     "metadata": {
      "needs_background": "light"
     },
     "output_type": "display_data"
    }
   ],
   "source": [
    "ad['FLAG_OWN_CAR'].value_counts().plot.bar()\n",
    "plt.show()"
   ]
  },
  {
   "cell_type": "code",
   "execution_count": 137,
   "id": "02041f03",
   "metadata": {},
   "outputs": [
    {
     "data": {
      "text/plain": [
       "0    0.919268\n",
       "1    0.080732\n",
       "Name: TARGET, dtype: float64"
      ]
     },
     "execution_count": 137,
     "metadata": {},
     "output_type": "execute_result"
    }
   ],
   "source": [
    "ad['TARGET'].value_counts(normalize=True)"
   ]
  },
  {
   "cell_type": "code",
   "execution_count": 138,
   "id": "f4258666",
   "metadata": {},
   "outputs": [
    {
     "data": {
      "image/png": "[encoded data removed]",
      "text/plain": [
       "<Figure size 432x288 with 1 Axes>"
      ]
     },
     "metadata": {},
     "output_type": "display_data"
    }
   ],
   "source": [
    "ad['TARGET'].value_counts(normalize=True).plot.pie()\n",
    "plt.legend()\n",
    "plt.show()"
   ]
  },
  {
   "cell_type": "code",
   "execution_count": 139,
   "id": "4f325b97",
   "metadata": {},
   "outputs": [
    {
     "data": {
      "text/html": [
       "<div>\n",
       "<style scoped>\n",
       "    .dataframe tbody tr th:only-of-type {\n",
       "        vertical-align: middle;\n",
       "    }\n",
       "\n",
       "    .dataframe tbody tr th {\n",
       "        vertical-align: top;\n",
       "    }\n",
       "\n",
       "    .dataframe thead th {\n",
       "        text-align: right;\n",
       "    }\n",
       "</style>\n",
       "<table border=\"1\" class=\"dataframe\">\n",
       "  <thead>\n",
       "    <tr style=\"text-align: right;\">\n",
       "      <th></th>\n",
       "      <th>SK_ID_CURR</th>\n",
       "      <th>TARGET</th>\n",
       "      <th>NAME_CONTRACT_TYPE</th>\n",
       "      <th>CODE_GENDER</th>\n",
       "      <th>FLAG_OWN_CAR</th>\n",
       "      <th>FLAG_OWN_REALTY</th>\n",
       "      <th>CNT_CHILDREN</th>\n",
       "      <th>AMT_INCOME_TOTAL</th>\n",
       "      <th>AMT_CREDIT</th>\n",
       "      <th>AMT_ANNUITY</th>\n",
       "      <th>...</th>\n",
       "      <th>FLAG_DOCUMENT_18</th>\n",
       "      <th>FLAG_DOCUMENT_19</th>\n",
       "      <th>FLAG_DOCUMENT_20</th>\n",
       "      <th>FLAG_DOCUMENT_21</th>\n",
       "      <th>AMT_REQ_CREDIT_BUREAU_HOUR</th>\n",
       "      <th>AMT_REQ_CREDIT_BUREAU_DAY</th>\n",
       "      <th>AMT_REQ_CREDIT_BUREAU_WEEK</th>\n",
       "      <th>AMT_REQ_CREDIT_BUREAU_MON</th>\n",
       "      <th>AMT_REQ_CREDIT_BUREAU_QRT</th>\n",
       "      <th>AMT_REQ_CREDIT_BUREAU_YEAR</th>\n",
       "    </tr>\n",
       "  </thead>\n",
       "  <tbody>\n",
       "    <tr>\n",
       "      <th>0</th>\n",
       "      <td>100002</td>\n",
       "      <td>1</td>\n",
       "      <td>Cash loans</td>\n",
       "      <td>M</td>\n",
       "      <td>N</td>\n",
       "      <td>Y</td>\n",
       "      <td>0</td>\n",
       "      <td>202500.0</td>\n",
       "      <td>406597.5</td>\n",
       "      <td>24700.5</td>\n",
       "      <td>...</td>\n",
       "      <td>0</td>\n",
       "      <td>0</td>\n",
       "      <td>0</td>\n",
       "      <td>0</td>\n",
       "      <td>0.0</td>\n",
       "      <td>0.0</td>\n",
       "      <td>0.0</td>\n",
       "      <td>0.0</td>\n",
       "      <td>0.0</td>\n",
       "      <td>1.0</td>\n",
       "    </tr>\n",
       "    <tr>\n",
       "      <th>1</th>\n",
       "      <td>100003</td>\n",
       "      <td>0</td>\n",
       "      <td>Cash loans</td>\n",
       "      <td>F</td>\n",
       "      <td>N</td>\n",
       "      <td>N</td>\n",
       "      <td>0</td>\n",
       "      <td>270000.0</td>\n",
       "      <td>1293502.5</td>\n",
       "      <td>35698.5</td>\n",
       "      <td>...</td>\n",
       "      <td>0</td>\n",
       "      <td>0</td>\n",
       "      <td>0</td>\n",
       "      <td>0</td>\n",
       "      <td>0.0</td>\n",
       "      <td>0.0</td>\n",
       "      <td>0.0</td>\n",
       "      <td>0.0</td>\n",
       "      <td>0.0</td>\n",
       "      <td>0.0</td>\n",
       "    </tr>\n",
       "    <tr>\n",
       "      <th>2</th>\n",
       "      <td>100004</td>\n",
       "      <td>0</td>\n",
       "      <td>Revolving loans</td>\n",
       "      <td>M</td>\n",
       "      <td>Y</td>\n",
       "      <td>Y</td>\n",
       "      <td>0</td>\n",
       "      <td>67500.0</td>\n",
       "      <td>135000.0</td>\n",
       "      <td>6750.0</td>\n",
       "      <td>...</td>\n",
       "      <td>0</td>\n",
       "      <td>0</td>\n",
       "      <td>0</td>\n",
       "      <td>0</td>\n",
       "      <td>0.0</td>\n",
       "      <td>0.0</td>\n",
       "      <td>0.0</td>\n",
       "      <td>0.0</td>\n",
       "      <td>0.0</td>\n",
       "      <td>0.0</td>\n",
       "    </tr>\n",
       "    <tr>\n",
       "      <th>3</th>\n",
       "      <td>100006</td>\n",
       "      <td>0</td>\n",
       "      <td>Cash loans</td>\n",
       "      <td>F</td>\n",
       "      <td>N</td>\n",
       "      <td>Y</td>\n",
       "      <td>0</td>\n",
       "      <td>135000.0</td>\n",
       "      <td>312682.5</td>\n",
       "      <td>29686.5</td>\n",
       "      <td>...</td>\n",
       "      <td>0</td>\n",
       "      <td>0</td>\n",
       "      <td>0</td>\n",
       "      <td>0</td>\n",
       "      <td>0.0</td>\n",
       "      <td>0.0</td>\n",
       "      <td>0.0</td>\n",
       "      <td>0.0</td>\n",
       "      <td>0.0</td>\n",
       "      <td>1.0</td>\n",
       "    </tr>\n",
       "    <tr>\n",
       "      <th>4</th>\n",
       "      <td>100007</td>\n",
       "      <td>0</td>\n",
       "      <td>Cash loans</td>\n",
       "      <td>M</td>\n",
       "      <td>N</td>\n",
       "      <td>Y</td>\n",
       "      <td>0</td>\n",
       "      <td>121500.0</td>\n",
       "      <td>513000.0</td>\n",
       "      <td>21865.5</td>\n",
       "      <td>...</td>\n",
       "      <td>0</td>\n",
       "      <td>0</td>\n",
       "      <td>0</td>\n",
       "      <td>0</td>\n",
       "      <td>0.0</td>\n",
       "      <td>0.0</td>\n",
       "      <td>0.0</td>\n",
       "      <td>0.0</td>\n",
       "      <td>0.0</td>\n",
       "      <td>0.0</td>\n",
       "    </tr>\n",
       "  </tbody>\n",
       "</table>\n",
       "<p>5 rows × 73 columns</p>\n",
       "</div>"
      ],
      "text/plain": [
       "   SK_ID_CURR  TARGET NAME_CONTRACT_TYPE CODE_GENDER FLAG_OWN_CAR  \\\n",
       "0      100002       1         Cash loans           M            N   \n",
       "1      100003       0         Cash loans           F            N   \n",
       "2      100004       0    Revolving loans           M            Y   \n",
       "3      100006       0         Cash loans           F            N   \n",
       "4      100007       0         Cash loans           M            N   \n",
       "\n",
       "  FLAG_OWN_REALTY  CNT_CHILDREN  AMT_INCOME_TOTAL  AMT_CREDIT  AMT_ANNUITY  \\\n",
       "0               Y             0          202500.0    406597.5      24700.5   \n",
       "1               N             0          270000.0   1293502.5      35698.5   \n",
       "2               Y             0           67500.0    135000.0       6750.0   \n",
       "3               Y             0          135000.0    312682.5      29686.5   \n",
       "4               Y             0          121500.0    513000.0      21865.5   \n",
       "\n",
       "   ...  FLAG_DOCUMENT_18 FLAG_DOCUMENT_19 FLAG_DOCUMENT_20 FLAG_DOCUMENT_21  \\\n",
       "0  ...                 0                0                0                0   \n",
       "1  ...                 0                0                0                0   \n",
       "2  ...                 0                0                0                0   \n",
       "3  ...                 0                0                0                0   \n",
       "4  ...                 0                0                0                0   \n",
       "\n",
       "  AMT_REQ_CREDIT_BUREAU_HOUR AMT_REQ_CREDIT_BUREAU_DAY  \\\n",
       "0                        0.0                       0.0   \n",
       "1                        0.0                       0.0   \n",
       "2                        0.0                       0.0   \n",
       "3                        0.0                       0.0   \n",
       "4                        0.0                       0.0   \n",
       "\n",
       "   AMT_REQ_CREDIT_BUREAU_WEEK  AMT_REQ_CREDIT_BUREAU_MON  \\\n",
       "0                         0.0                        0.0   \n",
       "1                         0.0                        0.0   \n",
       "2                         0.0                        0.0   \n",
       "3                         0.0                        0.0   \n",
       "4                         0.0                        0.0   \n",
       "\n",
       "   AMT_REQ_CREDIT_BUREAU_QRT  AMT_REQ_CREDIT_BUREAU_YEAR  \n",
       "0                        0.0                         1.0  \n",
       "1                        0.0                         0.0  \n",
       "2                        0.0                         0.0  \n",
       "3                        0.0                         1.0  \n",
       "4                        0.0                         0.0  \n",
       "\n",
       "[5 rows x 73 columns]"
      ]
     },
     "execution_count": 139,
     "metadata": {},
     "output_type": "execute_result"
    }
   ],
   "source": [
    "ad.head(5)"
   ]
  },
  {
   "cell_type": "code",
   "execution_count": 140,
   "id": "5a3f942b",
   "metadata": {},
   "outputs": [
    {
     "data": {
      "text/html": [
       "<div>\n",
       "<style scoped>\n",
       "    .dataframe tbody tr th:only-of-type {\n",
       "        vertical-align: middle;\n",
       "    }\n",
       "\n",
       "    .dataframe tbody tr th {\n",
       "        vertical-align: top;\n",
       "    }\n",
       "\n",
       "    .dataframe thead th {\n",
       "        text-align: right;\n",
       "    }\n",
       "</style>\n",
       "<table border=\"1\" class=\"dataframe\">\n",
       "  <thead>\n",
       "    <tr style=\"text-align: right;\">\n",
       "      <th></th>\n",
       "      <th>AMT_INCOME_TOTAL</th>\n",
       "      <th>AMT_CREDIT</th>\n",
       "      <th>AMT_ANNUITY</th>\n",
       "    </tr>\n",
       "  </thead>\n",
       "  <tbody>\n",
       "    <tr>\n",
       "      <th>count</th>\n",
       "      <td>3.074990e+05</td>\n",
       "      <td>3.074990e+05</td>\n",
       "      <td>307499.000000</td>\n",
       "    </tr>\n",
       "    <tr>\n",
       "      <th>mean</th>\n",
       "      <td>1.687972e+05</td>\n",
       "      <td>5.990273e+05</td>\n",
       "      <td>27108.573909</td>\n",
       "    </tr>\n",
       "    <tr>\n",
       "      <th>std</th>\n",
       "      <td>2.371274e+05</td>\n",
       "      <td>4.024927e+05</td>\n",
       "      <td>14493.737315</td>\n",
       "    </tr>\n",
       "    <tr>\n",
       "      <th>min</th>\n",
       "      <td>2.565000e+04</td>\n",
       "      <td>4.500000e+04</td>\n",
       "      <td>1615.500000</td>\n",
       "    </tr>\n",
       "    <tr>\n",
       "      <th>25%</th>\n",
       "      <td>1.125000e+05</td>\n",
       "      <td>2.700000e+05</td>\n",
       "      <td>16524.000000</td>\n",
       "    </tr>\n",
       "    <tr>\n",
       "      <th>50%</th>\n",
       "      <td>1.469970e+05</td>\n",
       "      <td>5.135310e+05</td>\n",
       "      <td>24903.000000</td>\n",
       "    </tr>\n",
       "    <tr>\n",
       "      <th>75%</th>\n",
       "      <td>2.025000e+05</td>\n",
       "      <td>8.086500e+05</td>\n",
       "      <td>34596.000000</td>\n",
       "    </tr>\n",
       "    <tr>\n",
       "      <th>max</th>\n",
       "      <td>1.170000e+08</td>\n",
       "      <td>4.050000e+06</td>\n",
       "      <td>258025.500000</td>\n",
       "    </tr>\n",
       "  </tbody>\n",
       "</table>\n",
       "</div>"
      ],
      "text/plain": [
       "       AMT_INCOME_TOTAL    AMT_CREDIT    AMT_ANNUITY\n",
       "count      3.074990e+05  3.074990e+05  307499.000000\n",
       "mean       1.687972e+05  5.990273e+05   27108.573909\n",
       "std        2.371274e+05  4.024927e+05   14493.737315\n",
       "min        2.565000e+04  4.500000e+04    1615.500000\n",
       "25%        1.125000e+05  2.700000e+05   16524.000000\n",
       "50%        1.469970e+05  5.135310e+05   24903.000000\n",
       "75%        2.025000e+05  8.086500e+05   34596.000000\n",
       "max        1.170000e+08  4.050000e+06  258025.500000"
      ]
     },
     "execution_count": 140,
     "metadata": {},
     "output_type": "execute_result"
    }
   ],
   "source": [
    "ad[['AMT_INCOME_TOTAL','AMT_CREDIT','AMT_ANNUITY']].describe()"
   ]
  },
  {
   "cell_type": "code",
   "execution_count": 141,
   "id": "2203b665",
   "metadata": {},
   "outputs": [
    {
     "data": {
      "text/html": [
       "<div>\n",
       "<style scoped>\n",
       "    .dataframe tbody tr th:only-of-type {\n",
       "        vertical-align: middle;\n",
       "    }\n",
       "\n",
       "    .dataframe tbody tr th {\n",
       "        vertical-align: top;\n",
       "    }\n",
       "\n",
       "    .dataframe thead th {\n",
       "        text-align: right;\n",
       "    }\n",
       "</style>\n",
       "<table border=\"1\" class=\"dataframe\">\n",
       "  <thead>\n",
       "    <tr style=\"text-align: right;\">\n",
       "      <th></th>\n",
       "      <th>SK_ID_CURR</th>\n",
       "      <th>TARGET</th>\n",
       "      <th>NAME_CONTRACT_TYPE</th>\n",
       "      <th>CODE_GENDER</th>\n",
       "      <th>FLAG_OWN_CAR</th>\n",
       "      <th>FLAG_OWN_REALTY</th>\n",
       "      <th>CNT_CHILDREN</th>\n",
       "      <th>AMT_INCOME_TOTAL</th>\n",
       "      <th>AMT_CREDIT</th>\n",
       "      <th>AMT_ANNUITY</th>\n",
       "      <th>...</th>\n",
       "      <th>FLAG_DOCUMENT_18</th>\n",
       "      <th>FLAG_DOCUMENT_19</th>\n",
       "      <th>FLAG_DOCUMENT_20</th>\n",
       "      <th>FLAG_DOCUMENT_21</th>\n",
       "      <th>AMT_REQ_CREDIT_BUREAU_HOUR</th>\n",
       "      <th>AMT_REQ_CREDIT_BUREAU_DAY</th>\n",
       "      <th>AMT_REQ_CREDIT_BUREAU_WEEK</th>\n",
       "      <th>AMT_REQ_CREDIT_BUREAU_MON</th>\n",
       "      <th>AMT_REQ_CREDIT_BUREAU_QRT</th>\n",
       "      <th>AMT_REQ_CREDIT_BUREAU_YEAR</th>\n",
       "    </tr>\n",
       "  </thead>\n",
       "  <tbody>\n",
       "    <tr>\n",
       "      <th>0</th>\n",
       "      <td>100002</td>\n",
       "      <td>1</td>\n",
       "      <td>Cash loans</td>\n",
       "      <td>M</td>\n",
       "      <td>N</td>\n",
       "      <td>Y</td>\n",
       "      <td>0</td>\n",
       "      <td>202500.0</td>\n",
       "      <td>406597.5</td>\n",
       "      <td>24700.5</td>\n",
       "      <td>...</td>\n",
       "      <td>0</td>\n",
       "      <td>0</td>\n",
       "      <td>0</td>\n",
       "      <td>0</td>\n",
       "      <td>0.0</td>\n",
       "      <td>0.0</td>\n",
       "      <td>0.0</td>\n",
       "      <td>0.0</td>\n",
       "      <td>0.0</td>\n",
       "      <td>1.0</td>\n",
       "    </tr>\n",
       "    <tr>\n",
       "      <th>1</th>\n",
       "      <td>100003</td>\n",
       "      <td>0</td>\n",
       "      <td>Cash loans</td>\n",
       "      <td>F</td>\n",
       "      <td>N</td>\n",
       "      <td>N</td>\n",
       "      <td>0</td>\n",
       "      <td>270000.0</td>\n",
       "      <td>1293502.5</td>\n",
       "      <td>35698.5</td>\n",
       "      <td>...</td>\n",
       "      <td>0</td>\n",
       "      <td>0</td>\n",
       "      <td>0</td>\n",
       "      <td>0</td>\n",
       "      <td>0.0</td>\n",
       "      <td>0.0</td>\n",
       "      <td>0.0</td>\n",
       "      <td>0.0</td>\n",
       "      <td>0.0</td>\n",
       "      <td>0.0</td>\n",
       "    </tr>\n",
       "    <tr>\n",
       "      <th>2</th>\n",
       "      <td>100004</td>\n",
       "      <td>0</td>\n",
       "      <td>Revolving loans</td>\n",
       "      <td>M</td>\n",
       "      <td>Y</td>\n",
       "      <td>Y</td>\n",
       "      <td>0</td>\n",
       "      <td>67500.0</td>\n",
       "      <td>135000.0</td>\n",
       "      <td>6750.0</td>\n",
       "      <td>...</td>\n",
       "      <td>0</td>\n",
       "      <td>0</td>\n",
       "      <td>0</td>\n",
       "      <td>0</td>\n",
       "      <td>0.0</td>\n",
       "      <td>0.0</td>\n",
       "      <td>0.0</td>\n",
       "      <td>0.0</td>\n",
       "      <td>0.0</td>\n",
       "      <td>0.0</td>\n",
       "    </tr>\n",
       "    <tr>\n",
       "      <th>3</th>\n",
       "      <td>100006</td>\n",
       "      <td>0</td>\n",
       "      <td>Cash loans</td>\n",
       "      <td>F</td>\n",
       "      <td>N</td>\n",
       "      <td>Y</td>\n",
       "      <td>0</td>\n",
       "      <td>135000.0</td>\n",
       "      <td>312682.5</td>\n",
       "      <td>29686.5</td>\n",
       "      <td>...</td>\n",
       "      <td>0</td>\n",
       "      <td>0</td>\n",
       "      <td>0</td>\n",
       "      <td>0</td>\n",
       "      <td>0.0</td>\n",
       "      <td>0.0</td>\n",
       "      <td>0.0</td>\n",
       "      <td>0.0</td>\n",
       "      <td>0.0</td>\n",
       "      <td>1.0</td>\n",
       "    </tr>\n",
       "    <tr>\n",
       "      <th>4</th>\n",
       "      <td>100007</td>\n",
       "      <td>0</td>\n",
       "      <td>Cash loans</td>\n",
       "      <td>M</td>\n",
       "      <td>N</td>\n",
       "      <td>Y</td>\n",
       "      <td>0</td>\n",
       "      <td>121500.0</td>\n",
       "      <td>513000.0</td>\n",
       "      <td>21865.5</td>\n",
       "      <td>...</td>\n",
       "      <td>0</td>\n",
       "      <td>0</td>\n",
       "      <td>0</td>\n",
       "      <td>0</td>\n",
       "      <td>0.0</td>\n",
       "      <td>0.0</td>\n",
       "      <td>0.0</td>\n",
       "      <td>0.0</td>\n",
       "      <td>0.0</td>\n",
       "      <td>0.0</td>\n",
       "    </tr>\n",
       "  </tbody>\n",
       "</table>\n",
       "<p>5 rows × 73 columns</p>\n",
       "</div>"
      ],
      "text/plain": [
       "   SK_ID_CURR  TARGET NAME_CONTRACT_TYPE CODE_GENDER FLAG_OWN_CAR  \\\n",
       "0      100002       1         Cash loans           M            N   \n",
       "1      100003       0         Cash loans           F            N   \n",
       "2      100004       0    Revolving loans           M            Y   \n",
       "3      100006       0         Cash loans           F            N   \n",
       "4      100007       0         Cash loans           M            N   \n",
       "\n",
       "  FLAG_OWN_REALTY  CNT_CHILDREN  AMT_INCOME_TOTAL  AMT_CREDIT  AMT_ANNUITY  \\\n",
       "0               Y             0          202500.0    406597.5      24700.5   \n",
       "1               N             0          270000.0   1293502.5      35698.5   \n",
       "2               Y             0           67500.0    135000.0       6750.0   \n",
       "3               Y             0          135000.0    312682.5      29686.5   \n",
       "4               Y             0          121500.0    513000.0      21865.5   \n",
       "\n",
       "   ...  FLAG_DOCUMENT_18 FLAG_DOCUMENT_19 FLAG_DOCUMENT_20 FLAG_DOCUMENT_21  \\\n",
       "0  ...                 0                0                0                0   \n",
       "1  ...                 0                0                0                0   \n",
       "2  ...                 0                0                0                0   \n",
       "3  ...                 0                0                0                0   \n",
       "4  ...                 0                0                0                0   \n",
       "\n",
       "  AMT_REQ_CREDIT_BUREAU_HOUR AMT_REQ_CREDIT_BUREAU_DAY  \\\n",
       "0                        0.0                       0.0   \n",
       "1                        0.0                       0.0   \n",
       "2                        0.0                       0.0   \n",
       "3                        0.0                       0.0   \n",
       "4                        0.0                       0.0   \n",
       "\n",
       "   AMT_REQ_CREDIT_BUREAU_WEEK  AMT_REQ_CREDIT_BUREAU_MON  \\\n",
       "0                         0.0                        0.0   \n",
       "1                         0.0                        0.0   \n",
       "2                         0.0                        0.0   \n",
       "3                         0.0                        0.0   \n",
       "4                         0.0                        0.0   \n",
       "\n",
       "   AMT_REQ_CREDIT_BUREAU_QRT  AMT_REQ_CREDIT_BUREAU_YEAR  \n",
       "0                        0.0                         1.0  \n",
       "1                        0.0                         0.0  \n",
       "2                        0.0                         0.0  \n",
       "3                        0.0                         1.0  \n",
       "4                        0.0                         0.0  \n",
       "\n",
       "[5 rows x 73 columns]"
      ]
     },
     "execution_count": 141,
     "metadata": {},
     "output_type": "execute_result"
    }
   ],
   "source": [
    "ad.head()"
   ]
  },
  {
   "cell_type": "code",
   "execution_count": 142,
   "id": "580bda1d",
   "metadata": {},
   "outputs": [],
   "source": [
    "ad_1=ad[ad['TARGET']==1]"
   ]
  },
  {
   "cell_type": "code",
   "execution_count": 143,
   "id": "043daa0c",
   "metadata": {},
   "outputs": [],
   "source": [
    "ad_0=ad[ad['TARGET']==0]"
   ]
  },
  {
   "cell_type": "code",
   "execution_count": 144,
   "id": "7a6c23b6",
   "metadata": {},
   "outputs": [
    {
     "data": {
      "text/plain": [
       "F    0.570796\n",
       "M    0.429204\n",
       "Name: CODE_GENDER, dtype: float64"
      ]
     },
     "execution_count": 144,
     "metadata": {},
     "output_type": "execute_result"
    }
   ],
   "source": [
    "ad_1['CODE_GENDER'].value_counts(normalize=True)"
   ]
  },
  {
   "cell_type": "code",
   "execution_count": 145,
   "id": "77324616",
   "metadata": {},
   "outputs": [
    {
     "data": {
      "image/png": "[encoded data removed]",
      "text/plain": [
       "<Figure size 432x288 with 1 Axes>"
      ]
     },
     "metadata": {
      "needs_background": "light"
     },
     "output_type": "display_data"
    }
   ],
   "source": [
    "ad_1['CODE_GENDER'].value_counts(normalize=True).plot.bar()\n",
    "plt.xticks(rotation=0)\n",
    "plt.show()"
   ]
  },
  {
   "cell_type": "code",
   "execution_count": 146,
   "id": "1c394106",
   "metadata": {},
   "outputs": [
    {
     "data": {
      "text/plain": [
       "F      0.666032\n",
       "M      0.333954\n",
       "XNA    0.000014\n",
       "Name: CODE_GENDER, dtype: float64"
      ]
     },
     "execution_count": 146,
     "metadata": {},
     "output_type": "execute_result"
    }
   ],
   "source": [
    "ad_0['CODE_GENDER'].value_counts(normalize=True)"
   ]
  },
  {
   "cell_type": "code",
   "execution_count": 147,
   "id": "d5d351dc",
   "metadata": {},
   "outputs": [
    {
     "data": {
      "image/png": "[encoded data removed]",
      "text/plain": [
       "<Figure size 432x288 with 1 Axes>"
      ]
     },
     "metadata": {
      "needs_background": "light"
     },
     "output_type": "display_data"
    }
   ],
   "source": [
    "ad_0['CODE_GENDER'].value_counts(normalize=True).plot.bar()\n",
    "plt.xticks(rotation=0)\n",
    "plt.show()"
   ]
  },
  {
   "cell_type": "code",
   "execution_count": 148,
   "id": "0626dfdd",
   "metadata": {},
   "outputs": [
    {
     "data": {
      "text/html": [
       "<div>\n",
       "<style scoped>\n",
       "    .dataframe tbody tr th:only-of-type {\n",
       "        vertical-align: middle;\n",
       "    }\n",
       "\n",
       "    .dataframe tbody tr th {\n",
       "        vertical-align: top;\n",
       "    }\n",
       "\n",
       "    .dataframe thead th {\n",
       "        text-align: right;\n",
       "    }\n",
       "</style>\n",
       "<table border=\"1\" class=\"dataframe\">\n",
       "  <thead>\n",
       "    <tr style=\"text-align: right;\">\n",
       "      <th></th>\n",
       "      <th>SK_ID_CURR</th>\n",
       "      <th>TARGET</th>\n",
       "      <th>NAME_CONTRACT_TYPE</th>\n",
       "      <th>CODE_GENDER</th>\n",
       "      <th>FLAG_OWN_CAR</th>\n",
       "      <th>FLAG_OWN_REALTY</th>\n",
       "      <th>CNT_CHILDREN</th>\n",
       "      <th>AMT_INCOME_TOTAL</th>\n",
       "      <th>AMT_CREDIT</th>\n",
       "      <th>AMT_ANNUITY</th>\n",
       "      <th>...</th>\n",
       "      <th>FLAG_DOCUMENT_18</th>\n",
       "      <th>FLAG_DOCUMENT_19</th>\n",
       "      <th>FLAG_DOCUMENT_20</th>\n",
       "      <th>FLAG_DOCUMENT_21</th>\n",
       "      <th>AMT_REQ_CREDIT_BUREAU_HOUR</th>\n",
       "      <th>AMT_REQ_CREDIT_BUREAU_DAY</th>\n",
       "      <th>AMT_REQ_CREDIT_BUREAU_WEEK</th>\n",
       "      <th>AMT_REQ_CREDIT_BUREAU_MON</th>\n",
       "      <th>AMT_REQ_CREDIT_BUREAU_QRT</th>\n",
       "      <th>AMT_REQ_CREDIT_BUREAU_YEAR</th>\n",
       "    </tr>\n",
       "  </thead>\n",
       "  <tbody>\n",
       "    <tr>\n",
       "      <th>0</th>\n",
       "      <td>100002</td>\n",
       "      <td>1</td>\n",
       "      <td>Cash loans</td>\n",
       "      <td>M</td>\n",
       "      <td>N</td>\n",
       "      <td>Y</td>\n",
       "      <td>0</td>\n",
       "      <td>202500.0</td>\n",
       "      <td>406597.5</td>\n",
       "      <td>24700.5</td>\n",
       "      <td>...</td>\n",
       "      <td>0</td>\n",
       "      <td>0</td>\n",
       "      <td>0</td>\n",
       "      <td>0</td>\n",
       "      <td>0.0</td>\n",
       "      <td>0.0</td>\n",
       "      <td>0.0</td>\n",
       "      <td>0.0</td>\n",
       "      <td>0.0</td>\n",
       "      <td>1.0</td>\n",
       "    </tr>\n",
       "    <tr>\n",
       "      <th>1</th>\n",
       "      <td>100003</td>\n",
       "      <td>0</td>\n",
       "      <td>Cash loans</td>\n",
       "      <td>F</td>\n",
       "      <td>N</td>\n",
       "      <td>N</td>\n",
       "      <td>0</td>\n",
       "      <td>270000.0</td>\n",
       "      <td>1293502.5</td>\n",
       "      <td>35698.5</td>\n",
       "      <td>...</td>\n",
       "      <td>0</td>\n",
       "      <td>0</td>\n",
       "      <td>0</td>\n",
       "      <td>0</td>\n",
       "      <td>0.0</td>\n",
       "      <td>0.0</td>\n",
       "      <td>0.0</td>\n",
       "      <td>0.0</td>\n",
       "      <td>0.0</td>\n",
       "      <td>0.0</td>\n",
       "    </tr>\n",
       "    <tr>\n",
       "      <th>2</th>\n",
       "      <td>100004</td>\n",
       "      <td>0</td>\n",
       "      <td>Revolving loans</td>\n",
       "      <td>M</td>\n",
       "      <td>Y</td>\n",
       "      <td>Y</td>\n",
       "      <td>0</td>\n",
       "      <td>67500.0</td>\n",
       "      <td>135000.0</td>\n",
       "      <td>6750.0</td>\n",
       "      <td>...</td>\n",
       "      <td>0</td>\n",
       "      <td>0</td>\n",
       "      <td>0</td>\n",
       "      <td>0</td>\n",
       "      <td>0.0</td>\n",
       "      <td>0.0</td>\n",
       "      <td>0.0</td>\n",
       "      <td>0.0</td>\n",
       "      <td>0.0</td>\n",
       "      <td>0.0</td>\n",
       "    </tr>\n",
       "    <tr>\n",
       "      <th>3</th>\n",
       "      <td>100006</td>\n",
       "      <td>0</td>\n",
       "      <td>Cash loans</td>\n",
       "      <td>F</td>\n",
       "      <td>N</td>\n",
       "      <td>Y</td>\n",
       "      <td>0</td>\n",
       "      <td>135000.0</td>\n",
       "      <td>312682.5</td>\n",
       "      <td>29686.5</td>\n",
       "      <td>...</td>\n",
       "      <td>0</td>\n",
       "      <td>0</td>\n",
       "      <td>0</td>\n",
       "      <td>0</td>\n",
       "      <td>0.0</td>\n",
       "      <td>0.0</td>\n",
       "      <td>0.0</td>\n",
       "      <td>0.0</td>\n",
       "      <td>0.0</td>\n",
       "      <td>1.0</td>\n",
       "    </tr>\n",
       "    <tr>\n",
       "      <th>4</th>\n",
       "      <td>100007</td>\n",
       "      <td>0</td>\n",
       "      <td>Cash loans</td>\n",
       "      <td>M</td>\n",
       "      <td>N</td>\n",
       "      <td>Y</td>\n",
       "      <td>0</td>\n",
       "      <td>121500.0</td>\n",
       "      <td>513000.0</td>\n",
       "      <td>21865.5</td>\n",
       "      <td>...</td>\n",
       "      <td>0</td>\n",
       "      <td>0</td>\n",
       "      <td>0</td>\n",
       "      <td>0</td>\n",
       "      <td>0.0</td>\n",
       "      <td>0.0</td>\n",
       "      <td>0.0</td>\n",
       "      <td>0.0</td>\n",
       "      <td>0.0</td>\n",
       "      <td>0.0</td>\n",
       "    </tr>\n",
       "  </tbody>\n",
       "</table>\n",
       "<p>5 rows × 73 columns</p>\n",
       "</div>"
      ],
      "text/plain": [
       "   SK_ID_CURR  TARGET NAME_CONTRACT_TYPE CODE_GENDER FLAG_OWN_CAR  \\\n",
       "0      100002       1         Cash loans           M            N   \n",
       "1      100003       0         Cash loans           F            N   \n",
       "2      100004       0    Revolving loans           M            Y   \n",
       "3      100006       0         Cash loans           F            N   \n",
       "4      100007       0         Cash loans           M            N   \n",
       "\n",
       "  FLAG_OWN_REALTY  CNT_CHILDREN  AMT_INCOME_TOTAL  AMT_CREDIT  AMT_ANNUITY  \\\n",
       "0               Y             0          202500.0    406597.5      24700.5   \n",
       "1               N             0          270000.0   1293502.5      35698.5   \n",
       "2               Y             0           67500.0    135000.0       6750.0   \n",
       "3               Y             0          135000.0    312682.5      29686.5   \n",
       "4               Y             0          121500.0    513000.0      21865.5   \n",
       "\n",
       "   ...  FLAG_DOCUMENT_18 FLAG_DOCUMENT_19 FLAG_DOCUMENT_20 FLAG_DOCUMENT_21  \\\n",
       "0  ...                 0                0                0                0   \n",
       "1  ...                 0                0                0                0   \n",
       "2  ...                 0                0                0                0   \n",
       "3  ...                 0                0                0                0   \n",
       "4  ...                 0                0                0                0   \n",
       "\n",
       "  AMT_REQ_CREDIT_BUREAU_HOUR AMT_REQ_CREDIT_BUREAU_DAY  \\\n",
       "0                        0.0                       0.0   \n",
       "1                        0.0                       0.0   \n",
       "2                        0.0                       0.0   \n",
       "3                        0.0                       0.0   \n",
       "4                        0.0                       0.0   \n",
       "\n",
       "   AMT_REQ_CREDIT_BUREAU_WEEK  AMT_REQ_CREDIT_BUREAU_MON  \\\n",
       "0                         0.0                        0.0   \n",
       "1                         0.0                        0.0   \n",
       "2                         0.0                        0.0   \n",
       "3                         0.0                        0.0   \n",
       "4                         0.0                        0.0   \n",
       "\n",
       "   AMT_REQ_CREDIT_BUREAU_QRT  AMT_REQ_CREDIT_BUREAU_YEAR  \n",
       "0                        0.0                         1.0  \n",
       "1                        0.0                         0.0  \n",
       "2                        0.0                         0.0  \n",
       "3                        0.0                         1.0  \n",
       "4                        0.0                         0.0  \n",
       "\n",
       "[5 rows x 73 columns]"
      ]
     },
     "execution_count": 148,
     "metadata": {},
     "output_type": "execute_result"
    }
   ],
   "source": [
    "ad.head()"
   ]
  },
  {
   "cell_type": "code",
   "execution_count": 149,
   "id": "5f62a7fc",
   "metadata": {},
   "outputs": [
    {
     "data": {
      "image/png": "[encoded data removed]",
      "text/plain": [
       "<Figure size 432x288 with 1 Axes>"
      ]
     },
     "metadata": {
      "needs_background": "light"
     },
     "output_type": "display_data"
    }
   ],
   "source": [
    "sns.distplot(ad_0['AMT_INCOME_TOTAL'],hist=False)\n",
    "sns.distplot(ad_1['AMT_INCOME_TOTAL'],hist=False)\n",
    "plt.show()"
   ]
  },
  {
   "cell_type": "code",
   "execution_count": 150,
   "id": "8929e3d3",
   "metadata": {},
   "outputs": [
    {
     "data": {
      "image/png": "[encoded data removed]",
      "text/plain": [
       "<Figure size 720x432 with 2 Axes>"
      ]
     },
     "metadata": {
      "needs_background": "light"
     },
     "output_type": "display_data"
    }
   ],
   "source": [
    "plt.figure(figsize=[10,6])\n",
    "\n",
    "plt.subplot(1,2,1)\n",
    "plt.title('Defaulters')\n",
    "sns.countplot(x='NAME_CONTRACT_TYPE',data=ad_1)\n",
    "\n",
    "plt.subplot(1,2,2)\n",
    "plt.title('Non defaulters')\n",
    "sns.countplot(x='NAME_CONTRACT_TYPE',data=ad_0)\n",
    "\n",
    "plt.show()"
   ]
  },
  {
   "cell_type": "code",
   "execution_count": 153,
   "id": "cd463643",
   "metadata": {},
   "outputs": [
    {
     "data": {
      "text/plain": [
       "['AMT_INCOME_TOTAL',\n",
       " 'AMT_CREDIT',\n",
       " 'AMT_ANNUITY',\n",
       " 'AMT_GOODS_PRICE',\n",
       " 'REGION_POPULATION_RELATIVE',\n",
       " 'DAYS_REGISTRATION',\n",
       " 'CNT_FAM_MEMBERS',\n",
       " 'EXT_SOURCE_2',\n",
       " 'EXT_SOURCE_3',\n",
       " 'OBS_30_CNT_SOCIAL_CIRCLE',\n",
       " 'DEF_30_CNT_SOCIAL_CIRCLE',\n",
       " 'OBS_60_CNT_SOCIAL_CIRCLE',\n",
       " 'DEF_60_CNT_SOCIAL_CIRCLE',\n",
       " 'DAYS_LAST_PHONE_CHANGE',\n",
       " 'AMT_REQ_CREDIT_BUREAU_HOUR',\n",
       " 'AMT_REQ_CREDIT_BUREAU_DAY',\n",
       " 'AMT_REQ_CREDIT_BUREAU_WEEK',\n",
       " 'AMT_REQ_CREDIT_BUREAU_MON',\n",
       " 'AMT_REQ_CREDIT_BUREAU_QRT',\n",
       " 'AMT_REQ_CREDIT_BUREAU_YEAR']"
      ]
     },
     "execution_count": 153,
     "metadata": {},
     "output_type": "execute_result"
    }
   ],
   "source": [
    "numerical_column"
   ]
  },
  {
   "cell_type": "code",
   "execution_count": 164,
   "id": "b4538055",
   "metadata": {},
   "outputs": [
    {
     "data": {
      "text/html": [
       "<div>\n",
       "<style scoped>\n",
       "    .dataframe tbody tr th:only-of-type {\n",
       "        vertical-align: middle;\n",
       "    }\n",
       "\n",
       "    .dataframe tbody tr th {\n",
       "        vertical-align: top;\n",
       "    }\n",
       "\n",
       "    .dataframe thead th {\n",
       "        text-align: right;\n",
       "    }\n",
       "</style>\n",
       "<table border=\"1\" class=\"dataframe\">\n",
       "  <thead>\n",
       "    <tr style=\"text-align: right;\">\n",
       "      <th></th>\n",
       "      <th>AMT_INCOME_TOTAL</th>\n",
       "      <th>AMT_CREDIT</th>\n",
       "      <th>AMT_ANNUITY</th>\n",
       "      <th>AMT_GOODS_PRICE</th>\n",
       "      <th>EXT_SOURCE_2</th>\n",
       "      <th>REGION_POPULATION_RELATIVE</th>\n",
       "    </tr>\n",
       "  </thead>\n",
       "  <tbody>\n",
       "    <tr>\n",
       "      <th>AMT_INCOME_TOTAL</th>\n",
       "      <td>1.000000</td>\n",
       "      <td>0.038131</td>\n",
       "      <td>0.046421</td>\n",
       "      <td>0.037591</td>\n",
       "      <td>0.007068</td>\n",
       "      <td>0.009135</td>\n",
       "    </tr>\n",
       "    <tr>\n",
       "      <th>AMT_CREDIT</th>\n",
       "      <td>0.038131</td>\n",
       "      <td>1.000000</td>\n",
       "      <td>0.752195</td>\n",
       "      <td>0.982783</td>\n",
       "      <td>0.120028</td>\n",
       "      <td>0.069161</td>\n",
       "    </tr>\n",
       "    <tr>\n",
       "      <th>AMT_ANNUITY</th>\n",
       "      <td>0.046421</td>\n",
       "      <td>0.752195</td>\n",
       "      <td>1.000000</td>\n",
       "      <td>0.752295</td>\n",
       "      <td>0.115292</td>\n",
       "      <td>0.071690</td>\n",
       "    </tr>\n",
       "    <tr>\n",
       "      <th>AMT_GOODS_PRICE</th>\n",
       "      <td>0.037591</td>\n",
       "      <td>0.982783</td>\n",
       "      <td>0.752295</td>\n",
       "      <td>1.000000</td>\n",
       "      <td>0.130263</td>\n",
       "      <td>0.076053</td>\n",
       "    </tr>\n",
       "    <tr>\n",
       "      <th>EXT_SOURCE_2</th>\n",
       "      <td>0.007068</td>\n",
       "      <td>0.120028</td>\n",
       "      <td>0.115292</td>\n",
       "      <td>0.130263</td>\n",
       "      <td>1.000000</td>\n",
       "      <td>0.169839</td>\n",
       "    </tr>\n",
       "    <tr>\n",
       "      <th>REGION_POPULATION_RELATIVE</th>\n",
       "      <td>0.009135</td>\n",
       "      <td>0.069161</td>\n",
       "      <td>0.071690</td>\n",
       "      <td>0.076053</td>\n",
       "      <td>0.169839</td>\n",
       "      <td>1.000000</td>\n",
       "    </tr>\n",
       "  </tbody>\n",
       "</table>\n",
       "</div>"
      ],
      "text/plain": [
       "                            AMT_INCOME_TOTAL  AMT_CREDIT  AMT_ANNUITY  \\\n",
       "AMT_INCOME_TOTAL                    1.000000    0.038131     0.046421   \n",
       "AMT_CREDIT                          0.038131    1.000000     0.752195   \n",
       "AMT_ANNUITY                         0.046421    0.752195     1.000000   \n",
       "AMT_GOODS_PRICE                     0.037591    0.982783     0.752295   \n",
       "EXT_SOURCE_2                        0.007068    0.120028     0.115292   \n",
       "REGION_POPULATION_RELATIVE          0.009135    0.069161     0.071690   \n",
       "\n",
       "                            AMT_GOODS_PRICE  EXT_SOURCE_2  \\\n",
       "AMT_INCOME_TOTAL                   0.037591      0.007068   \n",
       "AMT_CREDIT                         0.982783      0.120028   \n",
       "AMT_ANNUITY                        0.752295      0.115292   \n",
       "AMT_GOODS_PRICE                    1.000000      0.130263   \n",
       "EXT_SOURCE_2                       0.130263      1.000000   \n",
       "REGION_POPULATION_RELATIVE         0.076053      0.169839   \n",
       "\n",
       "                            REGION_POPULATION_RELATIVE  \n",
       "AMT_INCOME_TOTAL                              0.009135  \n",
       "AMT_CREDIT                                    0.069161  \n",
       "AMT_ANNUITY                                   0.071690  \n",
       "AMT_GOODS_PRICE                               0.076053  \n",
       "EXT_SOURCE_2                                  0.169839  \n",
       "REGION_POPULATION_RELATIVE                    1.000000  "
      ]
     },
     "execution_count": 164,
     "metadata": {},
     "output_type": "execute_result"
    }
   ],
   "source": [
    "temp2=ad_1[['AMT_INCOME_TOTAL','AMT_CREDIT','AMT_ANNUITY','AMT_GOODS_PRICE','EXT_SOURCE_2','REGION_POPULATION_RELATIVE']].corr()\n",
    "temp2"
   ]
  },
  {
   "cell_type": "code",
   "execution_count": 165,
   "id": "07257c55",
   "metadata": {},
   "outputs": [
    {
     "data": {
      "image/png": "[encoded data removed]",
      "text/plain": [
       "<Figure size 432x288 with 2 Axes>"
      ]
     },
     "metadata": {
      "needs_background": "light"
     },
     "output_type": "display_data"
    }
   ],
   "source": [
    "sns.heatmap(data=temp2,annot=True,cmap='RdYlGn')\n",
    "plt.title(\"Correlation of defaulters\")\n",
    "plt.show()"
   ]
  },
  {
   "cell_type": "code",
   "execution_count": 166,
   "id": "da1f1189",
   "metadata": {},
   "outputs": [
    {
     "data": {
      "text/html": [
       "<div>\n",
       "<style scoped>\n",
       "    .dataframe tbody tr th:only-of-type {\n",
       "        vertical-align: middle;\n",
       "    }\n",
       "\n",
       "    .dataframe tbody tr th {\n",
       "        vertical-align: top;\n",
       "    }\n",
       "\n",
       "    .dataframe thead th {\n",
       "        text-align: right;\n",
       "    }\n",
       "</style>\n",
       "<table border=\"1\" class=\"dataframe\">\n",
       "  <thead>\n",
       "    <tr style=\"text-align: right;\">\n",
       "      <th></th>\n",
       "      <th>AMT_INCOME_TOTAL</th>\n",
       "      <th>AMT_CREDIT</th>\n",
       "      <th>AMT_ANNUITY</th>\n",
       "      <th>AMT_GOODS_PRICE</th>\n",
       "      <th>EXT_SOURCE_2</th>\n",
       "      <th>REGION_POPULATION_RELATIVE</th>\n",
       "    </tr>\n",
       "  </thead>\n",
       "  <tbody>\n",
       "    <tr>\n",
       "      <th>AMT_INCOME_TOTAL</th>\n",
       "      <td>1.000000</td>\n",
       "      <td>0.342793</td>\n",
       "      <td>0.418953</td>\n",
       "      <td>0.349421</td>\n",
       "      <td>0.139416</td>\n",
       "      <td>0.167832</td>\n",
       "    </tr>\n",
       "    <tr>\n",
       "      <th>AMT_CREDIT</th>\n",
       "      <td>0.342793</td>\n",
       "      <td>1.000000</td>\n",
       "      <td>0.771309</td>\n",
       "      <td>0.987022</td>\n",
       "      <td>0.128892</td>\n",
       "      <td>0.100589</td>\n",
       "    </tr>\n",
       "    <tr>\n",
       "      <th>AMT_ANNUITY</th>\n",
       "      <td>0.418953</td>\n",
       "      <td>0.771309</td>\n",
       "      <td>1.000000</td>\n",
       "      <td>0.776433</td>\n",
       "      <td>0.126363</td>\n",
       "      <td>0.120988</td>\n",
       "    </tr>\n",
       "    <tr>\n",
       "      <th>AMT_GOODS_PRICE</th>\n",
       "      <td>0.349421</td>\n",
       "      <td>0.987022</td>\n",
       "      <td>0.776433</td>\n",
       "      <td>1.000000</td>\n",
       "      <td>0.135382</td>\n",
       "      <td>0.103812</td>\n",
       "    </tr>\n",
       "    <tr>\n",
       "      <th>EXT_SOURCE_2</th>\n",
       "      <td>0.139416</td>\n",
       "      <td>0.128892</td>\n",
       "      <td>0.126363</td>\n",
       "      <td>0.135382</td>\n",
       "      <td>1.000000</td>\n",
       "      <td>0.198294</td>\n",
       "    </tr>\n",
       "    <tr>\n",
       "      <th>REGION_POPULATION_RELATIVE</th>\n",
       "      <td>0.167832</td>\n",
       "      <td>0.100589</td>\n",
       "      <td>0.120988</td>\n",
       "      <td>0.103812</td>\n",
       "      <td>0.198294</td>\n",
       "      <td>1.000000</td>\n",
       "    </tr>\n",
       "  </tbody>\n",
       "</table>\n",
       "</div>"
      ],
      "text/plain": [
       "                            AMT_INCOME_TOTAL  AMT_CREDIT  AMT_ANNUITY  \\\n",
       "AMT_INCOME_TOTAL                    1.000000    0.342793     0.418953   \n",
       "AMT_CREDIT                          0.342793    1.000000     0.771309   \n",
       "AMT_ANNUITY                         0.418953    0.771309     1.000000   \n",
       "AMT_GOODS_PRICE                     0.349421    0.987022     0.776433   \n",
       "EXT_SOURCE_2                        0.139416    0.128892     0.126363   \n",
       "REGION_POPULATION_RELATIVE          0.167832    0.100589     0.120988   \n",
       "\n",
       "                            AMT_GOODS_PRICE  EXT_SOURCE_2  \\\n",
       "AMT_INCOME_TOTAL                   0.349421      0.139416   \n",
       "AMT_CREDIT                         0.987022      0.128892   \n",
       "AMT_ANNUITY                        0.776433      0.126363   \n",
       "AMT_GOODS_PRICE                    1.000000      0.135382   \n",
       "EXT_SOURCE_2                       0.135382      1.000000   \n",
       "REGION_POPULATION_RELATIVE         0.103812      0.198294   \n",
       "\n",
       "                            REGION_POPULATION_RELATIVE  \n",
       "AMT_INCOME_TOTAL                              0.167832  \n",
       "AMT_CREDIT                                    0.100589  \n",
       "AMT_ANNUITY                                   0.120988  \n",
       "AMT_GOODS_PRICE                               0.103812  \n",
       "EXT_SOURCE_2                                  0.198294  \n",
       "REGION_POPULATION_RELATIVE                    1.000000  "
      ]
     },
     "execution_count": 166,
     "metadata": {},
     "output_type": "execute_result"
    }
   ],
   "source": [
    "temp3=ad_0[['AMT_INCOME_TOTAL','AMT_CREDIT','AMT_ANNUITY','AMT_GOODS_PRICE','EXT_SOURCE_2','REGION_POPULATION_RELATIVE']].corr()\n",
    "temp3"
   ]
  },
  {
   "cell_type": "code",
   "execution_count": 168,
   "id": "9ad64dab",
   "metadata": {},
   "outputs": [
    {
     "data": {
      "image/png": "[encoded data removed]",
      "text/plain": [
       "<Figure size 432x288 with 2 Axes>"
      ]
     },
     "metadata": {
      "needs_background": "light"
     },
     "output_type": "display_data"
    }
   ],
   "source": [
    "sns.heatmap(data=temp3,annot=True,cmap=\"RdYlGn\")\n",
    "plt.title(\"Correlation of Non Defaulters\")\n",
    "plt.show()"
   ]
  },
  {
   "cell_type": "code",
   "execution_count": 173,
   "id": "f1130437",
   "metadata": {},
   "outputs": [
    {
     "data": {
      "text/html": [
       "<div>\n",
       "<style scoped>\n",
       "    .dataframe tbody tr th:only-of-type {\n",
       "        vertical-align: middle;\n",
       "    }\n",
       "\n",
       "    .dataframe tbody tr th {\n",
       "        vertical-align: top;\n",
       "    }\n",
       "\n",
       "    .dataframe thead th {\n",
       "        text-align: right;\n",
       "    }\n",
       "</style>\n",
       "<table border=\"1\" class=\"dataframe\">\n",
       "  <thead>\n",
       "    <tr style=\"text-align: right;\">\n",
       "      <th>NAME_EDUCATION_TYPE</th>\n",
       "      <th>Academic degree</th>\n",
       "      <th>Higher education</th>\n",
       "      <th>Incomplete higher</th>\n",
       "      <th>Lower secondary</th>\n",
       "      <th>Secondary / secondary special</th>\n",
       "    </tr>\n",
       "    <tr>\n",
       "      <th>CODE_GENDER</th>\n",
       "      <th></th>\n",
       "      <th></th>\n",
       "      <th></th>\n",
       "      <th></th>\n",
       "      <th></th>\n",
       "    </tr>\n",
       "  </thead>\n",
       "  <tbody>\n",
       "    <tr>\n",
       "      <th>F</th>\n",
       "      <td>100</td>\n",
       "      <td>50286</td>\n",
       "      <td>6283</td>\n",
       "      <td>2310</td>\n",
       "      <td>143461</td>\n",
       "    </tr>\n",
       "    <tr>\n",
       "      <th>M</th>\n",
       "      <td>64</td>\n",
       "      <td>24571</td>\n",
       "      <td>3992</td>\n",
       "      <td>1505</td>\n",
       "      <td>74923</td>\n",
       "    </tr>\n",
       "    <tr>\n",
       "      <th>XNA</th>\n",
       "      <td>0</td>\n",
       "      <td>1</td>\n",
       "      <td>1</td>\n",
       "      <td>0</td>\n",
       "      <td>2</td>\n",
       "    </tr>\n",
       "  </tbody>\n",
       "</table>\n",
       "</div>"
      ],
      "text/plain": [
       "NAME_EDUCATION_TYPE  Academic degree  Higher education  Incomplete higher  \\\n",
       "CODE_GENDER                                                                 \n",
       "F                                100             50286               6283   \n",
       "M                                 64             24571               3992   \n",
       "XNA                                0                 1                  1   \n",
       "\n",
       "NAME_EDUCATION_TYPE  Lower secondary  Secondary / secondary special  \n",
       "CODE_GENDER                                                          \n",
       "F                               2310                         143461  \n",
       "M                               1505                          74923  \n",
       "XNA                                0                              2  "
      ]
     },
     "execution_count": 173,
     "metadata": {},
     "output_type": "execute_result"
    }
   ],
   "source": [
    "temp4=pd.crosstab(index=ad['CODE_GENDER'],columns=ad['NAME_EDUCATION_TYPE'])\n",
    "temp4"
   ]
  },
  {
   "cell_type": "code",
   "execution_count": 176,
   "id": "88f1a3af",
   "metadata": {},
   "outputs": [
    {
     "data": {
      "image/png": "[encoded data removed]",
      "text/plain": [
       "<Figure size 432x288 with 1 Axes>"
      ]
     },
     "metadata": {
      "needs_background": "light"
     },
     "output_type": "display_data"
    }
   ],
   "source": [
    "temp4.plot(kind='bar',stacked=True)\n",
    "plt.title(\"Gender Vs Education\")\n",
    "plt.legend()\n",
    "plt.show()"
   ]
  },
  {
   "cell_type": "code",
   "execution_count": 181,
   "id": "03da8486",
   "metadata": {},
   "outputs": [
    {
     "data": {
      "image/png": "[encoded data removed]",
      "text/plain": [
       "<Figure size 720x576 with 1 Axes>"
      ]
     },
     "metadata": {
      "needs_background": "light"
     },
     "output_type": "display_data"
    }
   ],
   "source": [
    "plt.figure(figsize=(10,8))\n",
    "sns.countplot(x = 'NAME_INCOME_TYPE',data=ad,hue = 'TARGET')\n",
    "plt.title(\"Income Type of the Individuals w.r.t Target\")\n",
    "plt.xticks(rotation = 90)\n",
    "plt.show()"
   ]
  },
  {
   "cell_type": "markdown",
   "id": "75e97921",
   "metadata": {},
   "source": [
    "-- Since DAYS_BIRTH is not in the correct format we need to change it"
   ]
  },
  {
   "cell_type": "code",
   "execution_count": 189,
   "id": "297badf5",
   "metadata": {},
   "outputs": [
    {
     "data": {
      "text/plain": [
       "0    -9461\n",
       "1   -16765\n",
       "2   -19046\n",
       "3   -19005\n",
       "4   -19932\n",
       "Name: DAYS_BIRTH, dtype: int64"
      ]
     },
     "execution_count": 189,
     "metadata": {},
     "output_type": "execute_result"
    }
   ],
   "source": [
    "ad['DAYS_BIRTH'].head()"
   ]
  },
  {
   "cell_type": "code",
   "execution_count": 190,
   "id": "a2716c82",
   "metadata": {},
   "outputs": [],
   "source": [
    "ad['DAYS_BIRTH'] = ad['DAYS_BIRTH'].apply(lambda x: round(abs(x/365)))"
   ]
  },
  {
   "cell_type": "code",
   "execution_count": 191,
   "id": "df910b1c",
   "metadata": {},
   "outputs": [
    {
     "data": {
      "text/plain": [
       "39    9023\n",
       "38    8792\n",
       "37    8727\n",
       "40    8602\n",
       "41    8494\n",
       "Name: DAYS_BIRTH, dtype: int64"
      ]
     },
     "execution_count": 191,
     "metadata": {},
     "output_type": "execute_result"
    }
   ],
   "source": [
    "ad['DAYS_BIRTH'].value_counts().head()"
   ]
  },
  {
   "cell_type": "code",
   "execution_count": 194,
   "id": "c8e1fbf7",
   "metadata": {},
   "outputs": [
    {
     "data": {
      "image/png": "[encoded data removed]",
      "text/plain": [
       "<Figure size 720x360 with 1 Axes>"
      ]
     },
     "metadata": {
      "needs_background": "light"
     },
     "output_type": "display_data"
    }
   ],
   "source": [
    "plt.figure(figsize=(10,5))\n",
    "sns.distplot(ad['DAYS_BIRTH'],bins = 20,hist=False)\n",
    "plt.title(\"Distribution of Age\")\n",
    "plt.show()"
   ]
  },
  {
   "cell_type": "code",
   "execution_count": null,
   "id": "0a131bc9",
   "metadata": {},
   "outputs": [],
   "source": []
  },
  {
   "cell_type": "code",
   "execution_count": null,
   "id": "172c4b6a",
   "metadata": {},
   "outputs": [],
   "source": []
  },
  {
   "cell_type": "code",
   "execution_count": null,
   "id": "894cb66a",
   "metadata": {},
   "outputs": [],
   "source": []
  },
  {
   "cell_type": "code",
   "execution_count": null,
   "id": "de69f719",
   "metadata": {},
   "outputs": [],
   "source": []
  },
  {
   "cell_type": "code",
   "execution_count": null,
   "id": "da981670",
   "metadata": {},
   "outputs": [],
   "source": []
  },
  {
   "cell_type": "code",
   "execution_count": null,
   "id": "d58c2a3e",
   "metadata": {},
   "outputs": [],
   "source": []
  },
  {
   "cell_type": "code",
   "execution_count": null,
   "id": "19d6eec7",
   "metadata": {},
   "outputs": [],
   "source": []
  },
  {
   "cell_type": "code",
   "execution_count": null,
   "id": "cef4cf34",
   "metadata": {},
   "outputs": [],
   "source": []
  },
  {
   "cell_type": "code",
   "execution_count": null,
   "id": "c81ed9a1",
   "metadata": {},
   "outputs": [],
   "source": []
  },
  {
   "cell_type": "code",
   "execution_count": null,
   "id": "7b2ff292",
   "metadata": {},
   "outputs": [],
   "source": []
  },
  {
   "cell_type": "code",
   "execution_count": null,
   "id": "a7bd07b9",
   "metadata": {},
   "outputs": [],
   "source": []
  },
  {
   "cell_type": "code",
   "execution_count": null,
   "id": "03b586ce",
   "metadata": {},
   "outputs": [],
   "source": []
  },
  {
   "cell_type": "code",
   "execution_count": null,
   "id": "12ba1be0",
   "metadata": {},
   "outputs": [],
   "source": []
  },
  {
   "cell_type": "code",
   "execution_count": null,
   "id": "4edbd7f2",
   "metadata": {},
   "outputs": [],
   "source": []
  },
  {
   "cell_type": "code",
   "execution_count": null,
   "id": "659908a6",
   "metadata": {},
   "outputs": [],
   "source": []
  },
  {
   "cell_type": "code",
   "execution_count": null,
   "id": "e57c1bd6",
   "metadata": {},
   "outputs": [],
   "source": []
  },
  {
   "cell_type": "code",
   "execution_count": null,
   "id": "80e2b929",
   "metadata": {},
   "outputs": [],
   "source": []
  },
  {
   "cell_type": "code",
   "execution_count": null,
   "id": "a252e8c4",
   "metadata": {},
   "outputs": [],
   "source": []
  },
  {
   "cell_type": "code",
   "execution_count": null,
   "id": "408ca802",
   "metadata": {},
   "outputs": [],
   "source": []
  },
  {
   "cell_type": "code",
   "execution_count": null,
   "id": "a8838d70",
   "metadata": {},
   "outputs": [],
   "source": []
  },
  {
   "cell_type": "code",
   "execution_count": null,
   "id": "25d31626",
   "metadata": {},
   "outputs": [],
   "source": []
  },
  {
   "cell_type": "code",
   "execution_count": null,
   "id": "99816b64",
   "metadata": {},
   "outputs": [],
   "source": []
  },
  {
   "cell_type": "code",
   "execution_count": null,
   "id": "7ba8aeb7",
   "metadata": {},
   "outputs": [],
   "source": []
  },
  {
   "cell_type": "code",
   "execution_count": null,
   "id": "9a007fc9",
   "metadata": {},
   "outputs": [],
   "source": []
  },
  {
   "cell_type": "code",
   "execution_count": null,
   "id": "1248bc9c",
   "metadata": {},
   "outputs": [],
   "source": []
  },
  {
   "cell_type": "code",
   "execution_count": null,
   "id": "5af03d3c",
   "metadata": {},
   "outputs": [
    {
     "data": {
      "application/javascript": [
       "window.require && require([\"base/js/namespace\"],function(Jupyter){Jupyter.notebook.save_checkpoint()})"
      ],
      "text/plain": [
       "<IPython.core.display.Javascript object>"
      ]
     },
     "metadata": {},
     "output_type": "display_data"
    }
   ],
   "source": [
    "jovian.commit()"
   ]
  },
  {
   "cell_type": "code",
   "execution_count": null,
   "id": "be448a93",
   "metadata": {},
   "outputs": [],
   "source": []
  }
 ],
 "metadata": {
  "language_info": {
   "codemirror_mode": {
    "name": "ipython",
    "version": 3
   },
   "file_extension": ".py",
   "mimetype": "text/x-python",
   "name": "python",
   "nbconvert_exporter": "python",
   "pygments_lexer": "ipython3",
   "version": "3.9.7"
  }
 },
 "nbformat": 4,
 "nbformat_minor": 5
}